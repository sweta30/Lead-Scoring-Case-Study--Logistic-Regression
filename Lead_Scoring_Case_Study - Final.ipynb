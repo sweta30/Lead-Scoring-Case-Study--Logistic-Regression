{
 "cells": [
  {
   "cell_type": "markdown",
   "id": "0bc0aa3a",
   "metadata": {},
   "source": [
    "# Lead Scoring  for X Education ( Logistic Regression Case Study )"
   ]
  },
  {
   "cell_type": "markdown",
   "id": "12439ec1",
   "metadata": {},
   "source": [
    "# 1. Importing libaries"
   ]
  },
  {
   "cell_type": "code",
   "execution_count": 1,
   "id": "c69f3496",
   "metadata": {},
   "outputs": [],
   "source": [
    "#Importing important libraries \n",
    "\n",
    "import numpy as np\n",
    "import pandas as pd\n",
    "import matplotlib.pyplot as plt\n",
    "import seaborn as sns"
   ]
  },
  {
   "cell_type": "code",
   "execution_count": 2,
   "id": "288dc4ec",
   "metadata": {},
   "outputs": [],
   "source": [
    "# Importing warnings\n",
    "\n",
    "import warnings\n",
    "warnings.filterwarnings('ignore')"
   ]
  },
  {
   "cell_type": "code",
   "execution_count": 3,
   "id": "4f417882",
   "metadata": {},
   "outputs": [],
   "source": [
    "# Setting max columns and colwidth \n",
    "\n",
    "pd.set_option('display.max_columns',100)\n",
    "pd.set_option('display.max_colwidth', None)"
   ]
  },
  {
   "cell_type": "code",
   "execution_count": 4,
   "id": "5d668718",
   "metadata": {},
   "outputs": [],
   "source": [
    "# importing libraries for modeling\n",
    "\n",
    "import statsmodels.api as sm\n",
    "from statsmodels.stats.outliers_influence import variance_inflation_factor\n",
    "\n",
    "import sklearn\n",
    "from sklearn.model_selection import train_test_split\n",
    "from sklearn.preprocessing import StandardScaler\n",
    "from sklearn.linear_model import LogisticRegression\n",
    "from sklearn.feature_selection import RFE\n",
    "from sklearn.metrics import confusion_matrix,precision_recall_curve\n",
    "from sklearn.metrics import precision_score,recall_score\n"
   ]
  },
  {
   "cell_type": "markdown",
   "id": "6265a6de",
   "metadata": {},
   "source": [
    "# 2. Reading data set"
   ]
  },
  {
   "cell_type": "code",
   "execution_count": 5,
   "id": "0a2e4335",
   "metadata": {},
   "outputs": [
    {
     "data": {
      "text/html": [
       "<div>\n",
       "<style scoped>\n",
       "    .dataframe tbody tr th:only-of-type {\n",
       "        vertical-align: middle;\n",
       "    }\n",
       "\n",
       "    .dataframe tbody tr th {\n",
       "        vertical-align: top;\n",
       "    }\n",
       "\n",
       "    .dataframe thead th {\n",
       "        text-align: right;\n",
       "    }\n",
       "</style>\n",
       "<table border=\"1\" class=\"dataframe\">\n",
       "  <thead>\n",
       "    <tr style=\"text-align: right;\">\n",
       "      <th></th>\n",
       "      <th>Prospect ID</th>\n",
       "      <th>Lead Number</th>\n",
       "      <th>Lead Origin</th>\n",
       "      <th>Lead Source</th>\n",
       "      <th>Do Not Email</th>\n",
       "      <th>Do Not Call</th>\n",
       "      <th>Converted</th>\n",
       "      <th>TotalVisits</th>\n",
       "      <th>Total Time Spent on Website</th>\n",
       "      <th>Page Views Per Visit</th>\n",
       "      <th>Last Activity</th>\n",
       "      <th>Country</th>\n",
       "      <th>Specialization</th>\n",
       "      <th>How did you hear about X Education</th>\n",
       "      <th>What is your current occupation</th>\n",
       "      <th>What matters most to you in choosing a course</th>\n",
       "      <th>Search</th>\n",
       "      <th>Magazine</th>\n",
       "      <th>Newspaper Article</th>\n",
       "      <th>X Education Forums</th>\n",
       "      <th>Newspaper</th>\n",
       "      <th>Digital Advertisement</th>\n",
       "      <th>Through Recommendations</th>\n",
       "      <th>Receive More Updates About Our Courses</th>\n",
       "      <th>Tags</th>\n",
       "      <th>Lead Quality</th>\n",
       "      <th>Update me on Supply Chain Content</th>\n",
       "      <th>Get updates on DM Content</th>\n",
       "      <th>Lead Profile</th>\n",
       "      <th>City</th>\n",
       "      <th>Asymmetrique Activity Index</th>\n",
       "      <th>Asymmetrique Profile Index</th>\n",
       "      <th>Asymmetrique Activity Score</th>\n",
       "      <th>Asymmetrique Profile Score</th>\n",
       "      <th>I agree to pay the amount through cheque</th>\n",
       "      <th>A free copy of Mastering The Interview</th>\n",
       "      <th>Last Notable Activity</th>\n",
       "    </tr>\n",
       "  </thead>\n",
       "  <tbody>\n",
       "    <tr>\n",
       "      <th>0</th>\n",
       "      <td>7927b2df-8bba-4d29-b9a2-b6e0beafe620</td>\n",
       "      <td>660737</td>\n",
       "      <td>API</td>\n",
       "      <td>Olark Chat</td>\n",
       "      <td>No</td>\n",
       "      <td>No</td>\n",
       "      <td>0</td>\n",
       "      <td>0.0</td>\n",
       "      <td>0</td>\n",
       "      <td>0.0</td>\n",
       "      <td>Page Visited on Website</td>\n",
       "      <td>NaN</td>\n",
       "      <td>Select</td>\n",
       "      <td>Select</td>\n",
       "      <td>Unemployed</td>\n",
       "      <td>Better Career Prospects</td>\n",
       "      <td>No</td>\n",
       "      <td>No</td>\n",
       "      <td>No</td>\n",
       "      <td>No</td>\n",
       "      <td>No</td>\n",
       "      <td>No</td>\n",
       "      <td>No</td>\n",
       "      <td>No</td>\n",
       "      <td>Interested in other courses</td>\n",
       "      <td>Low in Relevance</td>\n",
       "      <td>No</td>\n",
       "      <td>No</td>\n",
       "      <td>Select</td>\n",
       "      <td>Select</td>\n",
       "      <td>02.Medium</td>\n",
       "      <td>02.Medium</td>\n",
       "      <td>15.0</td>\n",
       "      <td>15.0</td>\n",
       "      <td>No</td>\n",
       "      <td>No</td>\n",
       "      <td>Modified</td>\n",
       "    </tr>\n",
       "    <tr>\n",
       "      <th>1</th>\n",
       "      <td>2a272436-5132-4136-86fa-dcc88c88f482</td>\n",
       "      <td>660728</td>\n",
       "      <td>API</td>\n",
       "      <td>Organic Search</td>\n",
       "      <td>No</td>\n",
       "      <td>No</td>\n",
       "      <td>0</td>\n",
       "      <td>5.0</td>\n",
       "      <td>674</td>\n",
       "      <td>2.5</td>\n",
       "      <td>Email Opened</td>\n",
       "      <td>India</td>\n",
       "      <td>Select</td>\n",
       "      <td>Select</td>\n",
       "      <td>Unemployed</td>\n",
       "      <td>Better Career Prospects</td>\n",
       "      <td>No</td>\n",
       "      <td>No</td>\n",
       "      <td>No</td>\n",
       "      <td>No</td>\n",
       "      <td>No</td>\n",
       "      <td>No</td>\n",
       "      <td>No</td>\n",
       "      <td>No</td>\n",
       "      <td>Ringing</td>\n",
       "      <td>NaN</td>\n",
       "      <td>No</td>\n",
       "      <td>No</td>\n",
       "      <td>Select</td>\n",
       "      <td>Select</td>\n",
       "      <td>02.Medium</td>\n",
       "      <td>02.Medium</td>\n",
       "      <td>15.0</td>\n",
       "      <td>15.0</td>\n",
       "      <td>No</td>\n",
       "      <td>No</td>\n",
       "      <td>Email Opened</td>\n",
       "    </tr>\n",
       "    <tr>\n",
       "      <th>2</th>\n",
       "      <td>8cc8c611-a219-4f35-ad23-fdfd2656bd8a</td>\n",
       "      <td>660727</td>\n",
       "      <td>Landing Page Submission</td>\n",
       "      <td>Direct Traffic</td>\n",
       "      <td>No</td>\n",
       "      <td>No</td>\n",
       "      <td>1</td>\n",
       "      <td>2.0</td>\n",
       "      <td>1532</td>\n",
       "      <td>2.0</td>\n",
       "      <td>Email Opened</td>\n",
       "      <td>India</td>\n",
       "      <td>Business Administration</td>\n",
       "      <td>Select</td>\n",
       "      <td>Student</td>\n",
       "      <td>Better Career Prospects</td>\n",
       "      <td>No</td>\n",
       "      <td>No</td>\n",
       "      <td>No</td>\n",
       "      <td>No</td>\n",
       "      <td>No</td>\n",
       "      <td>No</td>\n",
       "      <td>No</td>\n",
       "      <td>No</td>\n",
       "      <td>Will revert after reading the email</td>\n",
       "      <td>Might be</td>\n",
       "      <td>No</td>\n",
       "      <td>No</td>\n",
       "      <td>Potential Lead</td>\n",
       "      <td>Mumbai</td>\n",
       "      <td>02.Medium</td>\n",
       "      <td>01.High</td>\n",
       "      <td>14.0</td>\n",
       "      <td>20.0</td>\n",
       "      <td>No</td>\n",
       "      <td>Yes</td>\n",
       "      <td>Email Opened</td>\n",
       "    </tr>\n",
       "    <tr>\n",
       "      <th>3</th>\n",
       "      <td>0cc2df48-7cf4-4e39-9de9-19797f9b38cc</td>\n",
       "      <td>660719</td>\n",
       "      <td>Landing Page Submission</td>\n",
       "      <td>Direct Traffic</td>\n",
       "      <td>No</td>\n",
       "      <td>No</td>\n",
       "      <td>0</td>\n",
       "      <td>1.0</td>\n",
       "      <td>305</td>\n",
       "      <td>1.0</td>\n",
       "      <td>Unreachable</td>\n",
       "      <td>India</td>\n",
       "      <td>Media and Advertising</td>\n",
       "      <td>Word Of Mouth</td>\n",
       "      <td>Unemployed</td>\n",
       "      <td>Better Career Prospects</td>\n",
       "      <td>No</td>\n",
       "      <td>No</td>\n",
       "      <td>No</td>\n",
       "      <td>No</td>\n",
       "      <td>No</td>\n",
       "      <td>No</td>\n",
       "      <td>No</td>\n",
       "      <td>No</td>\n",
       "      <td>Ringing</td>\n",
       "      <td>Not Sure</td>\n",
       "      <td>No</td>\n",
       "      <td>No</td>\n",
       "      <td>Select</td>\n",
       "      <td>Mumbai</td>\n",
       "      <td>02.Medium</td>\n",
       "      <td>01.High</td>\n",
       "      <td>13.0</td>\n",
       "      <td>17.0</td>\n",
       "      <td>No</td>\n",
       "      <td>No</td>\n",
       "      <td>Modified</td>\n",
       "    </tr>\n",
       "    <tr>\n",
       "      <th>4</th>\n",
       "      <td>3256f628-e534-4826-9d63-4a8b88782852</td>\n",
       "      <td>660681</td>\n",
       "      <td>Landing Page Submission</td>\n",
       "      <td>Google</td>\n",
       "      <td>No</td>\n",
       "      <td>No</td>\n",
       "      <td>1</td>\n",
       "      <td>2.0</td>\n",
       "      <td>1428</td>\n",
       "      <td>1.0</td>\n",
       "      <td>Converted to Lead</td>\n",
       "      <td>India</td>\n",
       "      <td>Select</td>\n",
       "      <td>Other</td>\n",
       "      <td>Unemployed</td>\n",
       "      <td>Better Career Prospects</td>\n",
       "      <td>No</td>\n",
       "      <td>No</td>\n",
       "      <td>No</td>\n",
       "      <td>No</td>\n",
       "      <td>No</td>\n",
       "      <td>No</td>\n",
       "      <td>No</td>\n",
       "      <td>No</td>\n",
       "      <td>Will revert after reading the email</td>\n",
       "      <td>Might be</td>\n",
       "      <td>No</td>\n",
       "      <td>No</td>\n",
       "      <td>Select</td>\n",
       "      <td>Mumbai</td>\n",
       "      <td>02.Medium</td>\n",
       "      <td>01.High</td>\n",
       "      <td>15.0</td>\n",
       "      <td>18.0</td>\n",
       "      <td>No</td>\n",
       "      <td>No</td>\n",
       "      <td>Modified</td>\n",
       "    </tr>\n",
       "  </tbody>\n",
       "</table>\n",
       "</div>"
      ],
      "text/plain": [
       "                            Prospect ID  Lead Number              Lead Origin  \\\n",
       "0  7927b2df-8bba-4d29-b9a2-b6e0beafe620       660737                      API   \n",
       "1  2a272436-5132-4136-86fa-dcc88c88f482       660728                      API   \n",
       "2  8cc8c611-a219-4f35-ad23-fdfd2656bd8a       660727  Landing Page Submission   \n",
       "3  0cc2df48-7cf4-4e39-9de9-19797f9b38cc       660719  Landing Page Submission   \n",
       "4  3256f628-e534-4826-9d63-4a8b88782852       660681  Landing Page Submission   \n",
       "\n",
       "      Lead Source Do Not Email Do Not Call  Converted  TotalVisits  \\\n",
       "0      Olark Chat           No          No          0          0.0   \n",
       "1  Organic Search           No          No          0          5.0   \n",
       "2  Direct Traffic           No          No          1          2.0   \n",
       "3  Direct Traffic           No          No          0          1.0   \n",
       "4          Google           No          No          1          2.0   \n",
       "\n",
       "   Total Time Spent on Website  Page Views Per Visit            Last Activity  \\\n",
       "0                            0                   0.0  Page Visited on Website   \n",
       "1                          674                   2.5             Email Opened   \n",
       "2                         1532                   2.0             Email Opened   \n",
       "3                          305                   1.0              Unreachable   \n",
       "4                         1428                   1.0        Converted to Lead   \n",
       "\n",
       "  Country           Specialization How did you hear about X Education  \\\n",
       "0     NaN                   Select                             Select   \n",
       "1   India                   Select                             Select   \n",
       "2   India  Business Administration                             Select   \n",
       "3   India    Media and Advertising                      Word Of Mouth   \n",
       "4   India                   Select                              Other   \n",
       "\n",
       "  What is your current occupation  \\\n",
       "0                      Unemployed   \n",
       "1                      Unemployed   \n",
       "2                         Student   \n",
       "3                      Unemployed   \n",
       "4                      Unemployed   \n",
       "\n",
       "  What matters most to you in choosing a course Search Magazine  \\\n",
       "0                       Better Career Prospects     No       No   \n",
       "1                       Better Career Prospects     No       No   \n",
       "2                       Better Career Prospects     No       No   \n",
       "3                       Better Career Prospects     No       No   \n",
       "4                       Better Career Prospects     No       No   \n",
       "\n",
       "  Newspaper Article X Education Forums Newspaper Digital Advertisement  \\\n",
       "0                No                 No        No                    No   \n",
       "1                No                 No        No                    No   \n",
       "2                No                 No        No                    No   \n",
       "3                No                 No        No                    No   \n",
       "4                No                 No        No                    No   \n",
       "\n",
       "  Through Recommendations Receive More Updates About Our Courses  \\\n",
       "0                      No                                     No   \n",
       "1                      No                                     No   \n",
       "2                      No                                     No   \n",
       "3                      No                                     No   \n",
       "4                      No                                     No   \n",
       "\n",
       "                                  Tags      Lead Quality  \\\n",
       "0          Interested in other courses  Low in Relevance   \n",
       "1                              Ringing               NaN   \n",
       "2  Will revert after reading the email          Might be   \n",
       "3                              Ringing          Not Sure   \n",
       "4  Will revert after reading the email          Might be   \n",
       "\n",
       "  Update me on Supply Chain Content Get updates on DM Content    Lead Profile  \\\n",
       "0                                No                        No          Select   \n",
       "1                                No                        No          Select   \n",
       "2                                No                        No  Potential Lead   \n",
       "3                                No                        No          Select   \n",
       "4                                No                        No          Select   \n",
       "\n",
       "     City Asymmetrique Activity Index Asymmetrique Profile Index  \\\n",
       "0  Select                   02.Medium                  02.Medium   \n",
       "1  Select                   02.Medium                  02.Medium   \n",
       "2  Mumbai                   02.Medium                    01.High   \n",
       "3  Mumbai                   02.Medium                    01.High   \n",
       "4  Mumbai                   02.Medium                    01.High   \n",
       "\n",
       "   Asymmetrique Activity Score  Asymmetrique Profile Score  \\\n",
       "0                         15.0                        15.0   \n",
       "1                         15.0                        15.0   \n",
       "2                         14.0                        20.0   \n",
       "3                         13.0                        17.0   \n",
       "4                         15.0                        18.0   \n",
       "\n",
       "  I agree to pay the amount through cheque  \\\n",
       "0                                       No   \n",
       "1                                       No   \n",
       "2                                       No   \n",
       "3                                       No   \n",
       "4                                       No   \n",
       "\n",
       "  A free copy of Mastering The Interview Last Notable Activity  \n",
       "0                                     No              Modified  \n",
       "1                                     No          Email Opened  \n",
       "2                                    Yes          Email Opened  \n",
       "3                                     No              Modified  \n",
       "4                                     No              Modified  "
      ]
     },
     "execution_count": 5,
     "metadata": {},
     "output_type": "execute_result"
    }
   ],
   "source": [
    "#Importing dataset \n",
    "\n",
    "leads_df=pd.read_csv('Leads.csv')\n",
    "leads_df.head()"
   ]
  },
  {
   "cell_type": "code",
   "execution_count": 6,
   "id": "4f30664b",
   "metadata": {},
   "outputs": [
    {
     "data": {
      "text/plain": [
       "(9240, 37)"
      ]
     },
     "execution_count": 6,
     "metadata": {},
     "output_type": "execute_result"
    }
   ],
   "source": [
    "#Checking shape of dataframe\n",
    "\n",
    "leads_df.shape"
   ]
  },
  {
   "cell_type": "code",
   "execution_count": 7,
   "id": "1686bcdf",
   "metadata": {},
   "outputs": [
    {
     "name": "stdout",
     "output_type": "stream",
     "text": [
      "<class 'pandas.core.frame.DataFrame'>\n",
      "RangeIndex: 9240 entries, 0 to 9239\n",
      "Data columns (total 37 columns):\n",
      " #   Column                                         Non-Null Count  Dtype  \n",
      "---  ------                                         --------------  -----  \n",
      " 0   Prospect ID                                    9240 non-null   object \n",
      " 1   Lead Number                                    9240 non-null   int64  \n",
      " 2   Lead Origin                                    9240 non-null   object \n",
      " 3   Lead Source                                    9204 non-null   object \n",
      " 4   Do Not Email                                   9240 non-null   object \n",
      " 5   Do Not Call                                    9240 non-null   object \n",
      " 6   Converted                                      9240 non-null   int64  \n",
      " 7   TotalVisits                                    9103 non-null   float64\n",
      " 8   Total Time Spent on Website                    9240 non-null   int64  \n",
      " 9   Page Views Per Visit                           9103 non-null   float64\n",
      " 10  Last Activity                                  9137 non-null   object \n",
      " 11  Country                                        6779 non-null   object \n",
      " 12  Specialization                                 7802 non-null   object \n",
      " 13  How did you hear about X Education             7033 non-null   object \n",
      " 14  What is your current occupation                6550 non-null   object \n",
      " 15  What matters most to you in choosing a course  6531 non-null   object \n",
      " 16  Search                                         9240 non-null   object \n",
      " 17  Magazine                                       9240 non-null   object \n",
      " 18  Newspaper Article                              9240 non-null   object \n",
      " 19  X Education Forums                             9240 non-null   object \n",
      " 20  Newspaper                                      9240 non-null   object \n",
      " 21  Digital Advertisement                          9240 non-null   object \n",
      " 22  Through Recommendations                        9240 non-null   object \n",
      " 23  Receive More Updates About Our Courses         9240 non-null   object \n",
      " 24  Tags                                           5887 non-null   object \n",
      " 25  Lead Quality                                   4473 non-null   object \n",
      " 26  Update me on Supply Chain Content              9240 non-null   object \n",
      " 27  Get updates on DM Content                      9240 non-null   object \n",
      " 28  Lead Profile                                   6531 non-null   object \n",
      " 29  City                                           7820 non-null   object \n",
      " 30  Asymmetrique Activity Index                    5022 non-null   object \n",
      " 31  Asymmetrique Profile Index                     5022 non-null   object \n",
      " 32  Asymmetrique Activity Score                    5022 non-null   float64\n",
      " 33  Asymmetrique Profile Score                     5022 non-null   float64\n",
      " 34  I agree to pay the amount through cheque       9240 non-null   object \n",
      " 35  A free copy of Mastering The Interview         9240 non-null   object \n",
      " 36  Last Notable Activity                          9240 non-null   object \n",
      "dtypes: float64(4), int64(3), object(30)\n",
      "memory usage: 2.6+ MB\n"
     ]
    }
   ],
   "source": [
    "# Checking columnwise information\n",
    "\n",
    "leads_df.info()"
   ]
  },
  {
   "cell_type": "code",
   "execution_count": 8,
   "id": "0bfe8444",
   "metadata": {},
   "outputs": [
    {
     "data": {
      "text/html": [
       "<div>\n",
       "<style scoped>\n",
       "    .dataframe tbody tr th:only-of-type {\n",
       "        vertical-align: middle;\n",
       "    }\n",
       "\n",
       "    .dataframe tbody tr th {\n",
       "        vertical-align: top;\n",
       "    }\n",
       "\n",
       "    .dataframe thead th {\n",
       "        text-align: right;\n",
       "    }\n",
       "</style>\n",
       "<table border=\"1\" class=\"dataframe\">\n",
       "  <thead>\n",
       "    <tr style=\"text-align: right;\">\n",
       "      <th></th>\n",
       "      <th>Variables</th>\n",
       "      <th>Description</th>\n",
       "    </tr>\n",
       "  </thead>\n",
       "  <tbody>\n",
       "    <tr>\n",
       "      <th>0</th>\n",
       "      <td>Prospect ID</td>\n",
       "      <td>A unique ID with which the customer is identified.</td>\n",
       "    </tr>\n",
       "    <tr>\n",
       "      <th>1</th>\n",
       "      <td>Lead Number</td>\n",
       "      <td>A lead number assigned to each lead procured.</td>\n",
       "    </tr>\n",
       "    <tr>\n",
       "      <th>2</th>\n",
       "      <td>Lead Origin</td>\n",
       "      <td>The origin identifier with which the customer was identified to be a lead. Includes API, Landing Page Submission, etc.</td>\n",
       "    </tr>\n",
       "    <tr>\n",
       "      <th>3</th>\n",
       "      <td>Lead Source</td>\n",
       "      <td>The source of the lead. Includes Google, Organic Search, Olark Chat, etc.</td>\n",
       "    </tr>\n",
       "    <tr>\n",
       "      <th>4</th>\n",
       "      <td>Do Not Email</td>\n",
       "      <td>An indicator variable selected by the customer wherein they select whether of not they want to be emailed about the course or not.</td>\n",
       "    </tr>\n",
       "    <tr>\n",
       "      <th>5</th>\n",
       "      <td>Do Not Call</td>\n",
       "      <td>An indicator variable selected by the customer wherein they select whether of not they want to be called about the course or not.</td>\n",
       "    </tr>\n",
       "    <tr>\n",
       "      <th>6</th>\n",
       "      <td>Converted</td>\n",
       "      <td>The target variable. Indicates whether a lead has been successfully converted or not.</td>\n",
       "    </tr>\n",
       "    <tr>\n",
       "      <th>7</th>\n",
       "      <td>TotalVisits</td>\n",
       "      <td>The total number of visits made by the customer on the website.</td>\n",
       "    </tr>\n",
       "    <tr>\n",
       "      <th>8</th>\n",
       "      <td>Total Time Spent on Website</td>\n",
       "      <td>The total time spent by the customer on the website.</td>\n",
       "    </tr>\n",
       "    <tr>\n",
       "      <th>9</th>\n",
       "      <td>Page Views Per Visit</td>\n",
       "      <td>Average number of pages on the website viewed during the visits.</td>\n",
       "    </tr>\n",
       "    <tr>\n",
       "      <th>10</th>\n",
       "      <td>Last Activity</td>\n",
       "      <td>Last activity performed by the customer. Includes Email Opened, Olark Chat Conversation, etc.</td>\n",
       "    </tr>\n",
       "    <tr>\n",
       "      <th>11</th>\n",
       "      <td>Country</td>\n",
       "      <td>The country of the customer.</td>\n",
       "    </tr>\n",
       "    <tr>\n",
       "      <th>12</th>\n",
       "      <td>Specialization</td>\n",
       "      <td>The industry domain in which the customer worked before. Includes the level 'Select Specialization' which means the customer had not selected this option while filling the form.</td>\n",
       "    </tr>\n",
       "    <tr>\n",
       "      <th>13</th>\n",
       "      <td>How did you hear about X Education</td>\n",
       "      <td>The source from which the customer heard about X Education.</td>\n",
       "    </tr>\n",
       "    <tr>\n",
       "      <th>14</th>\n",
       "      <td>What is your current occupation</td>\n",
       "      <td>Indicates whether the customer is a student, umemployed or employed.</td>\n",
       "    </tr>\n",
       "    <tr>\n",
       "      <th>15</th>\n",
       "      <td>What matters most to you in choosing this course</td>\n",
       "      <td>An option selected by the customer indicating what is their main motto behind doing this course.</td>\n",
       "    </tr>\n",
       "    <tr>\n",
       "      <th>16</th>\n",
       "      <td>Search</td>\n",
       "      <td>Indicating whether the customer had seen the ad in any of the listed items.</td>\n",
       "    </tr>\n",
       "    <tr>\n",
       "      <th>17</th>\n",
       "      <td>Magazine</td>\n",
       "      <td>NaN</td>\n",
       "    </tr>\n",
       "    <tr>\n",
       "      <th>18</th>\n",
       "      <td>Newspaper Article</td>\n",
       "      <td>NaN</td>\n",
       "    </tr>\n",
       "    <tr>\n",
       "      <th>19</th>\n",
       "      <td>X Education Forums</td>\n",
       "      <td>NaN</td>\n",
       "    </tr>\n",
       "    <tr>\n",
       "      <th>20</th>\n",
       "      <td>Newspaper</td>\n",
       "      <td>NaN</td>\n",
       "    </tr>\n",
       "    <tr>\n",
       "      <th>21</th>\n",
       "      <td>Digital Advertisement</td>\n",
       "      <td>NaN</td>\n",
       "    </tr>\n",
       "    <tr>\n",
       "      <th>22</th>\n",
       "      <td>Through Recommendations</td>\n",
       "      <td>Indicates whether the customer came in through recommendations.</td>\n",
       "    </tr>\n",
       "    <tr>\n",
       "      <th>23</th>\n",
       "      <td>Receive More Updates About Our Courses</td>\n",
       "      <td>Indicates whether the customer chose to receive more updates about the courses.</td>\n",
       "    </tr>\n",
       "    <tr>\n",
       "      <th>24</th>\n",
       "      <td>Tags</td>\n",
       "      <td>Tags assigned to customers indicating the current status of the lead.</td>\n",
       "    </tr>\n",
       "    <tr>\n",
       "      <th>25</th>\n",
       "      <td>Lead Quality</td>\n",
       "      <td>Indicates the quality of lead based on the data and intuition the the employee who has been assigned to the lead.</td>\n",
       "    </tr>\n",
       "    <tr>\n",
       "      <th>26</th>\n",
       "      <td>Update me on Supply Chain Content</td>\n",
       "      <td>Indicates whether the customer wants updates on the Supply Chain Content.</td>\n",
       "    </tr>\n",
       "    <tr>\n",
       "      <th>27</th>\n",
       "      <td>Get updates on DM Content</td>\n",
       "      <td>Indicates whether the customer wants updates on the DM Content.</td>\n",
       "    </tr>\n",
       "    <tr>\n",
       "      <th>28</th>\n",
       "      <td>Lead Profile</td>\n",
       "      <td>A lead level assigned to each customer based on their profile.</td>\n",
       "    </tr>\n",
       "    <tr>\n",
       "      <th>29</th>\n",
       "      <td>City</td>\n",
       "      <td>The city of the customer.</td>\n",
       "    </tr>\n",
       "    <tr>\n",
       "      <th>30</th>\n",
       "      <td>Asymmetrique Activity Index</td>\n",
       "      <td>An index and score assigned to each customer based on their activity and their profile</td>\n",
       "    </tr>\n",
       "    <tr>\n",
       "      <th>31</th>\n",
       "      <td>Asymmetrique Profile Index</td>\n",
       "      <td>NaN</td>\n",
       "    </tr>\n",
       "    <tr>\n",
       "      <th>32</th>\n",
       "      <td>Asymmetrique Activity Score</td>\n",
       "      <td>NaN</td>\n",
       "    </tr>\n",
       "    <tr>\n",
       "      <th>33</th>\n",
       "      <td>Asymmetrique Profile Score</td>\n",
       "      <td>NaN</td>\n",
       "    </tr>\n",
       "    <tr>\n",
       "      <th>34</th>\n",
       "      <td>I agree to pay the amount through cheque</td>\n",
       "      <td>Indicates whether the customer has agreed to pay the amount through cheque or not.</td>\n",
       "    </tr>\n",
       "    <tr>\n",
       "      <th>35</th>\n",
       "      <td>a free copy of Mastering The Interview</td>\n",
       "      <td>Indicates whether the customer wants a free copy of 'Mastering the Interview' or not.</td>\n",
       "    </tr>\n",
       "    <tr>\n",
       "      <th>36</th>\n",
       "      <td>Last Notable Activity</td>\n",
       "      <td>The last notable acitivity performed by the student.</td>\n",
       "    </tr>\n",
       "  </tbody>\n",
       "</table>\n",
       "</div>"
      ],
      "text/plain": [
       "                                           Variables  \\\n",
       "0                                        Prospect ID   \n",
       "1                                        Lead Number   \n",
       "2                                        Lead Origin   \n",
       "3                                        Lead Source   \n",
       "4                                       Do Not Email   \n",
       "5                                        Do Not Call   \n",
       "6                                          Converted   \n",
       "7                                        TotalVisits   \n",
       "8                        Total Time Spent on Website   \n",
       "9                               Page Views Per Visit   \n",
       "10                                     Last Activity   \n",
       "11                                           Country   \n",
       "12                                    Specialization   \n",
       "13                How did you hear about X Education   \n",
       "14                   What is your current occupation   \n",
       "15  What matters most to you in choosing this course   \n",
       "16                                            Search   \n",
       "17                                          Magazine   \n",
       "18                                 Newspaper Article   \n",
       "19                                X Education Forums   \n",
       "20                                         Newspaper   \n",
       "21                             Digital Advertisement   \n",
       "22                           Through Recommendations   \n",
       "23            Receive More Updates About Our Courses   \n",
       "24                                              Tags   \n",
       "25                                      Lead Quality   \n",
       "26                 Update me on Supply Chain Content   \n",
       "27                         Get updates on DM Content   \n",
       "28                                      Lead Profile   \n",
       "29                                              City   \n",
       "30                       Asymmetrique Activity Index   \n",
       "31                        Asymmetrique Profile Index   \n",
       "32                       Asymmetrique Activity Score   \n",
       "33                        Asymmetrique Profile Score   \n",
       "34          I agree to pay the amount through cheque   \n",
       "35            a free copy of Mastering The Interview   \n",
       "36                             Last Notable Activity   \n",
       "\n",
       "                                                                                                                                                                          Description  \n",
       "0                                                                                                                                  A unique ID with which the customer is identified.  \n",
       "1                                                                                                                                       A lead number assigned to each lead procured.  \n",
       "2                                                              The origin identifier with which the customer was identified to be a lead. Includes API, Landing Page Submission, etc.  \n",
       "3                                                                                                           The source of the lead. Includes Google, Organic Search, Olark Chat, etc.  \n",
       "4                                                  An indicator variable selected by the customer wherein they select whether of not they want to be emailed about the course or not.  \n",
       "5                                                   An indicator variable selected by the customer wherein they select whether of not they want to be called about the course or not.  \n",
       "6                                                                                               The target variable. Indicates whether a lead has been successfully converted or not.  \n",
       "7                                                                                                                     The total number of visits made by the customer on the website.  \n",
       "8                                                                                                                                The total time spent by the customer on the website.  \n",
       "9                                                                                                                    Average number of pages on the website viewed during the visits.  \n",
       "10                                                                                      Last activity performed by the customer. Includes Email Opened, Olark Chat Conversation, etc.  \n",
       "11                                                                                                                                                       The country of the customer.  \n",
       "12  The industry domain in which the customer worked before. Includes the level 'Select Specialization' which means the customer had not selected this option while filling the form.  \n",
       "13                                                                                                                        The source from which the customer heard about X Education.  \n",
       "14                                                                                                               Indicates whether the customer is a student, umemployed or employed.  \n",
       "15                                                                                   An option selected by the customer indicating what is their main motto behind doing this course.  \n",
       "16                                                                                                        Indicating whether the customer had seen the ad in any of the listed items.  \n",
       "17                                                                                                                                                                                NaN  \n",
       "18                                                                                                                                                                                NaN  \n",
       "19                                                                                                                                                                                NaN  \n",
       "20                                                                                                                                                                                NaN  \n",
       "21                                                                                                                                                                                NaN  \n",
       "22                                                                                                                    Indicates whether the customer came in through recommendations.  \n",
       "23                                                                                                    Indicates whether the customer chose to receive more updates about the courses.  \n",
       "24                                                                                                              Tags assigned to customers indicating the current status of the lead.  \n",
       "25                                                                  Indicates the quality of lead based on the data and intuition the the employee who has been assigned to the lead.  \n",
       "26                                                                                                          Indicates whether the customer wants updates on the Supply Chain Content.  \n",
       "27                                                                                                                    Indicates whether the customer wants updates on the DM Content.  \n",
       "28                                                                                                                     A lead level assigned to each customer based on their profile.  \n",
       "29                                                                                                                                                          The city of the customer.  \n",
       "30                                                                                             An index and score assigned to each customer based on their activity and their profile  \n",
       "31                                                                                                                                                                                NaN  \n",
       "32                                                                                                                                                                                NaN  \n",
       "33                                                                                                                                                                                NaN  \n",
       "34                                                                                                 Indicates whether the customer has agreed to pay the amount through cheque or not.  \n",
       "35                                                                                              Indicates whether the customer wants a free copy of 'Mastering the Interview' or not.  \n",
       "36                                                                                                                               The last notable acitivity performed by the student.  "
      ]
     },
     "execution_count": 8,
     "metadata": {},
     "output_type": "execute_result"
    }
   ],
   "source": [
    "#understanding data dictionary\n",
    "\n",
    "dict_df=pd.read_excel('Leads Data Dictionary.xlsx',skiprows=[0],header=[1],usecols='B:C')\n",
    "dict_df"
   ]
  },
  {
   "cell_type": "code",
   "execution_count": 9,
   "id": "0412b507",
   "metadata": {},
   "outputs": [
    {
     "data": {
      "text/plain": [
       "Prospect ID                                         0\n",
       "Lead Number                                         0\n",
       "Lead Origin                                         0\n",
       "Lead Source                                        36\n",
       "Do Not Email                                        0\n",
       "Do Not Call                                         0\n",
       "Converted                                           0\n",
       "TotalVisits                                       137\n",
       "Total Time Spent on Website                         0\n",
       "Page Views Per Visit                              137\n",
       "Last Activity                                     103\n",
       "Country                                          2461\n",
       "Specialization                                   1438\n",
       "How did you hear about X Education               2207\n",
       "What is your current occupation                  2690\n",
       "What matters most to you in choosing a course    2709\n",
       "Search                                              0\n",
       "Magazine                                            0\n",
       "Newspaper Article                                   0\n",
       "X Education Forums                                  0\n",
       "Newspaper                                           0\n",
       "Digital Advertisement                               0\n",
       "Through Recommendations                             0\n",
       "Receive More Updates About Our Courses              0\n",
       "Tags                                             3353\n",
       "Lead Quality                                     4767\n",
       "Update me on Supply Chain Content                   0\n",
       "Get updates on DM Content                           0\n",
       "Lead Profile                                     2709\n",
       "City                                             1420\n",
       "Asymmetrique Activity Index                      4218\n",
       "Asymmetrique Profile Index                       4218\n",
       "Asymmetrique Activity Score                      4218\n",
       "Asymmetrique Profile Score                       4218\n",
       "I agree to pay the amount through cheque            0\n",
       "A free copy of Mastering The Interview              0\n",
       "Last Notable Activity                               0\n",
       "dtype: int64"
      ]
     },
     "execution_count": 9,
     "metadata": {},
     "output_type": "execute_result"
    }
   ],
   "source": [
    "# Checking null count for each column\n",
    "\n",
    "leads_df.isnull().sum()"
   ]
  },
  {
   "cell_type": "code",
   "execution_count": 10,
   "id": "e5620c71",
   "metadata": {},
   "outputs": [
    {
     "data": {
      "text/html": [
       "<div>\n",
       "<style scoped>\n",
       "    .dataframe tbody tr th:only-of-type {\n",
       "        vertical-align: middle;\n",
       "    }\n",
       "\n",
       "    .dataframe tbody tr th {\n",
       "        vertical-align: top;\n",
       "    }\n",
       "\n",
       "    .dataframe thead th {\n",
       "        text-align: right;\n",
       "    }\n",
       "</style>\n",
       "<table border=\"1\" class=\"dataframe\">\n",
       "  <thead>\n",
       "    <tr style=\"text-align: right;\">\n",
       "      <th></th>\n",
       "      <th>Lead Number</th>\n",
       "      <th>Converted</th>\n",
       "      <th>TotalVisits</th>\n",
       "      <th>Total Time Spent on Website</th>\n",
       "      <th>Page Views Per Visit</th>\n",
       "      <th>Asymmetrique Activity Score</th>\n",
       "      <th>Asymmetrique Profile Score</th>\n",
       "    </tr>\n",
       "  </thead>\n",
       "  <tbody>\n",
       "    <tr>\n",
       "      <th>count</th>\n",
       "      <td>9240.000000</td>\n",
       "      <td>9240.000000</td>\n",
       "      <td>9103.000000</td>\n",
       "      <td>9240.000000</td>\n",
       "      <td>9103.000000</td>\n",
       "      <td>5022.000000</td>\n",
       "      <td>5022.000000</td>\n",
       "    </tr>\n",
       "    <tr>\n",
       "      <th>mean</th>\n",
       "      <td>617188.435606</td>\n",
       "      <td>0.385390</td>\n",
       "      <td>3.445238</td>\n",
       "      <td>487.698268</td>\n",
       "      <td>2.362820</td>\n",
       "      <td>14.306252</td>\n",
       "      <td>16.344883</td>\n",
       "    </tr>\n",
       "    <tr>\n",
       "      <th>std</th>\n",
       "      <td>23405.995698</td>\n",
       "      <td>0.486714</td>\n",
       "      <td>4.854853</td>\n",
       "      <td>548.021466</td>\n",
       "      <td>2.161418</td>\n",
       "      <td>1.386694</td>\n",
       "      <td>1.811395</td>\n",
       "    </tr>\n",
       "    <tr>\n",
       "      <th>min</th>\n",
       "      <td>579533.000000</td>\n",
       "      <td>0.000000</td>\n",
       "      <td>0.000000</td>\n",
       "      <td>0.000000</td>\n",
       "      <td>0.000000</td>\n",
       "      <td>7.000000</td>\n",
       "      <td>11.000000</td>\n",
       "    </tr>\n",
       "    <tr>\n",
       "      <th>25%</th>\n",
       "      <td>596484.500000</td>\n",
       "      <td>0.000000</td>\n",
       "      <td>1.000000</td>\n",
       "      <td>12.000000</td>\n",
       "      <td>1.000000</td>\n",
       "      <td>14.000000</td>\n",
       "      <td>15.000000</td>\n",
       "    </tr>\n",
       "    <tr>\n",
       "      <th>50%</th>\n",
       "      <td>615479.000000</td>\n",
       "      <td>0.000000</td>\n",
       "      <td>3.000000</td>\n",
       "      <td>248.000000</td>\n",
       "      <td>2.000000</td>\n",
       "      <td>14.000000</td>\n",
       "      <td>16.000000</td>\n",
       "    </tr>\n",
       "    <tr>\n",
       "      <th>75%</th>\n",
       "      <td>637387.250000</td>\n",
       "      <td>1.000000</td>\n",
       "      <td>5.000000</td>\n",
       "      <td>936.000000</td>\n",
       "      <td>3.000000</td>\n",
       "      <td>15.000000</td>\n",
       "      <td>18.000000</td>\n",
       "    </tr>\n",
       "    <tr>\n",
       "      <th>max</th>\n",
       "      <td>660737.000000</td>\n",
       "      <td>1.000000</td>\n",
       "      <td>251.000000</td>\n",
       "      <td>2272.000000</td>\n",
       "      <td>55.000000</td>\n",
       "      <td>18.000000</td>\n",
       "      <td>20.000000</td>\n",
       "    </tr>\n",
       "  </tbody>\n",
       "</table>\n",
       "</div>"
      ],
      "text/plain": [
       "         Lead Number    Converted  TotalVisits  Total Time Spent on Website  \\\n",
       "count    9240.000000  9240.000000  9103.000000                  9240.000000   \n",
       "mean   617188.435606     0.385390     3.445238                   487.698268   \n",
       "std     23405.995698     0.486714     4.854853                   548.021466   \n",
       "min    579533.000000     0.000000     0.000000                     0.000000   \n",
       "25%    596484.500000     0.000000     1.000000                    12.000000   \n",
       "50%    615479.000000     0.000000     3.000000                   248.000000   \n",
       "75%    637387.250000     1.000000     5.000000                   936.000000   \n",
       "max    660737.000000     1.000000   251.000000                  2272.000000   \n",
       "\n",
       "       Page Views Per Visit  Asymmetrique Activity Score  \\\n",
       "count           9103.000000                  5022.000000   \n",
       "mean               2.362820                    14.306252   \n",
       "std                2.161418                     1.386694   \n",
       "min                0.000000                     7.000000   \n",
       "25%                1.000000                    14.000000   \n",
       "50%                2.000000                    14.000000   \n",
       "75%                3.000000                    15.000000   \n",
       "max               55.000000                    18.000000   \n",
       "\n",
       "       Asymmetrique Profile Score  \n",
       "count                 5022.000000  \n",
       "mean                    16.344883  \n",
       "std                      1.811395  \n",
       "min                     11.000000  \n",
       "25%                     15.000000  \n",
       "50%                     16.000000  \n",
       "75%                     18.000000  \n",
       "max                     20.000000  "
      ]
     },
     "execution_count": 10,
     "metadata": {},
     "output_type": "execute_result"
    }
   ],
   "source": [
    "#Checking numerical columns data distribution\n",
    "\n",
    "leads_df.describe()"
   ]
  },
  {
   "cell_type": "code",
   "execution_count": 11,
   "id": "ef3b0198",
   "metadata": {},
   "outputs": [],
   "source": [
    "leads_df_copy=leads_df.copy()"
   ]
  },
  {
   "cell_type": "markdown",
   "id": "2e02aaa5",
   "metadata": {},
   "source": [
    "# 3.  Imbalance analysis"
   ]
  },
  {
   "cell_type": "markdown",
   "id": "2a3679a8",
   "metadata": {},
   "source": [
    "- Before proceeding with data preparation and modeling , we need to check data imbalance. We need to check whether data we have taken, is enough for modeling or not."
   ]
  },
  {
   "cell_type": "markdown",
   "id": "e5ac0de5",
   "metadata": {},
   "source": [
    "- lets use countplot for target column 'Converted'"
   ]
  },
  {
   "cell_type": "code",
   "execution_count": 12,
   "id": "b14dfc51",
   "metadata": {},
   "outputs": [
    {
     "data": {
      "image/png": "[encoded data removed]",
      "text/plain": [
       "<Figure size 432x288 with 1 Axes>"
      ]
     },
     "metadata": {
      "needs_background": "light"
     },
     "output_type": "display_data"
    }
   ],
   "source": [
    "# Ploting countplot \n",
    "\n",
    "sns.countplot(leads_df['Converted'])\n",
    "plt.title('Imbalance Analysis',fontsize=15)\n",
    "plt.show()"
   ]
  },
  {
   "cell_type": "code",
   "execution_count": 13,
   "id": "a36a0ab7",
   "metadata": {},
   "outputs": [
    {
     "name": "stdout",
     "output_type": "stream",
     "text": [
      "Percentage of not converted leads 61.46\n"
     ]
    }
   ],
   "source": [
    "print('Percentage of not converted leads',round(sum(leads_df['Converted']==0)/len(leads_df)*100,2))"
   ]
  },
  {
   "cell_type": "code",
   "execution_count": 14,
   "id": "f5272350",
   "metadata": {},
   "outputs": [
    {
     "name": "stdout",
     "output_type": "stream",
     "text": [
      "Percentage of converted successfully 38.54\n"
     ]
    }
   ],
   "source": [
    "print('Percentage of converted successfully',round(sum(leads_df['Converted']==1)/len(leads_df)*100,2))"
   ]
  },
  {
   "cell_type": "code",
   "execution_count": 15,
   "id": "56ab00d2",
   "metadata": {},
   "outputs": [
    {
     "name": "stdout",
     "output_type": "stream",
     "text": [
      "Imbalance Ratio 1.59\n"
     ]
    }
   ],
   "source": [
    "print('Imbalance Ratio',round(sum(leads_df['Converted']==0)/sum(leads_df['Converted']==1),2))"
   ]
  },
  {
   "cell_type": "markdown",
   "id": "64b56ed2",
   "metadata": {},
   "source": [
    "Insight \n",
    "- We can see ~ 62:38 ratio . This means data is sightly imbalance . Hence we can proceed."
   ]
  },
  {
   "cell_type": "markdown",
   "id": "77e5fe39",
   "metadata": {},
   "source": [
    "# 4. Data Cleaning"
   ]
  },
  {
   "cell_type": "markdown",
   "id": "4412c9f1",
   "metadata": {},
   "source": [
    "## 4.1 Sales columns need to be removed as this will not help for prediction"
   ]
  },
  {
   "cell_type": "code",
   "execution_count": 16,
   "id": "9132fa2f",
   "metadata": {},
   "outputs": [],
   "source": [
    "leads_df.drop(['How did you hear about X Education', 'Lead Quality', 'Lead Profile', 'Asymmetrique Activity Index', \n",
    "                      'Asymmetrique Profile Index', 'Asymmetrique Activity Score', 'Asymmetrique Profile Score',\n",
    "        'Tags', 'Last Activity', 'Last Notable Activity'], \n",
    "        axis = 1, inplace = True)"
   ]
  },
  {
   "cell_type": "markdown",
   "id": "b1a7f028",
   "metadata": {},
   "source": [
    "## 4.2. Checking dublicates"
   ]
  },
  {
   "cell_type": "code",
   "execution_count": 17,
   "id": "e1583e02",
   "metadata": {},
   "outputs": [
    {
     "data": {
      "text/plain": [
       "0"
      ]
     },
     "execution_count": 17,
     "metadata": {},
     "output_type": "execute_result"
    }
   ],
   "source": [
    "#checking for all rows\n",
    "\n",
    "sum(leads_df.duplicated())"
   ]
  },
  {
   "cell_type": "markdown",
   "id": "ed6ba139",
   "metadata": {},
   "source": [
    "Insight:\n",
    "    \n",
    "  -    All rows seem unique.\n",
    "  - Now we will check for two columns which are already mentioned unique in data dictionary and will drop those as those will not be required for prediction."
   ]
  },
  {
   "cell_type": "code",
   "execution_count": 18,
   "id": "82619abc",
   "metadata": {},
   "outputs": [
    {
     "data": {
      "text/plain": [
       "0"
      ]
     },
     "execution_count": 18,
     "metadata": {},
     "output_type": "execute_result"
    }
   ],
   "source": [
    "# Lets check for 'Prospect ID'. \n",
    "\n",
    "sum(leads_df.duplicated(subset='Prospect ID'))"
   ]
  },
  {
   "cell_type": "code",
   "execution_count": 19,
   "id": "20fa020a",
   "metadata": {},
   "outputs": [
    {
     "data": {
      "text/plain": [
       "0"
      ]
     },
     "execution_count": 19,
     "metadata": {},
     "output_type": "execute_result"
    }
   ],
   "source": [
    "# Lets check for 'Lead Number'\n",
    "\n",
    "sum(leads_df.duplicated(subset='Lead Number'))"
   ]
  },
  {
   "cell_type": "markdown",
   "id": "f11b520d",
   "metadata": {},
   "source": [
    "### Dropping these columns Prospect ID and Lead Number as they are unique identifiers."
   ]
  },
  {
   "cell_type": "code",
   "execution_count": 20,
   "id": "f2abb0e8",
   "metadata": {},
   "outputs": [],
   "source": [
    "leads_df.drop(columns=['Prospect ID','Lead Number'],inplace=True)"
   ]
  },
  {
   "cell_type": "code",
   "execution_count": 21,
   "id": "047d6d77",
   "metadata": {},
   "outputs": [
    {
     "data": {
      "text/html": [
       "<div>\n",
       "<style scoped>\n",
       "    .dataframe tbody tr th:only-of-type {\n",
       "        vertical-align: middle;\n",
       "    }\n",
       "\n",
       "    .dataframe tbody tr th {\n",
       "        vertical-align: top;\n",
       "    }\n",
       "\n",
       "    .dataframe thead th {\n",
       "        text-align: right;\n",
       "    }\n",
       "</style>\n",
       "<table border=\"1\" class=\"dataframe\">\n",
       "  <thead>\n",
       "    <tr style=\"text-align: right;\">\n",
       "      <th></th>\n",
       "      <th>Lead Origin</th>\n",
       "      <th>Lead Source</th>\n",
       "      <th>Do Not Email</th>\n",
       "      <th>Do Not Call</th>\n",
       "      <th>Converted</th>\n",
       "      <th>TotalVisits</th>\n",
       "      <th>Total Time Spent on Website</th>\n",
       "      <th>Page Views Per Visit</th>\n",
       "      <th>Country</th>\n",
       "      <th>Specialization</th>\n",
       "      <th>What is your current occupation</th>\n",
       "      <th>What matters most to you in choosing a course</th>\n",
       "      <th>Search</th>\n",
       "      <th>Magazine</th>\n",
       "      <th>Newspaper Article</th>\n",
       "      <th>X Education Forums</th>\n",
       "      <th>Newspaper</th>\n",
       "      <th>Digital Advertisement</th>\n",
       "      <th>Through Recommendations</th>\n",
       "      <th>Receive More Updates About Our Courses</th>\n",
       "      <th>Update me on Supply Chain Content</th>\n",
       "      <th>Get updates on DM Content</th>\n",
       "      <th>City</th>\n",
       "      <th>I agree to pay the amount through cheque</th>\n",
       "      <th>A free copy of Mastering The Interview</th>\n",
       "    </tr>\n",
       "  </thead>\n",
       "  <tbody>\n",
       "    <tr>\n",
       "      <th>0</th>\n",
       "      <td>API</td>\n",
       "      <td>Olark Chat</td>\n",
       "      <td>No</td>\n",
       "      <td>No</td>\n",
       "      <td>0</td>\n",
       "      <td>0.0</td>\n",
       "      <td>0</td>\n",
       "      <td>0.0</td>\n",
       "      <td>NaN</td>\n",
       "      <td>Select</td>\n",
       "      <td>Unemployed</td>\n",
       "      <td>Better Career Prospects</td>\n",
       "      <td>No</td>\n",
       "      <td>No</td>\n",
       "      <td>No</td>\n",
       "      <td>No</td>\n",
       "      <td>No</td>\n",
       "      <td>No</td>\n",
       "      <td>No</td>\n",
       "      <td>No</td>\n",
       "      <td>No</td>\n",
       "      <td>No</td>\n",
       "      <td>Select</td>\n",
       "      <td>No</td>\n",
       "      <td>No</td>\n",
       "    </tr>\n",
       "    <tr>\n",
       "      <th>1</th>\n",
       "      <td>API</td>\n",
       "      <td>Organic Search</td>\n",
       "      <td>No</td>\n",
       "      <td>No</td>\n",
       "      <td>0</td>\n",
       "      <td>5.0</td>\n",
       "      <td>674</td>\n",
       "      <td>2.5</td>\n",
       "      <td>India</td>\n",
       "      <td>Select</td>\n",
       "      <td>Unemployed</td>\n",
       "      <td>Better Career Prospects</td>\n",
       "      <td>No</td>\n",
       "      <td>No</td>\n",
       "      <td>No</td>\n",
       "      <td>No</td>\n",
       "      <td>No</td>\n",
       "      <td>No</td>\n",
       "      <td>No</td>\n",
       "      <td>No</td>\n",
       "      <td>No</td>\n",
       "      <td>No</td>\n",
       "      <td>Select</td>\n",
       "      <td>No</td>\n",
       "      <td>No</td>\n",
       "    </tr>\n",
       "    <tr>\n",
       "      <th>2</th>\n",
       "      <td>Landing Page Submission</td>\n",
       "      <td>Direct Traffic</td>\n",
       "      <td>No</td>\n",
       "      <td>No</td>\n",
       "      <td>1</td>\n",
       "      <td>2.0</td>\n",
       "      <td>1532</td>\n",
       "      <td>2.0</td>\n",
       "      <td>India</td>\n",
       "      <td>Business Administration</td>\n",
       "      <td>Student</td>\n",
       "      <td>Better Career Prospects</td>\n",
       "      <td>No</td>\n",
       "      <td>No</td>\n",
       "      <td>No</td>\n",
       "      <td>No</td>\n",
       "      <td>No</td>\n",
       "      <td>No</td>\n",
       "      <td>No</td>\n",
       "      <td>No</td>\n",
       "      <td>No</td>\n",
       "      <td>No</td>\n",
       "      <td>Mumbai</td>\n",
       "      <td>No</td>\n",
       "      <td>Yes</td>\n",
       "    </tr>\n",
       "    <tr>\n",
       "      <th>3</th>\n",
       "      <td>Landing Page Submission</td>\n",
       "      <td>Direct Traffic</td>\n",
       "      <td>No</td>\n",
       "      <td>No</td>\n",
       "      <td>0</td>\n",
       "      <td>1.0</td>\n",
       "      <td>305</td>\n",
       "      <td>1.0</td>\n",
       "      <td>India</td>\n",
       "      <td>Media and Advertising</td>\n",
       "      <td>Unemployed</td>\n",
       "      <td>Better Career Prospects</td>\n",
       "      <td>No</td>\n",
       "      <td>No</td>\n",
       "      <td>No</td>\n",
       "      <td>No</td>\n",
       "      <td>No</td>\n",
       "      <td>No</td>\n",
       "      <td>No</td>\n",
       "      <td>No</td>\n",
       "      <td>No</td>\n",
       "      <td>No</td>\n",
       "      <td>Mumbai</td>\n",
       "      <td>No</td>\n",
       "      <td>No</td>\n",
       "    </tr>\n",
       "    <tr>\n",
       "      <th>4</th>\n",
       "      <td>Landing Page Submission</td>\n",
       "      <td>Google</td>\n",
       "      <td>No</td>\n",
       "      <td>No</td>\n",
       "      <td>1</td>\n",
       "      <td>2.0</td>\n",
       "      <td>1428</td>\n",
       "      <td>1.0</td>\n",
       "      <td>India</td>\n",
       "      <td>Select</td>\n",
       "      <td>Unemployed</td>\n",
       "      <td>Better Career Prospects</td>\n",
       "      <td>No</td>\n",
       "      <td>No</td>\n",
       "      <td>No</td>\n",
       "      <td>No</td>\n",
       "      <td>No</td>\n",
       "      <td>No</td>\n",
       "      <td>No</td>\n",
       "      <td>No</td>\n",
       "      <td>No</td>\n",
       "      <td>No</td>\n",
       "      <td>Mumbai</td>\n",
       "      <td>No</td>\n",
       "      <td>No</td>\n",
       "    </tr>\n",
       "  </tbody>\n",
       "</table>\n",
       "</div>"
      ],
      "text/plain": [
       "               Lead Origin     Lead Source Do Not Email Do Not Call  \\\n",
       "0                      API      Olark Chat           No          No   \n",
       "1                      API  Organic Search           No          No   \n",
       "2  Landing Page Submission  Direct Traffic           No          No   \n",
       "3  Landing Page Submission  Direct Traffic           No          No   \n",
       "4  Landing Page Submission          Google           No          No   \n",
       "\n",
       "   Converted  TotalVisits  Total Time Spent on Website  Page Views Per Visit  \\\n",
       "0          0          0.0                            0                   0.0   \n",
       "1          0          5.0                          674                   2.5   \n",
       "2          1          2.0                         1532                   2.0   \n",
       "3          0          1.0                          305                   1.0   \n",
       "4          1          2.0                         1428                   1.0   \n",
       "\n",
       "  Country           Specialization What is your current occupation  \\\n",
       "0     NaN                   Select                      Unemployed   \n",
       "1   India                   Select                      Unemployed   \n",
       "2   India  Business Administration                         Student   \n",
       "3   India    Media and Advertising                      Unemployed   \n",
       "4   India                   Select                      Unemployed   \n",
       "\n",
       "  What matters most to you in choosing a course Search Magazine  \\\n",
       "0                       Better Career Prospects     No       No   \n",
       "1                       Better Career Prospects     No       No   \n",
       "2                       Better Career Prospects     No       No   \n",
       "3                       Better Career Prospects     No       No   \n",
       "4                       Better Career Prospects     No       No   \n",
       "\n",
       "  Newspaper Article X Education Forums Newspaper Digital Advertisement  \\\n",
       "0                No                 No        No                    No   \n",
       "1                No                 No        No                    No   \n",
       "2                No                 No        No                    No   \n",
       "3                No                 No        No                    No   \n",
       "4                No                 No        No                    No   \n",
       "\n",
       "  Through Recommendations Receive More Updates About Our Courses  \\\n",
       "0                      No                                     No   \n",
       "1                      No                                     No   \n",
       "2                      No                                     No   \n",
       "3                      No                                     No   \n",
       "4                      No                                     No   \n",
       "\n",
       "  Update me on Supply Chain Content Get updates on DM Content    City  \\\n",
       "0                                No                        No  Select   \n",
       "1                                No                        No  Select   \n",
       "2                                No                        No  Mumbai   \n",
       "3                                No                        No  Mumbai   \n",
       "4                                No                        No  Mumbai   \n",
       "\n",
       "  I agree to pay the amount through cheque  \\\n",
       "0                                       No   \n",
       "1                                       No   \n",
       "2                                       No   \n",
       "3                                       No   \n",
       "4                                       No   \n",
       "\n",
       "  A free copy of Mastering The Interview  \n",
       "0                                     No  \n",
       "1                                     No  \n",
       "2                                    Yes  \n",
       "3                                     No  \n",
       "4                                     No  "
      ]
     },
     "execution_count": 21,
     "metadata": {},
     "output_type": "execute_result"
    }
   ],
   "source": [
    "leads_df.head()"
   ]
  },
  {
   "cell_type": "markdown",
   "id": "300a8046",
   "metadata": {},
   "source": [
    "## 4.3. Replacing 'Select' value with Null"
   ]
  },
  {
   "cell_type": "code",
   "execution_count": 22,
   "id": "a4b4244d",
   "metadata": {},
   "outputs": [],
   "source": [
    "# Replacing 'Select' value with null for all columns where we are having this.\n",
    "\n",
    "leads_df=leads_df.replace('Select',np.nan)"
   ]
  },
  {
   "cell_type": "markdown",
   "id": "ec30aa3f",
   "metadata": {},
   "source": [
    "## 4.4.  Handling null values and data imbalane"
   ]
  },
  {
   "cell_type": "code",
   "execution_count": 23,
   "id": "a022bcc0",
   "metadata": {},
   "outputs": [
    {
     "data": {
      "text/plain": [
       "Lead Origin                                       0.00\n",
       "Lead Source                                       0.39\n",
       "Do Not Email                                      0.00\n",
       "Do Not Call                                       0.00\n",
       "Converted                                         0.00\n",
       "TotalVisits                                       1.48\n",
       "Total Time Spent on Website                       0.00\n",
       "Page Views Per Visit                              1.48\n",
       "Country                                          26.63\n",
       "Specialization                                   36.58\n",
       "What is your current occupation                  29.11\n",
       "What matters most to you in choosing a course    29.32\n",
       "Search                                            0.00\n",
       "Magazine                                          0.00\n",
       "Newspaper Article                                 0.00\n",
       "X Education Forums                                0.00\n",
       "Newspaper                                         0.00\n",
       "Digital Advertisement                             0.00\n",
       "Through Recommendations                           0.00\n",
       "Receive More Updates About Our Courses            0.00\n",
       "Update me on Supply Chain Content                 0.00\n",
       "Get updates on DM Content                         0.00\n",
       "City                                             39.71\n",
       "I agree to pay the amount through cheque          0.00\n",
       "A free copy of Mastering The Interview            0.00\n",
       "dtype: float64"
      ]
     },
     "execution_count": 23,
     "metadata": {},
     "output_type": "execute_result"
    }
   ],
   "source": [
    "#Checking null percentage column wise\n",
    "\n",
    "round((100*leads_df.isnull().sum()/len(leads_df)),2)"
   ]
  },
  {
   "cell_type": "markdown",
   "id": "90c31ac7",
   "metadata": {},
   "source": [
    "#### we can check columns having missing value one by one . Accordingly we will either impute or drop them."
   ]
  },
  {
   "cell_type": "markdown",
   "id": "93bf5ad6",
   "metadata": {},
   "source": [
    "- We will start with City as this column is having highest null percentage.\n",
    "\n",
    "#### 4.4.1. Handling for City"
   ]
  },
  {
   "cell_type": "code",
   "execution_count": 24,
   "id": "32ea7b0d",
   "metadata": {},
   "outputs": [
    {
     "data": {
      "text/plain": [
       "NaN                            3669\n",
       "Mumbai                         3222\n",
       "Thane & Outskirts               752\n",
       "Other Cities                    686\n",
       "Other Cities of Maharashtra     457\n",
       "Other Metro Cities              380\n",
       "Tier II Cities                   74\n",
       "Name: City, dtype: int64"
      ]
     },
     "execution_count": 24,
     "metadata": {},
     "output_type": "execute_result"
    }
   ],
   "source": [
    "# Lets check each valid value count including null\n",
    "\n",
    "leads_df['City'].value_counts(dropna=False)"
   ]
  },
  {
   "cell_type": "code",
   "execution_count": 25,
   "id": "926ddc51",
   "metadata": {},
   "outputs": [
    {
     "data": {
      "image/png": "[encoded data removed]",
      "text/plain": [
       "<Figure size 432x288 with 1 Axes>"
      ]
     },
     "metadata": {
      "needs_background": "light"
     },
     "output_type": "display_data"
    }
   ],
   "source": [
    "# Ploting city\n",
    "sns.countplot(leads_df['City'])\n",
    "plt.xticks(rotation=90)\n",
    "plt.show()"
   ]
  },
  {
   "cell_type": "markdown",
   "id": "bb4af952",
   "metadata": {},
   "source": [
    "**Insights**\n",
    "- Here , missing data count is more than mode of column value. Even if we impute it with mode , there will be more than 70% data which will belong to mode value i.e. `Mumbai`. It will not help for prediction thus better to drop this column."
   ]
  },
  {
   "cell_type": "code",
   "execution_count": 26,
   "id": "d998c39e",
   "metadata": {},
   "outputs": [],
   "source": [
    "leads_df.drop('City',axis=1,inplace=True)"
   ]
  },
  {
   "cell_type": "code",
   "execution_count": 27,
   "id": "a03af5f7",
   "metadata": {},
   "outputs": [
    {
     "data": {
      "text/plain": [
       "Specialization                                   36.58\n",
       "What matters most to you in choosing a course    29.32\n",
       "What is your current occupation                  29.11\n",
       "Country                                          26.63\n",
       "TotalVisits                                       1.48\n",
       "Page Views Per Visit                              1.48\n",
       "Lead Source                                       0.39\n",
       "Lead Origin                                       0.00\n",
       "Newspaper                                         0.00\n",
       "I agree to pay the amount through cheque          0.00\n",
       "Get updates on DM Content                         0.00\n",
       "Update me on Supply Chain Content                 0.00\n",
       "Receive More Updates About Our Courses            0.00\n",
       "Through Recommendations                           0.00\n",
       "Digital Advertisement                             0.00\n",
       "Search                                            0.00\n",
       "X Education Forums                                0.00\n",
       "Newspaper Article                                 0.00\n",
       "Magazine                                          0.00\n",
       "Total Time Spent on Website                       0.00\n",
       "Converted                                         0.00\n",
       "Do Not Call                                       0.00\n",
       "Do Not Email                                      0.00\n",
       "A free copy of Mastering The Interview            0.00\n",
       "dtype: float64"
      ]
     },
     "execution_count": 27,
     "metadata": {},
     "output_type": "execute_result"
    }
   ],
   "source": [
    "# Lets check again for remaining columns\n",
    "\n",
    "round((100*leads_df.isnull().sum()/len(leads_df)),2).sort_values(ascending=False)"
   ]
  },
  {
   "cell_type": "markdown",
   "id": "dedf83bd",
   "metadata": {},
   "source": [
    "#### 4.4.2. Handling for Specialization"
   ]
  },
  {
   "cell_type": "code",
   "execution_count": 28,
   "id": "e279721a",
   "metadata": {},
   "outputs": [
    {
     "data": {
      "text/plain": [
       "NaN                                  3380\n",
       "Finance Management                    976\n",
       "Human Resource Management             848\n",
       "Marketing Management                  838\n",
       "Operations Management                 503\n",
       "Business Administration               403\n",
       "IT Projects Management                366\n",
       "Supply Chain Management               349\n",
       "Banking, Investment And Insurance     338\n",
       "Media and Advertising                 203\n",
       "Travel and Tourism                    203\n",
       "International Business                178\n",
       "Healthcare Management                 159\n",
       "Hospitality Management                114\n",
       "E-COMMERCE                            112\n",
       "Retail Management                     100\n",
       "Rural and Agribusiness                 73\n",
       "E-Business                             57\n",
       "Services Excellence                    40\n",
       "Name: Specialization, dtype: int64"
      ]
     },
     "execution_count": 28,
     "metadata": {},
     "output_type": "execute_result"
    }
   ],
   "source": [
    "# Lets check each valid value count including null\n",
    "\n",
    "leads_df['Specialization'].value_counts(dropna=False)"
   ]
  },
  {
   "cell_type": "code",
   "execution_count": 29,
   "id": "f13c5f13",
   "metadata": {},
   "outputs": [
    {
     "data": {
      "image/png": "[encoded data removed]",
      "text/plain": [
       "<Figure size 720x360 with 1 Axes>"
      ]
     },
     "metadata": {
      "needs_background": "light"
     },
     "output_type": "display_data"
    }
   ],
   "source": [
    "# Ploting Specialization\n",
    "plt.figure(figsize=(10,5))\n",
    "sns.countplot(leads_df['Specialization'])\n",
    "plt.xticks(rotation=90)\n",
    "plt.show()"
   ]
  },
  {
   "cell_type": "markdown",
   "id": "35cd22da",
   "metadata": {},
   "source": [
    "**Insights** \n",
    " - we can see the significant difference b/w missing values and other specialization.\n",
    " - This may be due to specialiization they have, is not listed out in dropdown item or may be they are student who dont have specializatio yet."
   ]
  },
  {
   "cell_type": "markdown",
   "id": "8ed9b4c1",
   "metadata": {},
   "source": [
    "#### As these differnces we cant neglect or impute with any of existing value. Let's proceed with another new catergory i.e 'Not Specified' for imputation."
   ]
  },
  {
   "cell_type": "code",
   "execution_count": 30,
   "id": "8841278c",
   "metadata": {},
   "outputs": [],
   "source": [
    "leads_df['Specialization']=leads_df['Specialization'].replace(np.nan,'Not Specified')"
   ]
  },
  {
   "cell_type": "code",
   "execution_count": 31,
   "id": "48acd5db",
   "metadata": {},
   "outputs": [
    {
     "data": {
      "image/png": "[encoded data removed]",
      "text/plain": [
       "<Figure size 720x360 with 1 Axes>"
      ]
     },
     "metadata": {
      "needs_background": "light"
     },
     "output_type": "display_data"
    }
   ],
   "source": [
    "# Ploting again\n",
    "plt.figure(figsize=(10,5))\n",
    "sns.countplot(leads_df['Specialization'])\n",
    "plt.xticks(rotation=90)\n",
    "plt.show()"
   ]
  },
  {
   "cell_type": "markdown",
   "id": "424f429e",
   "metadata": {},
   "source": [
    "**Insights** \n",
    "- we can still see column data is highly skewed . To remove bias among them , we can combine categories which belong to similar line.\n",
    "- Here we can see, some management specializations are showing similar trends.\n",
    "- Same, some business specializations are showing similar trends. \n",
    "- Let's combine them together which are with low count to remove bias"
   ]
  },
  {
   "cell_type": "code",
   "execution_count": 32,
   "id": "b90d9a02",
   "metadata": {},
   "outputs": [],
   "source": [
    "## Management specialization\n",
    "\n",
    "leads_df['Specialization']=leads_df['Specialization'].replace(['Finance Management','Human Resource Management','Marketing Management','Operations Management','IT Projects Management','Supply Chain Management','Healthcare Management','Hospitality Management','Retail Management'],'Management Specializations')"
   ]
  },
  {
   "cell_type": "code",
   "execution_count": 33,
   "id": "411cc556",
   "metadata": {},
   "outputs": [],
   "source": [
    "## Management specialization\n",
    "\n",
    "leads_df['Specialization']=leads_df['Specialization'].replace(['Business Administration','International Business','Rural and Agribusiness','E-Business'],'Business Specializations')"
   ]
  },
  {
   "cell_type": "code",
   "execution_count": 34,
   "id": "4f64cadc",
   "metadata": {},
   "outputs": [
    {
     "data": {
      "image/png": "[encoded data removed]",
      "text/plain": [
       "<Figure size 720x288 with 1 Axes>"
      ]
     },
     "metadata": {
      "needs_background": "light"
     },
     "output_type": "display_data"
    }
   ],
   "source": [
    "# Ploting again\n",
    "plt.figure(figsize=(10,4))\n",
    "sns.countplot(leads_df['Specialization'])\n",
    "plt.xticks(rotation=90)\n",
    "plt.show()"
   ]
  },
  {
   "cell_type": "code",
   "execution_count": 35,
   "id": "581e9af3",
   "metadata": {},
   "outputs": [
    {
     "data": {
      "text/plain": [
       "What matters most to you in choosing a course    29.32\n",
       "What is your current occupation                  29.11\n",
       "Country                                          26.63\n",
       "TotalVisits                                       1.48\n",
       "Page Views Per Visit                              1.48\n",
       "Lead Source                                       0.39\n",
       "Lead Origin                                       0.00\n",
       "X Education Forums                                0.00\n",
       "I agree to pay the amount through cheque          0.00\n",
       "Get updates on DM Content                         0.00\n",
       "Update me on Supply Chain Content                 0.00\n",
       "Receive More Updates About Our Courses            0.00\n",
       "Through Recommendations                           0.00\n",
       "Digital Advertisement                             0.00\n",
       "Newspaper                                         0.00\n",
       "Search                                            0.00\n",
       "Newspaper Article                                 0.00\n",
       "Magazine                                          0.00\n",
       "Specialization                                    0.00\n",
       "Total Time Spent on Website                       0.00\n",
       "Converted                                         0.00\n",
       "Do Not Call                                       0.00\n",
       "Do Not Email                                      0.00\n",
       "A free copy of Mastering The Interview            0.00\n",
       "dtype: float64"
      ]
     },
     "execution_count": 35,
     "metadata": {},
     "output_type": "execute_result"
    }
   ],
   "source": [
    "# Lets check again for remaining columns\n",
    "\n",
    "round((100*leads_df.isnull().sum()/len(leads_df)),2).sort_values(ascending=False)"
   ]
  },
  {
   "cell_type": "markdown",
   "id": "a8290c72",
   "metadata": {},
   "source": [
    "#### 4.4.3. Handling for `What matters most to you in choosing a course`"
   ]
  },
  {
   "cell_type": "code",
   "execution_count": 36,
   "id": "734aa8a8",
   "metadata": {},
   "outputs": [
    {
     "data": {
      "text/plain": [
       "Better Career Prospects      6528\n",
       "NaN                          2709\n",
       "Flexibility & Convenience       2\n",
       "Other                           1\n",
       "Name: What matters most to you in choosing a course, dtype: int64"
      ]
     },
     "execution_count": 36,
     "metadata": {},
     "output_type": "execute_result"
    }
   ],
   "source": [
    "# Lets check each valid value count including null\n",
    "\n",
    "leads_df['What matters most to you in choosing a course'].value_counts(dropna=False)"
   ]
  },
  {
   "cell_type": "code",
   "execution_count": 37,
   "id": "9ec045d4",
   "metadata": {},
   "outputs": [
    {
     "data": {
      "image/png": "[encoded data removed]",
      "text/plain": [
       "<Figure size 432x216 with 1 Axes>"
      ]
     },
     "metadata": {
      "needs_background": "light"
     },
     "output_type": "display_data"
    }
   ],
   "source": [
    "# Ploting 'What matters most to you in choosing a course'\n",
    "plt.figure(figsize=(6,3))\n",
    "sns.countplot(leads_df['What matters most to you in choosing a course'])\n",
    "plt.xticks(rotation=90)\n",
    "plt.show()"
   ]
  },
  {
   "cell_type": "markdown",
   "id": "06acd2e7",
   "metadata": {},
   "source": [
    "**Insight**:\n",
    "   - 30% data is missing and rest ~ 69% is for `Better Career Prospects`. Even if we replace null values with `Better Career Prospect`, the whole column will have only one major value which will not help in prediction. So better to drop this column."
   ]
  },
  {
   "cell_type": "code",
   "execution_count": 38,
   "id": "cb95993b",
   "metadata": {},
   "outputs": [],
   "source": [
    "leads_df.drop('What matters most to you in choosing a course',axis=1,inplace=True)"
   ]
  },
  {
   "cell_type": "code",
   "execution_count": 39,
   "id": "2302ecd6",
   "metadata": {},
   "outputs": [
    {
     "data": {
      "text/plain": [
       "What is your current occupation             29.11\n",
       "Country                                     26.63\n",
       "TotalVisits                                  1.48\n",
       "Page Views Per Visit                         1.48\n",
       "Lead Source                                  0.39\n",
       "Lead Origin                                  0.00\n",
       "X Education Forums                           0.00\n",
       "I agree to pay the amount through cheque     0.00\n",
       "Get updates on DM Content                    0.00\n",
       "Update me on Supply Chain Content            0.00\n",
       "Receive More Updates About Our Courses       0.00\n",
       "Through Recommendations                      0.00\n",
       "Digital Advertisement                        0.00\n",
       "Newspaper                                    0.00\n",
       "Search                                       0.00\n",
       "Newspaper Article                            0.00\n",
       "Magazine                                     0.00\n",
       "Specialization                               0.00\n",
       "Total Time Spent on Website                  0.00\n",
       "Converted                                    0.00\n",
       "Do Not Call                                  0.00\n",
       "Do Not Email                                 0.00\n",
       "A free copy of Mastering The Interview       0.00\n",
       "dtype: float64"
      ]
     },
     "execution_count": 39,
     "metadata": {},
     "output_type": "execute_result"
    }
   ],
   "source": [
    "# Lets check again for remaining columns\n",
    "\n",
    "round((100*leads_df.isnull().sum()/len(leads_df)),2).sort_values(ascending=False)"
   ]
  },
  {
   "cell_type": "markdown",
   "id": "4d7023fd",
   "metadata": {},
   "source": [
    "#### 4.4.4. Handling for `What is your current occupation`"
   ]
  },
  {
   "cell_type": "code",
   "execution_count": 40,
   "id": "91637f80",
   "metadata": {},
   "outputs": [
    {
     "data": {
      "text/plain": [
       "Unemployed              5600\n",
       "NaN                     2690\n",
       "Working Professional     706\n",
       "Student                  210\n",
       "Other                     16\n",
       "Housewife                 10\n",
       "Businessman                8\n",
       "Name: What is your current occupation, dtype: int64"
      ]
     },
     "execution_count": 40,
     "metadata": {},
     "output_type": "execute_result"
    }
   ],
   "source": [
    "# Lets check each valid value count including null\n",
    "\n",
    "leads_df['What is your current occupation'].value_counts(dropna=False)"
   ]
  },
  {
   "cell_type": "code",
   "execution_count": 41,
   "id": "79196148",
   "metadata": {},
   "outputs": [
    {
     "data": {
      "image/png": "[encoded data removed]",
      "text/plain": [
       "<Figure size 432x216 with 1 Axes>"
      ]
     },
     "metadata": {
      "needs_background": "light"
     },
     "output_type": "display_data"
    }
   ],
   "source": [
    "# Ploting 'What matters most to you in choosing a course'\n",
    "plt.figure(figsize=(6,3))\n",
    "sns.countplot(leads_df['What is your current occupation'])\n",
    "plt.xticks(rotation=90)\n",
    "plt.show()"
   ]
  },
  {
   "cell_type": "markdown",
   "id": "2d13c818",
   "metadata": {},
   "source": [
    "**Insights**: \n",
    " - We can see almost 30% data missing and 'Unemployed' is most common value covering almost 60% of data. Better if we define one new category `Not Specified` to replace null.\n",
    " - Also we can see data imbalance for other valid values because of low count. We can merge those valid value to `Others`."
   ]
  },
  {
   "cell_type": "code",
   "execution_count": 42,
   "id": "eb8d378b",
   "metadata": {},
   "outputs": [],
   "source": [
    "leads_df['What is your current occupation']=leads_df['What is your current occupation'].replace(np.nan,'Not Specified')"
   ]
  },
  {
   "cell_type": "code",
   "execution_count": 43,
   "id": "24fad4dd",
   "metadata": {},
   "outputs": [],
   "source": [
    "leads_df['What is your current occupation']=leads_df['What is your current occupation'].replace(['Housewife','Businessman'],'Other')"
   ]
  },
  {
   "cell_type": "code",
   "execution_count": 44,
   "id": "97fca7ac",
   "metadata": {},
   "outputs": [
    {
     "data": {
      "image/png": "[encoded data removed]",
      "text/plain": [
       "<Figure size 432x288 with 1 Axes>"
      ]
     },
     "metadata": {
      "needs_background": "light"
     },
     "output_type": "display_data"
    }
   ],
   "source": [
    "# Ploting 'What matters most to you in choosing a course'\n",
    "plt.figure(figsize=(6,4))\n",
    "sns.countplot(leads_df['What is your current occupation'])\n",
    "plt.xticks(rotation=90)\n",
    "plt.show()"
   ]
  },
  {
   "cell_type": "code",
   "execution_count": 45,
   "id": "d21ebd7e",
   "metadata": {},
   "outputs": [
    {
     "data": {
      "text/plain": [
       "Country                                     26.63\n",
       "TotalVisits                                  1.48\n",
       "Page Views Per Visit                         1.48\n",
       "Lead Source                                  0.39\n",
       "Lead Origin                                  0.00\n",
       "X Education Forums                           0.00\n",
       "I agree to pay the amount through cheque     0.00\n",
       "Get updates on DM Content                    0.00\n",
       "Update me on Supply Chain Content            0.00\n",
       "Receive More Updates About Our Courses       0.00\n",
       "Through Recommendations                      0.00\n",
       "Digital Advertisement                        0.00\n",
       "Newspaper                                    0.00\n",
       "Search                                       0.00\n",
       "Newspaper Article                            0.00\n",
       "Magazine                                     0.00\n",
       "What is your current occupation              0.00\n",
       "Specialization                               0.00\n",
       "Total Time Spent on Website                  0.00\n",
       "Converted                                    0.00\n",
       "Do Not Call                                  0.00\n",
       "Do Not Email                                 0.00\n",
       "A free copy of Mastering The Interview       0.00\n",
       "dtype: float64"
      ]
     },
     "execution_count": 45,
     "metadata": {},
     "output_type": "execute_result"
    }
   ],
   "source": [
    "# Lets check again for remaining columns\n",
    "\n",
    "round((100*leads_df.isnull().sum()/len(leads_df)),2).sort_values(ascending=False)"
   ]
  },
  {
   "cell_type": "markdown",
   "id": "e8a9b488",
   "metadata": {},
   "source": [
    "#### 4.4.5. Handling for `Country`"
   ]
  },
  {
   "cell_type": "code",
   "execution_count": 46,
   "id": "53540b53",
   "metadata": {},
   "outputs": [
    {
     "data": {
      "text/plain": [
       "India                   6492\n",
       "NaN                     2461\n",
       "United States             69\n",
       "United Arab Emirates      53\n",
       "Singapore                 24\n",
       "Saudi Arabia              21\n",
       "United Kingdom            15\n",
       "Australia                 13\n",
       "Qatar                     10\n",
       "Bahrain                    7\n",
       "Hong Kong                  7\n",
       "France                     6\n",
       "Oman                       6\n",
       "unknown                    5\n",
       "Kuwait                     4\n",
       "South Africa               4\n",
       "Canada                     4\n",
       "Nigeria                    4\n",
       "Germany                    4\n",
       "Sweden                     3\n",
       "China                      2\n",
       "Philippines                2\n",
       "Bangladesh                 2\n",
       "Uganda                     2\n",
       "Netherlands                2\n",
       "Italy                      2\n",
       "Asia/Pacific Region        2\n",
       "Ghana                      2\n",
       "Belgium                    2\n",
       "Sri Lanka                  1\n",
       "Denmark                    1\n",
       "Indonesia                  1\n",
       "Liberia                    1\n",
       "Switzerland                1\n",
       "Kenya                      1\n",
       "Tanzania                   1\n",
       "Malaysia                   1\n",
       "Vietnam                    1\n",
       "Russia                     1\n",
       "Name: Country, dtype: int64"
      ]
     },
     "execution_count": 46,
     "metadata": {},
     "output_type": "execute_result"
    }
   ],
   "source": [
    "# Lets check each valid value count including null\n",
    "\n",
    "leads_df['Country'].value_counts(dropna=False)"
   ]
  },
  {
   "cell_type": "code",
   "execution_count": 47,
   "id": "287aadcb",
   "metadata": {},
   "outputs": [
    {
     "data": {
      "image/png": "[encoded data removed]",
      "text/plain": [
       "<Figure size 1080x360 with 1 Axes>"
      ]
     },
     "metadata": {
      "needs_background": "light"
     },
     "output_type": "display_data"
    }
   ],
   "source": [
    "# Ploting 'Country'\n",
    "plt.figure(figsize=(15,5))\n",
    "sns.countplot(leads_df['Country'])\n",
    "plt.xticks(rotation=90)\n",
    "plt.show()"
   ]
  },
  {
   "cell_type": "markdown",
   "id": "f249da6f",
   "metadata": {},
   "source": [
    "**Insights**: \n",
    " - We can see almost 26% data missing and 'India' is most common value covering almost ~ 65% of data.\n",
    " - Even if we replace null value with 'India', we will have more than 90% data only for 'India' which will not help for predication.\n",
    "    So better to drop this column."
   ]
  },
  {
   "cell_type": "code",
   "execution_count": 48,
   "id": "37f8861f",
   "metadata": {},
   "outputs": [],
   "source": [
    "leads_df.drop('Country',axis=1,inplace=True)"
   ]
  },
  {
   "cell_type": "code",
   "execution_count": 49,
   "id": "dc5ff8ff",
   "metadata": {},
   "outputs": [
    {
     "data": {
      "text/plain": [
       "TotalVisits                                 1.48\n",
       "Page Views Per Visit                        1.48\n",
       "Lead Source                                 0.39\n",
       "Lead Origin                                 0.00\n",
       "X Education Forums                          0.00\n",
       "I agree to pay the amount through cheque    0.00\n",
       "Get updates on DM Content                   0.00\n",
       "Update me on Supply Chain Content           0.00\n",
       "Receive More Updates About Our Courses      0.00\n",
       "Through Recommendations                     0.00\n",
       "Digital Advertisement                       0.00\n",
       "Newspaper                                   0.00\n",
       "Magazine                                    0.00\n",
       "Newspaper Article                           0.00\n",
       "Search                                      0.00\n",
       "What is your current occupation             0.00\n",
       "Specialization                              0.00\n",
       "Total Time Spent on Website                 0.00\n",
       "Converted                                   0.00\n",
       "Do Not Call                                 0.00\n",
       "Do Not Email                                0.00\n",
       "A free copy of Mastering The Interview      0.00\n",
       "dtype: float64"
      ]
     },
     "execution_count": 49,
     "metadata": {},
     "output_type": "execute_result"
    }
   ],
   "source": [
    "# Lets check again for remaining columns\n",
    "\n",
    "round((100*leads_df.isnull().sum()/len(leads_df)),2).sort_values(ascending=False)"
   ]
  },
  {
   "cell_type": "markdown",
   "id": "ecf59c10",
   "metadata": {},
   "source": [
    "#### 4.4.6. Handling for `TotalVisits`"
   ]
  },
  {
   "cell_type": "code",
   "execution_count": 50,
   "id": "d3309748",
   "metadata": {},
   "outputs": [
    {
     "data": {
      "text/plain": [
       "count    9103.000000\n",
       "mean        3.445238\n",
       "std         4.854853\n",
       "min         0.000000\n",
       "25%         1.000000\n",
       "50%         3.000000\n",
       "75%         5.000000\n",
       "max       251.000000\n",
       "Name: TotalVisits, dtype: float64"
      ]
     },
     "execution_count": 50,
     "metadata": {},
     "output_type": "execute_result"
    }
   ],
   "source": [
    "# Checking data distribution for this numerical column\n",
    "\n",
    "leads_df.TotalVisits.describe()"
   ]
  },
  {
   "cell_type": "code",
   "execution_count": 51,
   "id": "706e5f9b",
   "metadata": {},
   "outputs": [
    {
     "data": {
      "image/png": "[encoded data removed]",
      "text/plain": [
       "<Figure size 360x504 with 1 Axes>"
      ]
     },
     "metadata": {
      "needs_background": "light"
     },
     "output_type": "display_data"
    }
   ],
   "source": [
    "# Visualizing using box plot\n",
    "\n",
    "plt.figure(figsize=(5,7))\n",
    "sns.boxplot(y=leads_df['TotalVisits'])\n",
    "plt.show()"
   ]
  },
  {
   "cell_type": "markdown",
   "id": "b71aa88c",
   "metadata": {},
   "source": [
    "**Insights**: \n",
    " - We can see outliers for this column . So better to use 'Median' for replacing null value which is ~2% of data."
   ]
  },
  {
   "cell_type": "code",
   "execution_count": 52,
   "id": "61ceec81",
   "metadata": {},
   "outputs": [],
   "source": [
    "# Replacing Null Values with median\n",
    "leads_df['TotalVisits']=leads_df['TotalVisits'].replace(np.nan,leads_df['TotalVisits'].median())"
   ]
  },
  {
   "cell_type": "code",
   "execution_count": 53,
   "id": "709a7064",
   "metadata": {},
   "outputs": [
    {
     "data": {
      "text/plain": [
       "Page Views Per Visit                        1.48\n",
       "Lead Source                                 0.39\n",
       "Lead Origin                                 0.00\n",
       "Newspaper Article                           0.00\n",
       "I agree to pay the amount through cheque    0.00\n",
       "Get updates on DM Content                   0.00\n",
       "Update me on Supply Chain Content           0.00\n",
       "Receive More Updates About Our Courses      0.00\n",
       "Through Recommendations                     0.00\n",
       "Digital Advertisement                       0.00\n",
       "Newspaper                                   0.00\n",
       "X Education Forums                          0.00\n",
       "Magazine                                    0.00\n",
       "Search                                      0.00\n",
       "What is your current occupation             0.00\n",
       "Specialization                              0.00\n",
       "Total Time Spent on Website                 0.00\n",
       "TotalVisits                                 0.00\n",
       "Converted                                   0.00\n",
       "Do Not Call                                 0.00\n",
       "Do Not Email                                0.00\n",
       "A free copy of Mastering The Interview      0.00\n",
       "dtype: float64"
      ]
     },
     "execution_count": 53,
     "metadata": {},
     "output_type": "execute_result"
    }
   ],
   "source": [
    "# Lets check again for remaining columns\n",
    "\n",
    "round((100*leads_df.isnull().sum()/len(leads_df)),2).sort_values(ascending=False)"
   ]
  },
  {
   "cell_type": "markdown",
   "id": "8e48a537",
   "metadata": {},
   "source": [
    "#### 4.4.7. Handling for `Page Views Per Visit`"
   ]
  },
  {
   "cell_type": "code",
   "execution_count": 54,
   "id": "a87772f1",
   "metadata": {},
   "outputs": [
    {
     "data": {
      "text/plain": [
       "count    9103.000000\n",
       "mean        2.362820\n",
       "std         2.161418\n",
       "min         0.000000\n",
       "25%         1.000000\n",
       "50%         2.000000\n",
       "75%         3.000000\n",
       "max        55.000000\n",
       "Name: Page Views Per Visit, dtype: float64"
      ]
     },
     "execution_count": 54,
     "metadata": {},
     "output_type": "execute_result"
    }
   ],
   "source": [
    "# Checking data distribution for this numerical column\n",
    "\n",
    "leads_df['Page Views Per Visit'].describe()"
   ]
  },
  {
   "cell_type": "code",
   "execution_count": 55,
   "id": "5ba1d190",
   "metadata": {},
   "outputs": [
    {
     "data": {
      "image/png": "[encoded data removed]",
      "text/plain": [
       "<Figure size 360x504 with 1 Axes>"
      ]
     },
     "metadata": {
      "needs_background": "light"
     },
     "output_type": "display_data"
    }
   ],
   "source": [
    "# Visualizing using box plot\n",
    "\n",
    "plt.figure(figsize=(5,7))\n",
    "sns.boxplot(y=leads_df['Page Views Per Visit'])\n",
    "plt.show()"
   ]
  },
  {
   "cell_type": "markdown",
   "id": "6ab4c2ba",
   "metadata": {},
   "source": [
    "**Insights**: \n",
    " - Here also ,We can see outliers. So better to use 'Median' for replacing null value which is ~1.5% of data."
   ]
  },
  {
   "cell_type": "code",
   "execution_count": 56,
   "id": "a1e5e690",
   "metadata": {},
   "outputs": [],
   "source": [
    "# Replacing Null Values with median\n",
    "leads_df['Page Views Per Visit']=leads_df['Page Views Per Visit'].replace(np.nan,leads_df['Page Views Per Visit'].median())"
   ]
  },
  {
   "cell_type": "code",
   "execution_count": 57,
   "id": "249bb214",
   "metadata": {},
   "outputs": [
    {
     "data": {
      "text/plain": [
       "Lead Source                                 0.39\n",
       "Lead Origin                                 0.00\n",
       "I agree to pay the amount through cheque    0.00\n",
       "Get updates on DM Content                   0.00\n",
       "Update me on Supply Chain Content           0.00\n",
       "Receive More Updates About Our Courses      0.00\n",
       "Through Recommendations                     0.00\n",
       "Digital Advertisement                       0.00\n",
       "Newspaper                                   0.00\n",
       "X Education Forums                          0.00\n",
       "Newspaper Article                           0.00\n",
       "Magazine                                    0.00\n",
       "Search                                      0.00\n",
       "What is your current occupation             0.00\n",
       "Specialization                              0.00\n",
       "Page Views Per Visit                        0.00\n",
       "Total Time Spent on Website                 0.00\n",
       "TotalVisits                                 0.00\n",
       "Converted                                   0.00\n",
       "Do Not Call                                 0.00\n",
       "Do Not Email                                0.00\n",
       "A free copy of Mastering The Interview      0.00\n",
       "dtype: float64"
      ]
     },
     "execution_count": 57,
     "metadata": {},
     "output_type": "execute_result"
    }
   ],
   "source": [
    "# Lets check again for remaining columns\n",
    "\n",
    "round((100*leads_df.isnull().sum()/len(leads_df)),2).sort_values(ascending=False)"
   ]
  },
  {
   "cell_type": "markdown",
   "id": "1ad2f85c",
   "metadata": {},
   "source": [
    "#### 4.4.8. Handling for `Lead Source`"
   ]
  },
  {
   "cell_type": "code",
   "execution_count": 58,
   "id": "733c4252",
   "metadata": {},
   "outputs": [
    {
     "data": {
      "text/plain": [
       "Google               2868\n",
       "Direct Traffic       2543\n",
       "Olark Chat           1755\n",
       "Organic Search       1154\n",
       "Reference             534\n",
       "Welingak Website      142\n",
       "Referral Sites        125\n",
       "Facebook               55\n",
       "NaN                    36\n",
       "bing                    6\n",
       "google                  5\n",
       "Click2call              4\n",
       "Social Media            2\n",
       "Live Chat               2\n",
       "Press_Release           2\n",
       "WeLearn                 1\n",
       "blog                    1\n",
       "NC_EDM                  1\n",
       "testone                 1\n",
       "Pay per Click Ads       1\n",
       "welearnblog_Home        1\n",
       "youtubechannel          1\n",
       "Name: Lead Source, dtype: int64"
      ]
     },
     "execution_count": 58,
     "metadata": {},
     "output_type": "execute_result"
    }
   ],
   "source": [
    "# Lets check each valid value count including null\n",
    "\n",
    "leads_df['Lead Source'].value_counts(dropna=False)"
   ]
  },
  {
   "cell_type": "code",
   "execution_count": 59,
   "id": "cbab13c4",
   "metadata": {},
   "outputs": [
    {
     "data": {
      "image/png": "[encoded data removed]",
      "text/plain": [
       "<Figure size 720x360 with 1 Axes>"
      ]
     },
     "metadata": {
      "needs_background": "light"
     },
     "output_type": "display_data"
    }
   ],
   "source": [
    "# Ploting 'Lead Source'\n",
    "plt.figure(figsize=(10,5))\n",
    "sns.countplot(leads_df['Lead Source'])\n",
    "plt.xticks(rotation=90)\n",
    "plt.show()"
   ]
  },
  {
   "cell_type": "markdown",
   "id": "3d0e3856",
   "metadata": {},
   "source": [
    "**Insights**: \n",
    " - We can replace null value with maximum occuring value `Google` as null count is very low.\n",
    " - There is another valid value in `Google` i.e. `google`. This also need to be handled. \n",
    " - Also we can see data imbalance for some valid values because of low count. We can merge those valid value to `Others`."
   ]
  },
  {
   "cell_type": "code",
   "execution_count": 60,
   "id": "5ee9e049",
   "metadata": {},
   "outputs": [],
   "source": [
    "leads_df['Lead Source']=leads_df['Lead Source'].replace(np.nan,leads_df['Lead Source'].mode()[0])\n",
    "leads_df['Lead Source']=leads_df['Lead Source'].replace('google',leads_df['Lead Source'].mode()[0])"
   ]
  },
  {
   "cell_type": "code",
   "execution_count": 61,
   "id": "9c8fc1cb",
   "metadata": {},
   "outputs": [],
   "source": [
    "leads_df['Lead Source']=leads_df['Lead Source'].replace(['Facebook','bing','Click2call','Live Chat','Press_Release','Social Media','welearnblog_Home','Pay per Click Ads','youtubechannel','blog','WeLearn','NC_EDM','testone'],'Others')"
   ]
  },
  {
   "cell_type": "code",
   "execution_count": 62,
   "id": "ec55b4ea",
   "metadata": {},
   "outputs": [
    {
     "data": {
      "image/png": "[encoded data removed]",
      "text/plain": [
       "<Figure size 720x360 with 1 Axes>"
      ]
     },
     "metadata": {
      "needs_background": "light"
     },
     "output_type": "display_data"
    }
   ],
   "source": [
    "# Ploting 'Lead Source'\n",
    "plt.figure(figsize=(10,5))\n",
    "sns.countplot(leads_df['Lead Source'])\n",
    "plt.xticks(rotation=90)\n",
    "plt.show()"
   ]
  },
  {
   "cell_type": "code",
   "execution_count": 63,
   "id": "27369001",
   "metadata": {},
   "outputs": [
    {
     "data": {
      "text/plain": [
       "Lead Origin                                 0.0\n",
       "Lead Source                                 0.0\n",
       "I agree to pay the amount through cheque    0.0\n",
       "Get updates on DM Content                   0.0\n",
       "Update me on Supply Chain Content           0.0\n",
       "Receive More Updates About Our Courses      0.0\n",
       "Through Recommendations                     0.0\n",
       "Digital Advertisement                       0.0\n",
       "Newspaper                                   0.0\n",
       "X Education Forums                          0.0\n",
       "Newspaper Article                           0.0\n",
       "Magazine                                    0.0\n",
       "Search                                      0.0\n",
       "What is your current occupation             0.0\n",
       "Specialization                              0.0\n",
       "Page Views Per Visit                        0.0\n",
       "Total Time Spent on Website                 0.0\n",
       "TotalVisits                                 0.0\n",
       "Converted                                   0.0\n",
       "Do Not Call                                 0.0\n",
       "Do Not Email                                0.0\n",
       "A free copy of Mastering The Interview      0.0\n",
       "dtype: float64"
      ]
     },
     "execution_count": 63,
     "metadata": {},
     "output_type": "execute_result"
    }
   ],
   "source": [
    "# Lets check again for remaining columns\n",
    "\n",
    "round((100*leads_df.isnull().sum()/len(leads_df)),2).sort_values(ascending=False)"
   ]
  },
  {
   "cell_type": "markdown",
   "id": "3f9ce38a",
   "metadata": {},
   "source": [
    "**Insights**\n",
    "  - Now we have almost handled all columns with null values. We still have some columns with negligible null count.\n",
    "  - We will check those remaining columns for data distribution . If we will find any imbalance in data then will drop them."
   ]
  },
  {
   "cell_type": "markdown",
   "id": "4eda3bbf",
   "metadata": {},
   "source": [
    "#### 4.4.9. Handling for `Lead Origin`"
   ]
  },
  {
   "cell_type": "code",
   "execution_count": 64,
   "id": "e0937099",
   "metadata": {},
   "outputs": [
    {
     "data": {
      "text/plain": [
       "Landing Page Submission    4886\n",
       "API                        3580\n",
       "Lead Add Form               718\n",
       "Lead Import                  55\n",
       "Quick Add Form                1\n",
       "Name: Lead Origin, dtype: int64"
      ]
     },
     "execution_count": 64,
     "metadata": {},
     "output_type": "execute_result"
    }
   ],
   "source": [
    "# Checking Lead Origin\n",
    "leads_df['Lead Origin'].value_counts(dropna=False)"
   ]
  },
  {
   "cell_type": "markdown",
   "id": "316734db",
   "metadata": {},
   "source": [
    "**Insights**\n",
    "  - Here we can see 2 dominanting valid values (Landing Page Submission,API) followed by 3 others will comparatively lower count . We can merge below 2 low counts valid values."
   ]
  },
  {
   "cell_type": "code",
   "execution_count": 65,
   "id": "b5f20a67",
   "metadata": {},
   "outputs": [],
   "source": [
    "leads_df['Lead Origin']=leads_df['Lead Origin'].replace(['Lead Import','Quick Add Form'],'Others')"
   ]
  },
  {
   "cell_type": "code",
   "execution_count": 66,
   "id": "d79f5a08",
   "metadata": {},
   "outputs": [
    {
     "data": {
      "image/png": "[encoded data removed]",
      "text/plain": [
       "<Figure size 504x360 with 1 Axes>"
      ]
     },
     "metadata": {
      "needs_background": "light"
     },
     "output_type": "display_data"
    }
   ],
   "source": [
    "# Ploting 'Lead Source'\n",
    "plt.figure(figsize=(7,5))\n",
    "sns.countplot(leads_df['Lead Origin'])\n",
    "plt.xticks(rotation=90)\n",
    "plt.show()"
   ]
  },
  {
   "cell_type": "markdown",
   "id": "d2237757",
   "metadata": {},
   "source": [
    "#### 4.4.10. Handling for `Newspaper Article`"
   ]
  },
  {
   "cell_type": "code",
   "execution_count": 67,
   "id": "47cd5bb4",
   "metadata": {},
   "outputs": [
    {
     "data": {
      "text/plain": [
       "No     9238\n",
       "Yes       2\n",
       "Name: Newspaper Article, dtype: int64"
      ]
     },
     "execution_count": 67,
     "metadata": {},
     "output_type": "execute_result"
    }
   ],
   "source": [
    "leads_df['Newspaper Article'].value_counts(dropna=False)"
   ]
  },
  {
   "cell_type": "markdown",
   "id": "e26cf783",
   "metadata": {},
   "source": [
    "**Insights**\n",
    "  - Here , we have data imbalance with majority of 'No'. We can drop this column as it will not help for prediction."
   ]
  },
  {
   "cell_type": "code",
   "execution_count": 68,
   "id": "cdc6b517",
   "metadata": {},
   "outputs": [],
   "source": [
    "leads_df.drop('Newspaper Article',axis=1,inplace=True)"
   ]
  },
  {
   "cell_type": "markdown",
   "id": "658a8a0c",
   "metadata": {},
   "source": [
    "#### 4.4.11. Handling for `A free copy of Mastering The Interview`"
   ]
  },
  {
   "cell_type": "code",
   "execution_count": 69,
   "id": "db097f39",
   "metadata": {},
   "outputs": [
    {
     "data": {
      "text/plain": [
       "No     6352\n",
       "Yes    2888\n",
       "Name: A free copy of Mastering The Interview, dtype: int64"
      ]
     },
     "execution_count": 69,
     "metadata": {},
     "output_type": "execute_result"
    }
   ],
   "source": [
    "leads_df['A free copy of Mastering The Interview'].value_counts(dropna=False)"
   ]
  },
  {
   "cell_type": "markdown",
   "id": "7f50da00",
   "metadata": {},
   "source": [
    "**Insights**\n",
    "  - Here , we can see balance in data. So keepting it for modeling."
   ]
  },
  {
   "cell_type": "markdown",
   "id": "91933e98",
   "metadata": {},
   "source": [
    "#### 4.4.12. Handling for `I agree to pay the amount through cheque`"
   ]
  },
  {
   "cell_type": "code",
   "execution_count": 70,
   "id": "ce203088",
   "metadata": {},
   "outputs": [
    {
     "data": {
      "text/plain": [
       "No    9240\n",
       "Name: I agree to pay the amount through cheque, dtype: int64"
      ]
     },
     "execution_count": 70,
     "metadata": {},
     "output_type": "execute_result"
    }
   ],
   "source": [
    "leads_df['I agree to pay the amount through cheque'].value_counts(dropna=False)"
   ]
  },
  {
   "cell_type": "markdown",
   "id": "52406c22",
   "metadata": {},
   "source": [
    "**Insights**\n",
    "  - Here , We have only one valid value so we can drop this column."
   ]
  },
  {
   "cell_type": "code",
   "execution_count": 71,
   "id": "b5c4af77",
   "metadata": {},
   "outputs": [],
   "source": [
    "leads_df.drop('I agree to pay the amount through cheque',axis=1,inplace=True)"
   ]
  },
  {
   "cell_type": "markdown",
   "id": "bbf484a2",
   "metadata": {},
   "source": [
    "#### 4.4.13. Handling for `Get updates on DM Content`"
   ]
  },
  {
   "cell_type": "code",
   "execution_count": 72,
   "id": "16b53bd4",
   "metadata": {},
   "outputs": [
    {
     "data": {
      "text/plain": [
       "No    9240\n",
       "Name: Get updates on DM Content, dtype: int64"
      ]
     },
     "execution_count": 72,
     "metadata": {},
     "output_type": "execute_result"
    }
   ],
   "source": [
    "leads_df['Get updates on DM Content'].value_counts(dropna=False)"
   ]
  },
  {
   "cell_type": "markdown",
   "id": "3ca1cbae",
   "metadata": {},
   "source": [
    "**Insights**\n",
    "  - Here also, We have only one valid value so this column is eligible for drop."
   ]
  },
  {
   "cell_type": "code",
   "execution_count": 73,
   "id": "8d847370",
   "metadata": {},
   "outputs": [],
   "source": [
    "leads_df.drop('Get updates on DM Content',axis=1,inplace=True)"
   ]
  },
  {
   "cell_type": "markdown",
   "id": "88f09fc6",
   "metadata": {},
   "source": [
    "#### 4.4.14. Handling for `Update me on Supply Chain Content`"
   ]
  },
  {
   "cell_type": "code",
   "execution_count": 74,
   "id": "3d508f97",
   "metadata": {},
   "outputs": [
    {
     "data": {
      "text/plain": [
       "No    9240\n",
       "Name: Update me on Supply Chain Content, dtype: int64"
      ]
     },
     "execution_count": 74,
     "metadata": {},
     "output_type": "execute_result"
    }
   ],
   "source": [
    "leads_df['Update me on Supply Chain Content'].value_counts(dropna=False)"
   ]
  },
  {
   "cell_type": "markdown",
   "id": "07b0321d",
   "metadata": {},
   "source": [
    "**Insights**\n",
    "  - Here also, We have only one valid value so this column is eligible for drop."
   ]
  },
  {
   "cell_type": "code",
   "execution_count": 75,
   "id": "3806f6c7",
   "metadata": {},
   "outputs": [],
   "source": [
    "leads_df.drop('Update me on Supply Chain Content',axis=1,inplace=True)"
   ]
  },
  {
   "cell_type": "markdown",
   "id": "dd81466a",
   "metadata": {},
   "source": [
    "#### 4.4.15. Handling for `Receive More Updates About Our Courses`"
   ]
  },
  {
   "cell_type": "code",
   "execution_count": 76,
   "id": "85cb0e76",
   "metadata": {},
   "outputs": [
    {
     "data": {
      "text/plain": [
       "No    9240\n",
       "Name: Receive More Updates About Our Courses, dtype: int64"
      ]
     },
     "execution_count": 76,
     "metadata": {},
     "output_type": "execute_result"
    }
   ],
   "source": [
    "leads_df['Receive More Updates About Our Courses'].value_counts(dropna=False)"
   ]
  },
  {
   "cell_type": "markdown",
   "id": "da15ae98",
   "metadata": {},
   "source": [
    "**Insights**\n",
    "  - Here also, We have only one valid value so this column is eligible for drop."
   ]
  },
  {
   "cell_type": "code",
   "execution_count": 77,
   "id": "fc72b114",
   "metadata": {},
   "outputs": [],
   "source": [
    "leads_df.drop('Receive More Updates About Our Courses',axis=1,inplace=True)"
   ]
  },
  {
   "cell_type": "markdown",
   "id": "737ebe46",
   "metadata": {},
   "source": [
    "#### 4.4.16. Handling for `Through Recommendations`"
   ]
  },
  {
   "cell_type": "code",
   "execution_count": 78,
   "id": "d473131b",
   "metadata": {},
   "outputs": [
    {
     "data": {
      "text/plain": [
       "No     9233\n",
       "Yes       7\n",
       "Name: Through Recommendations, dtype: int64"
      ]
     },
     "execution_count": 78,
     "metadata": {},
     "output_type": "execute_result"
    }
   ],
   "source": [
    "leads_df['Through Recommendations'].value_counts(dropna=False)"
   ]
  },
  {
   "cell_type": "markdown",
   "id": "2f9a710e",
   "metadata": {},
   "source": [
    "**Insights**\n",
    "  - Here , we have data imbalance with majority of 'No'. We can drop this column as it will not help for prediction."
   ]
  },
  {
   "cell_type": "code",
   "execution_count": 79,
   "id": "b4b49bbf",
   "metadata": {},
   "outputs": [],
   "source": [
    "leads_df.drop('Through Recommendations',axis=1,inplace=True)"
   ]
  },
  {
   "cell_type": "markdown",
   "id": "94dd6203",
   "metadata": {},
   "source": [
    "#### 4.4.17. Handling for `Digital Advertisement`"
   ]
  },
  {
   "cell_type": "code",
   "execution_count": 80,
   "id": "c932b4f3",
   "metadata": {},
   "outputs": [
    {
     "data": {
      "text/plain": [
       "No     9236\n",
       "Yes       4\n",
       "Name: Digital Advertisement, dtype: int64"
      ]
     },
     "execution_count": 80,
     "metadata": {},
     "output_type": "execute_result"
    }
   ],
   "source": [
    "leads_df['Digital Advertisement'].value_counts(dropna=False)"
   ]
  },
  {
   "cell_type": "markdown",
   "id": "aef6ffa9",
   "metadata": {},
   "source": [
    "**Insights**\n",
    "  - Here , we have data imbalance with majority of 'No'. We can drop this column as it will not help for prediction."
   ]
  },
  {
   "cell_type": "code",
   "execution_count": 81,
   "id": "f182c976",
   "metadata": {},
   "outputs": [],
   "source": [
    "leads_df.drop('Digital Advertisement',axis=1,inplace=True)"
   ]
  },
  {
   "cell_type": "markdown",
   "id": "8862f585",
   "metadata": {},
   "source": [
    "#### 4.4.18. Handling for `Newspaper`"
   ]
  },
  {
   "cell_type": "code",
   "execution_count": 82,
   "id": "f67b2e77",
   "metadata": {},
   "outputs": [
    {
     "data": {
      "text/plain": [
       "No     9239\n",
       "Yes       1\n",
       "Name: Newspaper, dtype: int64"
      ]
     },
     "execution_count": 82,
     "metadata": {},
     "output_type": "execute_result"
    }
   ],
   "source": [
    "leads_df['Newspaper'].value_counts(dropna=False)"
   ]
  },
  {
   "cell_type": "markdown",
   "id": "3a328945",
   "metadata": {},
   "source": [
    "**Insights**\n",
    "  - Here , we have data imbalance with majority of 'No'. We can drop this column as it will not help for prediction."
   ]
  },
  {
   "cell_type": "code",
   "execution_count": 83,
   "id": "c3c14dee",
   "metadata": {},
   "outputs": [],
   "source": [
    "leads_df.drop('Newspaper',axis=1,inplace=True)"
   ]
  },
  {
   "cell_type": "markdown",
   "id": "860a73cd",
   "metadata": {},
   "source": [
    "#### 4.4.19. Handling for `X Education Forums`"
   ]
  },
  {
   "cell_type": "code",
   "execution_count": 84,
   "id": "213736f1",
   "metadata": {},
   "outputs": [
    {
     "data": {
      "text/plain": [
       "No     9239\n",
       "Yes       1\n",
       "Name: X Education Forums, dtype: int64"
      ]
     },
     "execution_count": 84,
     "metadata": {},
     "output_type": "execute_result"
    }
   ],
   "source": [
    "leads_df['X Education Forums'].value_counts(dropna=False)"
   ]
  },
  {
   "cell_type": "markdown",
   "id": "d57a7e51",
   "metadata": {},
   "source": [
    "**Insights**\n",
    "  - Here , we have data imbalance with majority of 'No'. We can drop this column as it will not help for prediction."
   ]
  },
  {
   "cell_type": "code",
   "execution_count": 85,
   "id": "49eb8d2f",
   "metadata": {},
   "outputs": [],
   "source": [
    "leads_df.drop('X Education Forums',axis=1,inplace=True)"
   ]
  },
  {
   "cell_type": "markdown",
   "id": "5f098960",
   "metadata": {},
   "source": [
    "#### 4.4.20. Handling for `Magazine`"
   ]
  },
  {
   "cell_type": "code",
   "execution_count": 86,
   "id": "d026f1a8",
   "metadata": {},
   "outputs": [
    {
     "data": {
      "text/plain": [
       "No    9240\n",
       "Name: Magazine, dtype: int64"
      ]
     },
     "execution_count": 86,
     "metadata": {},
     "output_type": "execute_result"
    }
   ],
   "source": [
    "leads_df['Magazine'].value_counts(dropna=False)"
   ]
  },
  {
   "cell_type": "markdown",
   "id": "d07cc3fb",
   "metadata": {},
   "source": [
    "**Insights**\n",
    "  - Here, We have only one valid value so this column is eligible for drop."
   ]
  },
  {
   "cell_type": "code",
   "execution_count": 87,
   "id": "24e5ba0b",
   "metadata": {},
   "outputs": [],
   "source": [
    "leads_df.drop('Magazine',axis=1,inplace=True)"
   ]
  },
  {
   "cell_type": "markdown",
   "id": "6cc28e62",
   "metadata": {},
   "source": [
    "#### 4.4.21. Handling for `Search`"
   ]
  },
  {
   "cell_type": "code",
   "execution_count": 88,
   "id": "037169e8",
   "metadata": {},
   "outputs": [
    {
     "data": {
      "text/plain": [
       "No     9226\n",
       "Yes      14\n",
       "Name: Search, dtype: int64"
      ]
     },
     "execution_count": 88,
     "metadata": {},
     "output_type": "execute_result"
    }
   ],
   "source": [
    "leads_df['Search'].value_counts(dropna=False)"
   ]
  },
  {
   "cell_type": "markdown",
   "id": "fc8ed935",
   "metadata": {},
   "source": [
    "**Insights**\n",
    "  - Here , we have data imbalance with majority of 'No'. We can drop this column as it will not help for prediction."
   ]
  },
  {
   "cell_type": "code",
   "execution_count": 89,
   "id": "f6dbd42d",
   "metadata": {},
   "outputs": [],
   "source": [
    "leads_df.drop('Search',axis=1,inplace=True)"
   ]
  },
  {
   "cell_type": "markdown",
   "id": "36fc546c",
   "metadata": {},
   "source": [
    "#### 4.4.22. Handling for `Do Not Call`"
   ]
  },
  {
   "cell_type": "code",
   "execution_count": 90,
   "id": "0eec42e7",
   "metadata": {},
   "outputs": [
    {
     "data": {
      "text/plain": [
       "No     9238\n",
       "Yes       2\n",
       "Name: Do Not Call, dtype: int64"
      ]
     },
     "execution_count": 90,
     "metadata": {},
     "output_type": "execute_result"
    }
   ],
   "source": [
    "leads_df['Do Not Call'].value_counts(dropna=False)"
   ]
  },
  {
   "cell_type": "markdown",
   "id": "dd10b7fb",
   "metadata": {},
   "source": [
    "**Insights**\n",
    "  - Here , we have data imbalance with majority of 'No'. We can drop this column as it will not help for prediction."
   ]
  },
  {
   "cell_type": "code",
   "execution_count": 91,
   "id": "2f7aabd6",
   "metadata": {},
   "outputs": [],
   "source": [
    "leads_df.drop('Do Not Call',axis=1,inplace=True)"
   ]
  },
  {
   "cell_type": "markdown",
   "id": "8bae1480",
   "metadata": {},
   "source": [
    "#### 4.4.23. Handling for `Do Not Email`"
   ]
  },
  {
   "cell_type": "code",
   "execution_count": 92,
   "id": "e065184c",
   "metadata": {},
   "outputs": [
    {
     "data": {
      "text/plain": [
       "No     8506\n",
       "Yes     734\n",
       "Name: Do Not Email, dtype: int64"
      ]
     },
     "execution_count": 92,
     "metadata": {},
     "output_type": "execute_result"
    }
   ],
   "source": [
    "leads_df['Do Not Email'].value_counts(dropna=False)"
   ]
  },
  {
   "cell_type": "markdown",
   "id": "38136a09",
   "metadata": {},
   "source": [
    "**Insights**\n",
    "  - Here , we see sightly data imbalance. So we will keep this column."
   ]
  },
  {
   "cell_type": "markdown",
   "id": "3802ec5c",
   "metadata": {},
   "source": [
    "#### Now we have handled all columns . Let's see final dataframe."
   ]
  },
  {
   "cell_type": "code",
   "execution_count": 93,
   "id": "7887ee31",
   "metadata": {},
   "outputs": [
    {
     "name": "stdout",
     "output_type": "stream",
     "text": [
      "<class 'pandas.core.frame.DataFrame'>\n",
      "RangeIndex: 9240 entries, 0 to 9239\n",
      "Data columns (total 10 columns):\n",
      " #   Column                                  Non-Null Count  Dtype  \n",
      "---  ------                                  --------------  -----  \n",
      " 0   Lead Origin                             9240 non-null   object \n",
      " 1   Lead Source                             9240 non-null   object \n",
      " 2   Do Not Email                            9240 non-null   object \n",
      " 3   Converted                               9240 non-null   int64  \n",
      " 4   TotalVisits                             9240 non-null   float64\n",
      " 5   Total Time Spent on Website             9240 non-null   int64  \n",
      " 6   Page Views Per Visit                    9240 non-null   float64\n",
      " 7   Specialization                          9240 non-null   object \n",
      " 8   What is your current occupation         9240 non-null   object \n",
      " 9   A free copy of Mastering The Interview  9240 non-null   object \n",
      "dtypes: float64(2), int64(2), object(6)\n",
      "memory usage: 722.0+ KB\n"
     ]
    }
   ],
   "source": [
    "leads_df.info()"
   ]
  },
  {
   "cell_type": "markdown",
   "id": "80468b01",
   "metadata": {},
   "source": [
    "# 5. Data Analysis And Data Preparation"
   ]
  },
  {
   "cell_type": "markdown",
   "id": "37cc61ee",
   "metadata": {},
   "source": [
    "## 5.1. Univariate Analysis for target variable 'Converted'"
   ]
  },
  {
   "cell_type": "markdown",
   "id": "9f117487",
   "metadata": {},
   "source": [
    "### 5.1.1 Univariate Analysis with categorical variable"
   ]
  },
  {
   "cell_type": "code",
   "execution_count": 94,
   "id": "dc42425a",
   "metadata": {},
   "outputs": [],
   "source": [
    "#defining one common function for categorical column analysis with target column 'Converted'\n",
    "def categorical_analysis(var):\n",
    "    plt.figure(figsize=(10, 5))\n",
    "    sns.countplot(data=leads_df,x=var,hue=leads_df['Converted'])\n",
    "    plt.xticks(rotation = 90)\n",
    "    plt.show()"
   ]
  },
  {
   "cell_type": "markdown",
   "id": "61a6e509",
   "metadata": {},
   "source": [
    "#### 1. Lead Origin "
   ]
  },
  {
   "cell_type": "code",
   "execution_count": 95,
   "id": "839df7a2",
   "metadata": {},
   "outputs": [
    {
     "data": {
      "image/png": "[encoded data removed]",
      "text/plain": [
       "<Figure size 720x360 with 1 Axes>"
      ]
     },
     "metadata": {
      "needs_background": "light"
     },
     "output_type": "display_data"
    }
   ],
   "source": [
    "categorical_analysis('Lead Origin')"
   ]
  },
  {
   "cell_type": "markdown",
   "id": "7e9a117d",
   "metadata": {},
   "source": [
    "**Insights:**\n",
    "  - For API and Landing page submission , lead coversion count is almost half as compared to non-conversion count. Hence we can say , there is only 30 -35 % coversion rate . But count of lead originated from these points are high.\n",
    "  - For 'Lead Add Form' , we can say conversion rate is significantly high. But count of lead originated is not very high.\n",
    "  - To improve conversion rate , we need to focus on below two things:\n",
    "    - Improving conversion rate of lead origin `API` and `Landing Page Submission`.\n",
    "    - Improving count of lead generation from `Lead Add From`.\n",
    "    "
   ]
  },
  {
   "cell_type": "markdown",
   "id": "bb3eaa52",
   "metadata": {},
   "source": [
    "#### 2. Lead Source "
   ]
  },
  {
   "cell_type": "code",
   "execution_count": 96,
   "id": "42c81933",
   "metadata": {},
   "outputs": [
    {
     "data": {
      "image/png": "[encoded data removed]",
      "text/plain": [
       "<Figure size 720x360 with 1 Axes>"
      ]
     },
     "metadata": {
      "needs_background": "light"
     },
     "output_type": "display_data"
    }
   ],
   "source": [
    "categorical_analysis('Lead Source')"
   ]
  },
  {
   "cell_type": "markdown",
   "id": "b6b4f2e3",
   "metadata": {},
   "source": [
    "**Insights:**\n",
    "  - Maximum leads are getting generated from `Google` and `Direct Traffic`. While `Google` has better leads conversion rate as compare to `Direct Traffic`.\n",
    "  - Leads conversion rate from `Refernce` and `welingak website` are significantly high.\n",
    "  - To improve conversion rate , we need to focus on below things:\n",
    "    - Improving conversion rate of lead source `Google` and `Direct Traffic`.\n",
    "    - Improving conversion rate of lead source `olark chat` and `organic search` as we have significant count of lead generation from these two sources.\n",
    "    - Improving count of lead generation from `Refernce` and `welingak website` as these are having good conversion rate."
   ]
  },
  {
   "cell_type": "markdown",
   "id": "63b6e55d",
   "metadata": {},
   "source": [
    "#### 3. Do Not Email"
   ]
  },
  {
   "cell_type": "code",
   "execution_count": 97,
   "id": "440028cb",
   "metadata": {},
   "outputs": [
    {
     "data": {
      "image/png": "[encoded data removed]",
      "text/plain": [
       "<Figure size 720x360 with 1 Axes>"
      ]
     },
     "metadata": {
      "needs_background": "light"
     },
     "output_type": "display_data"
    }
   ],
   "source": [
    "categorical_analysis('Do Not Email')"
   ]
  },
  {
   "cell_type": "markdown",
   "id": "b03b2db8",
   "metadata": {},
   "source": [
    "**Insights:**\n",
    "  - Maximum leads are getting generated where Do Not Email is opted as `No` thouogh conversion rate is not that good.\n",
    "  - We need to focus on improving conversion rate of those leads where Do Not Email is opted as `No`."
   ]
  },
  {
   "cell_type": "markdown",
   "id": "8dcfcd0e",
   "metadata": {},
   "source": [
    "#### 5. Specialization"
   ]
  },
  {
   "cell_type": "code",
   "execution_count": 98,
   "id": "bac254c1",
   "metadata": {},
   "outputs": [
    {
     "data": {
      "image/png": "[encoded data removed]",
      "text/plain": [
       "<Figure size 720x360 with 1 Axes>"
      ]
     },
     "metadata": {
      "needs_background": "light"
     },
     "output_type": "display_data"
    }
   ],
   "source": [
    "categorical_analysis('Specialization')"
   ]
  },
  {
   "cell_type": "markdown",
   "id": "d09dd88c",
   "metadata": {},
   "source": [
    "**Insights:**\n",
    "  - Customers belonging to `Management Specializtion` are responding good . We have high leads conversion rate there.\n",
    "  - Customers belonging to `Banking , Investment and Insurance` are having mix response. We have almost 50% coneversion rate.\n",
    "  - Customers with `Services Excellence` specialization are showing very low conversion rate. "
   ]
  },
  {
   "cell_type": "markdown",
   "id": "b2e8857e",
   "metadata": {},
   "source": [
    "#### 6. What is your current occupation"
   ]
  },
  {
   "cell_type": "code",
   "execution_count": 99,
   "id": "c8165583",
   "metadata": {},
   "outputs": [
    {
     "data": {
      "image/png": "[encoded data removed]",
      "text/plain": [
       "<Figure size 720x360 with 1 Axes>"
      ]
     },
     "metadata": {
      "needs_background": "light"
     },
     "output_type": "display_data"
    }
   ],
   "source": [
    "categorical_analysis('What is your current occupation')"
   ]
  },
  {
   "cell_type": "markdown",
   "id": "fd439446",
   "metadata": {},
   "source": [
    "**Insights:**\n",
    "  - `Working professional` are having good conversion rates while from `Unemployed` are holding most leads\n",
    "  - To improve conversion rate , we need to focus on below things:\n",
    "    - Improving conversion rate for `Unemployed`.\n",
    "    - Improving leads generation from `Working professional`."
   ]
  },
  {
   "cell_type": "markdown",
   "id": "4dee71c5",
   "metadata": {},
   "source": [
    "#### 8. A free copy of Mastering The Interview"
   ]
  },
  {
   "cell_type": "code",
   "execution_count": 100,
   "id": "77d5f4c8",
   "metadata": {},
   "outputs": [
    {
     "data": {
      "image/png": "[encoded data removed]",
      "text/plain": [
       "<Figure size 720x360 with 1 Axes>"
      ]
     },
     "metadata": {
      "needs_background": "light"
     },
     "output_type": "display_data"
    }
   ],
   "source": [
    "categorical_analysis('A free copy of Mastering The Interview')"
   ]
  },
  {
   "cell_type": "markdown",
   "id": "d686a92e",
   "metadata": {},
   "source": [
    "**Insights:**\n",
    "   - For both value `Yes` and `No` , leads conversion rate is not that good but 'Yes' is having better conevrsion rate as compare to `No` thouogh we have more leads from `No`."
   ]
  },
  {
   "cell_type": "markdown",
   "id": "ddfebe8f",
   "metadata": {},
   "source": [
    "### 5.1.2 Univariate Analysis with numerical variable"
   ]
  },
  {
   "cell_type": "code",
   "execution_count": 101,
   "id": "c4717197",
   "metadata": {},
   "outputs": [],
   "source": [
    "#defining one common function for numerical column analysis with target column 'Converted'\n",
    "def numerical_analysis(var):\n",
    "    plt.figure(figsize=(5,7))\n",
    "    sns.boxplot(data=leads_df,y=var,x='Converted')\n",
    "    plt.show()"
   ]
  },
  {
   "cell_type": "markdown",
   "id": "955c62ac",
   "metadata": {},
   "source": [
    "#### 1. TotalVisits"
   ]
  },
  {
   "cell_type": "code",
   "execution_count": 102,
   "id": "6005f050",
   "metadata": {},
   "outputs": [
    {
     "data": {
      "image/png": "[encoded data removed]",
      "text/plain": [
       "<Figure size 360x504 with 1 Axes>"
      ]
     },
     "metadata": {
      "needs_background": "light"
     },
     "output_type": "display_data"
    }
   ],
   "source": [
    "numerical_analysis('TotalVisits')"
   ]
  },
  {
   "cell_type": "markdown",
   "id": "f00eec2e",
   "metadata": {},
   "source": [
    "**Insights :** \n",
    "   - We can see outliers present . This need to be handled."
   ]
  },
  {
   "cell_type": "code",
   "execution_count": 103,
   "id": "7410bb72",
   "metadata": {},
   "outputs": [
    {
     "data": {
      "text/plain": [
       "count    9240.000000\n",
       "mean        3.438636\n",
       "std         4.819024\n",
       "min         0.000000\n",
       "5%          0.000000\n",
       "25%         1.000000\n",
       "50%         3.000000\n",
       "75%         5.000000\n",
       "90%         7.000000\n",
       "99%        17.000000\n",
       "max       251.000000\n",
       "Name: TotalVisits, dtype: float64"
      ]
     },
     "execution_count": 103,
     "metadata": {},
     "output_type": "execute_result"
    }
   ],
   "source": [
    "leads_df['TotalVisits'].describe(percentiles = [0.05,0.25,0.5,0.75,0.90,0.99])"
   ]
  },
  {
   "cell_type": "markdown",
   "id": "1278a885",
   "metadata": {},
   "source": [
    "**Insights**\n",
    " - We can see top 1% is holding outliers. We can remove this."
   ]
  },
  {
   "cell_type": "code",
   "execution_count": 104,
   "id": "9f89f45c",
   "metadata": {},
   "outputs": [],
   "source": [
    "# Removing the top 1%\n",
    "leads_df= leads_df[(leads_df['TotalVisits'] <= leads_df['TotalVisits'].quantile(0.99))]"
   ]
  },
  {
   "cell_type": "code",
   "execution_count": 105,
   "id": "d8b89133",
   "metadata": {},
   "outputs": [
    {
     "data": {
      "image/png": "[encoded data removed]",
      "text/plain": [
       "<Figure size 360x504 with 1 Axes>"
      ]
     },
     "metadata": {
      "needs_background": "light"
     },
     "output_type": "display_data"
    }
   ],
   "source": [
    "numerical_analysis('TotalVisits')"
   ]
  },
  {
   "cell_type": "markdown",
   "id": "3aec4adf",
   "metadata": {},
   "source": [
    "**Insights**\n",
    " - Converted Leads are having more TotalVisits although median for both is same."
   ]
  },
  {
   "cell_type": "markdown",
   "id": "19c71cf1",
   "metadata": {},
   "source": [
    "#### 2 .Total Time Spent on Website"
   ]
  },
  {
   "cell_type": "code",
   "execution_count": 106,
   "id": "f24c6acd",
   "metadata": {},
   "outputs": [
    {
     "data": {
      "image/png": "[encoded data removed]",
      "text/plain": [
       "<Figure size 360x504 with 1 Axes>"
      ]
     },
     "metadata": {
      "needs_background": "light"
     },
     "output_type": "display_data"
    }
   ],
   "source": [
    "numerical_analysis('Total Time Spent on Website')"
   ]
  },
  {
   "cell_type": "markdown",
   "id": "a034c2a8",
   "metadata": {},
   "source": [
    "**Insights**\n",
    " - Converted Leads are having more `Total Time Spent on Website`."
   ]
  },
  {
   "cell_type": "markdown",
   "id": "350eb408",
   "metadata": {},
   "source": [
    "#### 3 . Page Views Per Visit"
   ]
  },
  {
   "cell_type": "code",
   "execution_count": 107,
   "id": "3b800f30",
   "metadata": {},
   "outputs": [
    {
     "data": {
      "image/png": "[encoded data removed]",
      "text/plain": [
       "<Figure size 360x504 with 1 Axes>"
      ]
     },
     "metadata": {
      "needs_background": "light"
     },
     "output_type": "display_data"
    }
   ],
   "source": [
    "numerical_analysis('Page Views Per Visit')"
   ]
  },
  {
   "cell_type": "markdown",
   "id": "3c210d7d",
   "metadata": {},
   "source": [
    "**Insights :** \n",
    "   - We can see some outliers present . This need to be handled."
   ]
  },
  {
   "cell_type": "code",
   "execution_count": 108,
   "id": "d75e2a48",
   "metadata": {},
   "outputs": [
    {
     "data": {
      "text/plain": [
       "count    9157.000000\n",
       "mean        2.332225\n",
       "std         2.047285\n",
       "min         0.000000\n",
       "5%          0.000000\n",
       "25%         1.000000\n",
       "50%         2.000000\n",
       "75%         3.000000\n",
       "90%         5.000000\n",
       "99%         9.000000\n",
       "max        16.000000\n",
       "Name: Page Views Per Visit, dtype: float64"
      ]
     },
     "execution_count": 108,
     "metadata": {},
     "output_type": "execute_result"
    }
   ],
   "source": [
    "leads_df['Page Views Per Visit'].describe(percentiles = [0.05,0.25,0.5,0.75,0.90,0.99])"
   ]
  },
  {
   "cell_type": "markdown",
   "id": "29a03596",
   "metadata": {},
   "source": [
    "**Insights**\n",
    " - We can see only top 1% is holding outliers. We can remove this."
   ]
  },
  {
   "cell_type": "code",
   "execution_count": 109,
   "id": "5da0d57b",
   "metadata": {},
   "outputs": [],
   "source": [
    "# Removing the top 1%\n",
    "leads_df= leads_df[(leads_df['Page Views Per Visit'] <= leads_df['Page Views Per Visit'].quantile(0.99))]"
   ]
  },
  {
   "cell_type": "code",
   "execution_count": 110,
   "id": "3ae2dfd2",
   "metadata": {},
   "outputs": [
    {
     "data": {
      "image/png": "[encoded data removed]",
      "text/plain": [
       "<Figure size 360x504 with 1 Axes>"
      ]
     },
     "metadata": {
      "needs_background": "light"
     },
     "output_type": "display_data"
    }
   ],
   "source": [
    "numerical_analysis('Page Views Per Visit')"
   ]
  },
  {
   "cell_type": "markdown",
   "id": "ecbc19a0",
   "metadata": {},
   "source": [
    "**Insights**\n",
    " - We can see for converted and Non-converted ,medians are almost same."
   ]
  },
  {
   "cell_type": "markdown",
   "id": "38a74ce7",
   "metadata": {},
   "source": [
    "## 5.2. Handling binary valued categorical columns"
   ]
  },
  {
   "cell_type": "markdown",
   "id": "7f5a2101",
   "metadata": {},
   "source": [
    "- before proceeding for modeling , we need to handle categorical columns for converting its value to numerical."
   ]
  },
  {
   "cell_type": "code",
   "execution_count": 111,
   "id": "21b536b4",
   "metadata": {},
   "outputs": [],
   "source": [
    "# Defining function for binary value conversion\n",
    "\n",
    "def binary_mapp(var):\n",
    "    return var.map({'Yes':1,'No':0})"
   ]
  },
  {
   "cell_type": "code",
   "execution_count": 112,
   "id": "1aae6bca",
   "metadata": {},
   "outputs": [
    {
     "name": "stdout",
     "output_type": "stream",
     "text": [
      "<class 'pandas.core.frame.DataFrame'>\n",
      "Int64Index: 9090 entries, 0 to 9239\n",
      "Data columns (total 10 columns):\n",
      " #   Column                                  Non-Null Count  Dtype  \n",
      "---  ------                                  --------------  -----  \n",
      " 0   Lead Origin                             9090 non-null   object \n",
      " 1   Lead Source                             9090 non-null   object \n",
      " 2   Do Not Email                            9090 non-null   object \n",
      " 3   Converted                               9090 non-null   int64  \n",
      " 4   TotalVisits                             9090 non-null   float64\n",
      " 5   Total Time Spent on Website             9090 non-null   int64  \n",
      " 6   Page Views Per Visit                    9090 non-null   float64\n",
      " 7   Specialization                          9090 non-null   object \n",
      " 8   What is your current occupation         9090 non-null   object \n",
      " 9   A free copy of Mastering The Interview  9090 non-null   object \n",
      "dtypes: float64(2), int64(2), object(6)\n",
      "memory usage: 1.0+ MB\n"
     ]
    }
   ],
   "source": [
    "leads_df.info()"
   ]
  },
  {
   "cell_type": "markdown",
   "id": "5f258214",
   "metadata": {},
   "source": [
    "- We have 'Do Not Email' and 'A free copy of Mastering The Interview' with binary values. Lets apply function on them."
   ]
  },
  {
   "cell_type": "code",
   "execution_count": 113,
   "id": "54c3910d",
   "metadata": {},
   "outputs": [],
   "source": [
    "leads_df['Do Not Email']=binary_mapp(leads_df['Do Not Email'])"
   ]
  },
  {
   "cell_type": "code",
   "execution_count": 114,
   "id": "d7a8d2f2",
   "metadata": {},
   "outputs": [],
   "source": [
    "leads_df['A free copy of Mastering The Interview']=binary_mapp(leads_df['A free copy of Mastering The Interview'])"
   ]
  },
  {
   "cell_type": "markdown",
   "id": "e0433e5f",
   "metadata": {},
   "source": [
    "## 5.3. Handling multi - valued categorical columns"
   ]
  },
  {
   "cell_type": "code",
   "execution_count": 115,
   "id": "5e76c2f7",
   "metadata": {},
   "outputs": [
    {
     "data": {
      "text/html": [
       "<div>\n",
       "<style scoped>\n",
       "    .dataframe tbody tr th:only-of-type {\n",
       "        vertical-align: middle;\n",
       "    }\n",
       "\n",
       "    .dataframe tbody tr th {\n",
       "        vertical-align: top;\n",
       "    }\n",
       "\n",
       "    .dataframe thead th {\n",
       "        text-align: right;\n",
       "    }\n",
       "</style>\n",
       "<table border=\"1\" class=\"dataframe\">\n",
       "  <thead>\n",
       "    <tr style=\"text-align: right;\">\n",
       "      <th></th>\n",
       "      <th>Lead Origin_Landing Page Submission</th>\n",
       "      <th>Lead Origin_Lead Add Form</th>\n",
       "      <th>Lead Origin_Others</th>\n",
       "      <th>Lead Source_Google</th>\n",
       "      <th>Lead Source_Olark Chat</th>\n",
       "      <th>Lead Source_Organic Search</th>\n",
       "      <th>Lead Source_Others</th>\n",
       "      <th>Lead Source_Reference</th>\n",
       "      <th>Lead Source_Referral Sites</th>\n",
       "      <th>Lead Source_Welingak Website</th>\n",
       "      <th>Specialization_Business Specializations</th>\n",
       "      <th>Specialization_E-COMMERCE</th>\n",
       "      <th>Specialization_Management Specializations</th>\n",
       "      <th>Specialization_Media and Advertising</th>\n",
       "      <th>Specialization_Not Specified</th>\n",
       "      <th>Specialization_Services Excellence</th>\n",
       "      <th>Specialization_Travel and Tourism</th>\n",
       "      <th>What is your current occupation_Other</th>\n",
       "      <th>What is your current occupation_Student</th>\n",
       "      <th>What is your current occupation_Unemployed</th>\n",
       "      <th>What is your current occupation_Working Professional</th>\n",
       "    </tr>\n",
       "  </thead>\n",
       "  <tbody>\n",
       "    <tr>\n",
       "      <th>0</th>\n",
       "      <td>0</td>\n",
       "      <td>0</td>\n",
       "      <td>0</td>\n",
       "      <td>0</td>\n",
       "      <td>1</td>\n",
       "      <td>0</td>\n",
       "      <td>0</td>\n",
       "      <td>0</td>\n",
       "      <td>0</td>\n",
       "      <td>0</td>\n",
       "      <td>0</td>\n",
       "      <td>0</td>\n",
       "      <td>0</td>\n",
       "      <td>0</td>\n",
       "      <td>1</td>\n",
       "      <td>0</td>\n",
       "      <td>0</td>\n",
       "      <td>0</td>\n",
       "      <td>0</td>\n",
       "      <td>1</td>\n",
       "      <td>0</td>\n",
       "    </tr>\n",
       "    <tr>\n",
       "      <th>1</th>\n",
       "      <td>0</td>\n",
       "      <td>0</td>\n",
       "      <td>0</td>\n",
       "      <td>0</td>\n",
       "      <td>0</td>\n",
       "      <td>1</td>\n",
       "      <td>0</td>\n",
       "      <td>0</td>\n",
       "      <td>0</td>\n",
       "      <td>0</td>\n",
       "      <td>0</td>\n",
       "      <td>0</td>\n",
       "      <td>0</td>\n",
       "      <td>0</td>\n",
       "      <td>1</td>\n",
       "      <td>0</td>\n",
       "      <td>0</td>\n",
       "      <td>0</td>\n",
       "      <td>0</td>\n",
       "      <td>1</td>\n",
       "      <td>0</td>\n",
       "    </tr>\n",
       "    <tr>\n",
       "      <th>2</th>\n",
       "      <td>1</td>\n",
       "      <td>0</td>\n",
       "      <td>0</td>\n",
       "      <td>0</td>\n",
       "      <td>0</td>\n",
       "      <td>0</td>\n",
       "      <td>0</td>\n",
       "      <td>0</td>\n",
       "      <td>0</td>\n",
       "      <td>0</td>\n",
       "      <td>1</td>\n",
       "      <td>0</td>\n",
       "      <td>0</td>\n",
       "      <td>0</td>\n",
       "      <td>0</td>\n",
       "      <td>0</td>\n",
       "      <td>0</td>\n",
       "      <td>0</td>\n",
       "      <td>1</td>\n",
       "      <td>0</td>\n",
       "      <td>0</td>\n",
       "    </tr>\n",
       "    <tr>\n",
       "      <th>3</th>\n",
       "      <td>1</td>\n",
       "      <td>0</td>\n",
       "      <td>0</td>\n",
       "      <td>0</td>\n",
       "      <td>0</td>\n",
       "      <td>0</td>\n",
       "      <td>0</td>\n",
       "      <td>0</td>\n",
       "      <td>0</td>\n",
       "      <td>0</td>\n",
       "      <td>0</td>\n",
       "      <td>0</td>\n",
       "      <td>0</td>\n",
       "      <td>1</td>\n",
       "      <td>0</td>\n",
       "      <td>0</td>\n",
       "      <td>0</td>\n",
       "      <td>0</td>\n",
       "      <td>0</td>\n",
       "      <td>1</td>\n",
       "      <td>0</td>\n",
       "    </tr>\n",
       "    <tr>\n",
       "      <th>4</th>\n",
       "      <td>1</td>\n",
       "      <td>0</td>\n",
       "      <td>0</td>\n",
       "      <td>1</td>\n",
       "      <td>0</td>\n",
       "      <td>0</td>\n",
       "      <td>0</td>\n",
       "      <td>0</td>\n",
       "      <td>0</td>\n",
       "      <td>0</td>\n",
       "      <td>0</td>\n",
       "      <td>0</td>\n",
       "      <td>0</td>\n",
       "      <td>0</td>\n",
       "      <td>1</td>\n",
       "      <td>0</td>\n",
       "      <td>0</td>\n",
       "      <td>0</td>\n",
       "      <td>0</td>\n",
       "      <td>1</td>\n",
       "      <td>0</td>\n",
       "    </tr>\n",
       "  </tbody>\n",
       "</table>\n",
       "</div>"
      ],
      "text/plain": [
       "   Lead Origin_Landing Page Submission  Lead Origin_Lead Add Form  \\\n",
       "0                                    0                          0   \n",
       "1                                    0                          0   \n",
       "2                                    1                          0   \n",
       "3                                    1                          0   \n",
       "4                                    1                          0   \n",
       "\n",
       "   Lead Origin_Others  Lead Source_Google  Lead Source_Olark Chat  \\\n",
       "0                   0                   0                       1   \n",
       "1                   0                   0                       0   \n",
       "2                   0                   0                       0   \n",
       "3                   0                   0                       0   \n",
       "4                   0                   1                       0   \n",
       "\n",
       "   Lead Source_Organic Search  Lead Source_Others  Lead Source_Reference  \\\n",
       "0                           0                   0                      0   \n",
       "1                           1                   0                      0   \n",
       "2                           0                   0                      0   \n",
       "3                           0                   0                      0   \n",
       "4                           0                   0                      0   \n",
       "\n",
       "   Lead Source_Referral Sites  Lead Source_Welingak Website  \\\n",
       "0                           0                             0   \n",
       "1                           0                             0   \n",
       "2                           0                             0   \n",
       "3                           0                             0   \n",
       "4                           0                             0   \n",
       "\n",
       "   Specialization_Business Specializations  Specialization_E-COMMERCE  \\\n",
       "0                                        0                          0   \n",
       "1                                        0                          0   \n",
       "2                                        1                          0   \n",
       "3                                        0                          0   \n",
       "4                                        0                          0   \n",
       "\n",
       "   Specialization_Management Specializations  \\\n",
       "0                                          0   \n",
       "1                                          0   \n",
       "2                                          0   \n",
       "3                                          0   \n",
       "4                                          0   \n",
       "\n",
       "   Specialization_Media and Advertising  Specialization_Not Specified  \\\n",
       "0                                     0                             1   \n",
       "1                                     0                             1   \n",
       "2                                     0                             0   \n",
       "3                                     1                             0   \n",
       "4                                     0                             1   \n",
       "\n",
       "   Specialization_Services Excellence  Specialization_Travel and Tourism  \\\n",
       "0                                   0                                  0   \n",
       "1                                   0                                  0   \n",
       "2                                   0                                  0   \n",
       "3                                   0                                  0   \n",
       "4                                   0                                  0   \n",
       "\n",
       "   What is your current occupation_Other  \\\n",
       "0                                      0   \n",
       "1                                      0   \n",
       "2                                      0   \n",
       "3                                      0   \n",
       "4                                      0   \n",
       "\n",
       "   What is your current occupation_Student  \\\n",
       "0                                        0   \n",
       "1                                        0   \n",
       "2                                        1   \n",
       "3                                        0   \n",
       "4                                        0   \n",
       "\n",
       "   What is your current occupation_Unemployed  \\\n",
       "0                                           1   \n",
       "1                                           1   \n",
       "2                                           0   \n",
       "3                                           1   \n",
       "4                                           1   \n",
       "\n",
       "   What is your current occupation_Working Professional  \n",
       "0                                                     0  \n",
       "1                                                     0  \n",
       "2                                                     0  \n",
       "3                                                     0  \n",
       "4                                                     0  "
      ]
     },
     "execution_count": 115,
     "metadata": {},
     "output_type": "execute_result"
    }
   ],
   "source": [
    "# Creating a dummy variable for multivalued categorical columns and dropping the first one.\n",
    "\n",
    "dummy_df=pd.get_dummies(leads_df[['Lead Origin','Lead Source','Specialization','What is your current occupation']], drop_first=True)\n",
    "dummy_df.head()"
   ]
  },
  {
   "cell_type": "markdown",
   "id": "98815043",
   "metadata": {},
   "source": [
    "- Now we can concatenate this dummy dataframe to Leads_df"
   ]
  },
  {
   "cell_type": "code",
   "execution_count": 116,
   "id": "b056b045",
   "metadata": {},
   "outputs": [],
   "source": [
    "leads_df=pd.concat([leads_df,dummy_df],axis=1)"
   ]
  },
  {
   "cell_type": "code",
   "execution_count": 117,
   "id": "60d8ea8f",
   "metadata": {},
   "outputs": [
    {
     "data": {
      "text/html": [
       "<div>\n",
       "<style scoped>\n",
       "    .dataframe tbody tr th:only-of-type {\n",
       "        vertical-align: middle;\n",
       "    }\n",
       "\n",
       "    .dataframe tbody tr th {\n",
       "        vertical-align: top;\n",
       "    }\n",
       "\n",
       "    .dataframe thead th {\n",
       "        text-align: right;\n",
       "    }\n",
       "</style>\n",
       "<table border=\"1\" class=\"dataframe\">\n",
       "  <thead>\n",
       "    <tr style=\"text-align: right;\">\n",
       "      <th></th>\n",
       "      <th>Lead Origin</th>\n",
       "      <th>Lead Source</th>\n",
       "      <th>Do Not Email</th>\n",
       "      <th>Converted</th>\n",
       "      <th>TotalVisits</th>\n",
       "      <th>Total Time Spent on Website</th>\n",
       "      <th>Page Views Per Visit</th>\n",
       "      <th>Specialization</th>\n",
       "      <th>What is your current occupation</th>\n",
       "      <th>A free copy of Mastering The Interview</th>\n",
       "      <th>Lead Origin_Landing Page Submission</th>\n",
       "      <th>Lead Origin_Lead Add Form</th>\n",
       "      <th>Lead Origin_Others</th>\n",
       "      <th>Lead Source_Google</th>\n",
       "      <th>Lead Source_Olark Chat</th>\n",
       "      <th>Lead Source_Organic Search</th>\n",
       "      <th>Lead Source_Others</th>\n",
       "      <th>Lead Source_Reference</th>\n",
       "      <th>Lead Source_Referral Sites</th>\n",
       "      <th>Lead Source_Welingak Website</th>\n",
       "      <th>Specialization_Business Specializations</th>\n",
       "      <th>Specialization_E-COMMERCE</th>\n",
       "      <th>Specialization_Management Specializations</th>\n",
       "      <th>Specialization_Media and Advertising</th>\n",
       "      <th>Specialization_Not Specified</th>\n",
       "      <th>Specialization_Services Excellence</th>\n",
       "      <th>Specialization_Travel and Tourism</th>\n",
       "      <th>What is your current occupation_Other</th>\n",
       "      <th>What is your current occupation_Student</th>\n",
       "      <th>What is your current occupation_Unemployed</th>\n",
       "      <th>What is your current occupation_Working Professional</th>\n",
       "    </tr>\n",
       "  </thead>\n",
       "  <tbody>\n",
       "    <tr>\n",
       "      <th>0</th>\n",
       "      <td>API</td>\n",
       "      <td>Olark Chat</td>\n",
       "      <td>0</td>\n",
       "      <td>0</td>\n",
       "      <td>0.0</td>\n",
       "      <td>0</td>\n",
       "      <td>0.0</td>\n",
       "      <td>Not Specified</td>\n",
       "      <td>Unemployed</td>\n",
       "      <td>0</td>\n",
       "      <td>0</td>\n",
       "      <td>0</td>\n",
       "      <td>0</td>\n",
       "      <td>0</td>\n",
       "      <td>1</td>\n",
       "      <td>0</td>\n",
       "      <td>0</td>\n",
       "      <td>0</td>\n",
       "      <td>0</td>\n",
       "      <td>0</td>\n",
       "      <td>0</td>\n",
       "      <td>0</td>\n",
       "      <td>0</td>\n",
       "      <td>0</td>\n",
       "      <td>1</td>\n",
       "      <td>0</td>\n",
       "      <td>0</td>\n",
       "      <td>0</td>\n",
       "      <td>0</td>\n",
       "      <td>1</td>\n",
       "      <td>0</td>\n",
       "    </tr>\n",
       "    <tr>\n",
       "      <th>1</th>\n",
       "      <td>API</td>\n",
       "      <td>Organic Search</td>\n",
       "      <td>0</td>\n",
       "      <td>0</td>\n",
       "      <td>5.0</td>\n",
       "      <td>674</td>\n",
       "      <td>2.5</td>\n",
       "      <td>Not Specified</td>\n",
       "      <td>Unemployed</td>\n",
       "      <td>0</td>\n",
       "      <td>0</td>\n",
       "      <td>0</td>\n",
       "      <td>0</td>\n",
       "      <td>0</td>\n",
       "      <td>0</td>\n",
       "      <td>1</td>\n",
       "      <td>0</td>\n",
       "      <td>0</td>\n",
       "      <td>0</td>\n",
       "      <td>0</td>\n",
       "      <td>0</td>\n",
       "      <td>0</td>\n",
       "      <td>0</td>\n",
       "      <td>0</td>\n",
       "      <td>1</td>\n",
       "      <td>0</td>\n",
       "      <td>0</td>\n",
       "      <td>0</td>\n",
       "      <td>0</td>\n",
       "      <td>1</td>\n",
       "      <td>0</td>\n",
       "    </tr>\n",
       "    <tr>\n",
       "      <th>2</th>\n",
       "      <td>Landing Page Submission</td>\n",
       "      <td>Direct Traffic</td>\n",
       "      <td>0</td>\n",
       "      <td>1</td>\n",
       "      <td>2.0</td>\n",
       "      <td>1532</td>\n",
       "      <td>2.0</td>\n",
       "      <td>Business Specializations</td>\n",
       "      <td>Student</td>\n",
       "      <td>1</td>\n",
       "      <td>1</td>\n",
       "      <td>0</td>\n",
       "      <td>0</td>\n",
       "      <td>0</td>\n",
       "      <td>0</td>\n",
       "      <td>0</td>\n",
       "      <td>0</td>\n",
       "      <td>0</td>\n",
       "      <td>0</td>\n",
       "      <td>0</td>\n",
       "      <td>1</td>\n",
       "      <td>0</td>\n",
       "      <td>0</td>\n",
       "      <td>0</td>\n",
       "      <td>0</td>\n",
       "      <td>0</td>\n",
       "      <td>0</td>\n",
       "      <td>0</td>\n",
       "      <td>1</td>\n",
       "      <td>0</td>\n",
       "      <td>0</td>\n",
       "    </tr>\n",
       "    <tr>\n",
       "      <th>3</th>\n",
       "      <td>Landing Page Submission</td>\n",
       "      <td>Direct Traffic</td>\n",
       "      <td>0</td>\n",
       "      <td>0</td>\n",
       "      <td>1.0</td>\n",
       "      <td>305</td>\n",
       "      <td>1.0</td>\n",
       "      <td>Media and Advertising</td>\n",
       "      <td>Unemployed</td>\n",
       "      <td>0</td>\n",
       "      <td>1</td>\n",
       "      <td>0</td>\n",
       "      <td>0</td>\n",
       "      <td>0</td>\n",
       "      <td>0</td>\n",
       "      <td>0</td>\n",
       "      <td>0</td>\n",
       "      <td>0</td>\n",
       "      <td>0</td>\n",
       "      <td>0</td>\n",
       "      <td>0</td>\n",
       "      <td>0</td>\n",
       "      <td>0</td>\n",
       "      <td>1</td>\n",
       "      <td>0</td>\n",
       "      <td>0</td>\n",
       "      <td>0</td>\n",
       "      <td>0</td>\n",
       "      <td>0</td>\n",
       "      <td>1</td>\n",
       "      <td>0</td>\n",
       "    </tr>\n",
       "    <tr>\n",
       "      <th>4</th>\n",
       "      <td>Landing Page Submission</td>\n",
       "      <td>Google</td>\n",
       "      <td>0</td>\n",
       "      <td>1</td>\n",
       "      <td>2.0</td>\n",
       "      <td>1428</td>\n",
       "      <td>1.0</td>\n",
       "      <td>Not Specified</td>\n",
       "      <td>Unemployed</td>\n",
       "      <td>0</td>\n",
       "      <td>1</td>\n",
       "      <td>0</td>\n",
       "      <td>0</td>\n",
       "      <td>1</td>\n",
       "      <td>0</td>\n",
       "      <td>0</td>\n",
       "      <td>0</td>\n",
       "      <td>0</td>\n",
       "      <td>0</td>\n",
       "      <td>0</td>\n",
       "      <td>0</td>\n",
       "      <td>0</td>\n",
       "      <td>0</td>\n",
       "      <td>0</td>\n",
       "      <td>1</td>\n",
       "      <td>0</td>\n",
       "      <td>0</td>\n",
       "      <td>0</td>\n",
       "      <td>0</td>\n",
       "      <td>1</td>\n",
       "      <td>0</td>\n",
       "    </tr>\n",
       "  </tbody>\n",
       "</table>\n",
       "</div>"
      ],
      "text/plain": [
       "               Lead Origin     Lead Source  Do Not Email  Converted  \\\n",
       "0                      API      Olark Chat             0          0   \n",
       "1                      API  Organic Search             0          0   \n",
       "2  Landing Page Submission  Direct Traffic             0          1   \n",
       "3  Landing Page Submission  Direct Traffic             0          0   \n",
       "4  Landing Page Submission          Google             0          1   \n",
       "\n",
       "   TotalVisits  Total Time Spent on Website  Page Views Per Visit  \\\n",
       "0          0.0                            0                   0.0   \n",
       "1          5.0                          674                   2.5   \n",
       "2          2.0                         1532                   2.0   \n",
       "3          1.0                          305                   1.0   \n",
       "4          2.0                         1428                   1.0   \n",
       "\n",
       "             Specialization What is your current occupation  \\\n",
       "0             Not Specified                      Unemployed   \n",
       "1             Not Specified                      Unemployed   \n",
       "2  Business Specializations                         Student   \n",
       "3     Media and Advertising                      Unemployed   \n",
       "4             Not Specified                      Unemployed   \n",
       "\n",
       "   A free copy of Mastering The Interview  \\\n",
       "0                                       0   \n",
       "1                                       0   \n",
       "2                                       1   \n",
       "3                                       0   \n",
       "4                                       0   \n",
       "\n",
       "   Lead Origin_Landing Page Submission  Lead Origin_Lead Add Form  \\\n",
       "0                                    0                          0   \n",
       "1                                    0                          0   \n",
       "2                                    1                          0   \n",
       "3                                    1                          0   \n",
       "4                                    1                          0   \n",
       "\n",
       "   Lead Origin_Others  Lead Source_Google  Lead Source_Olark Chat  \\\n",
       "0                   0                   0                       1   \n",
       "1                   0                   0                       0   \n",
       "2                   0                   0                       0   \n",
       "3                   0                   0                       0   \n",
       "4                   0                   1                       0   \n",
       "\n",
       "   Lead Source_Organic Search  Lead Source_Others  Lead Source_Reference  \\\n",
       "0                           0                   0                      0   \n",
       "1                           1                   0                      0   \n",
       "2                           0                   0                      0   \n",
       "3                           0                   0                      0   \n",
       "4                           0                   0                      0   \n",
       "\n",
       "   Lead Source_Referral Sites  Lead Source_Welingak Website  \\\n",
       "0                           0                             0   \n",
       "1                           0                             0   \n",
       "2                           0                             0   \n",
       "3                           0                             0   \n",
       "4                           0                             0   \n",
       "\n",
       "   Specialization_Business Specializations  Specialization_E-COMMERCE  \\\n",
       "0                                        0                          0   \n",
       "1                                        0                          0   \n",
       "2                                        1                          0   \n",
       "3                                        0                          0   \n",
       "4                                        0                          0   \n",
       "\n",
       "   Specialization_Management Specializations  \\\n",
       "0                                          0   \n",
       "1                                          0   \n",
       "2                                          0   \n",
       "3                                          0   \n",
       "4                                          0   \n",
       "\n",
       "   Specialization_Media and Advertising  Specialization_Not Specified  \\\n",
       "0                                     0                             1   \n",
       "1                                     0                             1   \n",
       "2                                     0                             0   \n",
       "3                                     1                             0   \n",
       "4                                     0                             1   \n",
       "\n",
       "   Specialization_Services Excellence  Specialization_Travel and Tourism  \\\n",
       "0                                   0                                  0   \n",
       "1                                   0                                  0   \n",
       "2                                   0                                  0   \n",
       "3                                   0                                  0   \n",
       "4                                   0                                  0   \n",
       "\n",
       "   What is your current occupation_Other  \\\n",
       "0                                      0   \n",
       "1                                      0   \n",
       "2                                      0   \n",
       "3                                      0   \n",
       "4                                      0   \n",
       "\n",
       "   What is your current occupation_Student  \\\n",
       "0                                        0   \n",
       "1                                        0   \n",
       "2                                        1   \n",
       "3                                        0   \n",
       "4                                        0   \n",
       "\n",
       "   What is your current occupation_Unemployed  \\\n",
       "0                                           1   \n",
       "1                                           1   \n",
       "2                                           0   \n",
       "3                                           1   \n",
       "4                                           1   \n",
       "\n",
       "   What is your current occupation_Working Professional  \n",
       "0                                                     0  \n",
       "1                                                     0  \n",
       "2                                                     0  \n",
       "3                                                     0  \n",
       "4                                                     0  "
      ]
     },
     "execution_count": 117,
     "metadata": {},
     "output_type": "execute_result"
    }
   ],
   "source": [
    "leads_df.head()"
   ]
  },
  {
   "cell_type": "markdown",
   "id": "a8edeb05",
   "metadata": {},
   "source": [
    "- Lets drop original columns belonging to multivalued catergorical category"
   ]
  },
  {
   "cell_type": "code",
   "execution_count": 118,
   "id": "569ca0ba",
   "metadata": {},
   "outputs": [],
   "source": [
    "leads_df.drop(['Lead Origin','Lead Source','Specialization','What is your current occupation'],axis=1,inplace=True)"
   ]
  },
  {
   "cell_type": "code",
   "execution_count": 119,
   "id": "e7a3cc9b",
   "metadata": {},
   "outputs": [
    {
     "data": {
      "text/html": [
       "<div>\n",
       "<style scoped>\n",
       "    .dataframe tbody tr th:only-of-type {\n",
       "        vertical-align: middle;\n",
       "    }\n",
       "\n",
       "    .dataframe tbody tr th {\n",
       "        vertical-align: top;\n",
       "    }\n",
       "\n",
       "    .dataframe thead th {\n",
       "        text-align: right;\n",
       "    }\n",
       "</style>\n",
       "<table border=\"1\" class=\"dataframe\">\n",
       "  <thead>\n",
       "    <tr style=\"text-align: right;\">\n",
       "      <th></th>\n",
       "      <th>Do Not Email</th>\n",
       "      <th>Converted</th>\n",
       "      <th>TotalVisits</th>\n",
       "      <th>Total Time Spent on Website</th>\n",
       "      <th>Page Views Per Visit</th>\n",
       "      <th>A free copy of Mastering The Interview</th>\n",
       "      <th>Lead Origin_Landing Page Submission</th>\n",
       "      <th>Lead Origin_Lead Add Form</th>\n",
       "      <th>Lead Origin_Others</th>\n",
       "      <th>Lead Source_Google</th>\n",
       "      <th>Lead Source_Olark Chat</th>\n",
       "      <th>Lead Source_Organic Search</th>\n",
       "      <th>Lead Source_Others</th>\n",
       "      <th>Lead Source_Reference</th>\n",
       "      <th>Lead Source_Referral Sites</th>\n",
       "      <th>Lead Source_Welingak Website</th>\n",
       "      <th>Specialization_Business Specializations</th>\n",
       "      <th>Specialization_E-COMMERCE</th>\n",
       "      <th>Specialization_Management Specializations</th>\n",
       "      <th>Specialization_Media and Advertising</th>\n",
       "      <th>Specialization_Not Specified</th>\n",
       "      <th>Specialization_Services Excellence</th>\n",
       "      <th>Specialization_Travel and Tourism</th>\n",
       "      <th>What is your current occupation_Other</th>\n",
       "      <th>What is your current occupation_Student</th>\n",
       "      <th>What is your current occupation_Unemployed</th>\n",
       "      <th>What is your current occupation_Working Professional</th>\n",
       "    </tr>\n",
       "  </thead>\n",
       "  <tbody>\n",
       "    <tr>\n",
       "      <th>0</th>\n",
       "      <td>0</td>\n",
       "      <td>0</td>\n",
       "      <td>0.0</td>\n",
       "      <td>0</td>\n",
       "      <td>0.0</td>\n",
       "      <td>0</td>\n",
       "      <td>0</td>\n",
       "      <td>0</td>\n",
       "      <td>0</td>\n",
       "      <td>0</td>\n",
       "      <td>1</td>\n",
       "      <td>0</td>\n",
       "      <td>0</td>\n",
       "      <td>0</td>\n",
       "      <td>0</td>\n",
       "      <td>0</td>\n",
       "      <td>0</td>\n",
       "      <td>0</td>\n",
       "      <td>0</td>\n",
       "      <td>0</td>\n",
       "      <td>1</td>\n",
       "      <td>0</td>\n",
       "      <td>0</td>\n",
       "      <td>0</td>\n",
       "      <td>0</td>\n",
       "      <td>1</td>\n",
       "      <td>0</td>\n",
       "    </tr>\n",
       "    <tr>\n",
       "      <th>1</th>\n",
       "      <td>0</td>\n",
       "      <td>0</td>\n",
       "      <td>5.0</td>\n",
       "      <td>674</td>\n",
       "      <td>2.5</td>\n",
       "      <td>0</td>\n",
       "      <td>0</td>\n",
       "      <td>0</td>\n",
       "      <td>0</td>\n",
       "      <td>0</td>\n",
       "      <td>0</td>\n",
       "      <td>1</td>\n",
       "      <td>0</td>\n",
       "      <td>0</td>\n",
       "      <td>0</td>\n",
       "      <td>0</td>\n",
       "      <td>0</td>\n",
       "      <td>0</td>\n",
       "      <td>0</td>\n",
       "      <td>0</td>\n",
       "      <td>1</td>\n",
       "      <td>0</td>\n",
       "      <td>0</td>\n",
       "      <td>0</td>\n",
       "      <td>0</td>\n",
       "      <td>1</td>\n",
       "      <td>0</td>\n",
       "    </tr>\n",
       "    <tr>\n",
       "      <th>2</th>\n",
       "      <td>0</td>\n",
       "      <td>1</td>\n",
       "      <td>2.0</td>\n",
       "      <td>1532</td>\n",
       "      <td>2.0</td>\n",
       "      <td>1</td>\n",
       "      <td>1</td>\n",
       "      <td>0</td>\n",
       "      <td>0</td>\n",
       "      <td>0</td>\n",
       "      <td>0</td>\n",
       "      <td>0</td>\n",
       "      <td>0</td>\n",
       "      <td>0</td>\n",
       "      <td>0</td>\n",
       "      <td>0</td>\n",
       "      <td>1</td>\n",
       "      <td>0</td>\n",
       "      <td>0</td>\n",
       "      <td>0</td>\n",
       "      <td>0</td>\n",
       "      <td>0</td>\n",
       "      <td>0</td>\n",
       "      <td>0</td>\n",
       "      <td>1</td>\n",
       "      <td>0</td>\n",
       "      <td>0</td>\n",
       "    </tr>\n",
       "    <tr>\n",
       "      <th>3</th>\n",
       "      <td>0</td>\n",
       "      <td>0</td>\n",
       "      <td>1.0</td>\n",
       "      <td>305</td>\n",
       "      <td>1.0</td>\n",
       "      <td>0</td>\n",
       "      <td>1</td>\n",
       "      <td>0</td>\n",
       "      <td>0</td>\n",
       "      <td>0</td>\n",
       "      <td>0</td>\n",
       "      <td>0</td>\n",
       "      <td>0</td>\n",
       "      <td>0</td>\n",
       "      <td>0</td>\n",
       "      <td>0</td>\n",
       "      <td>0</td>\n",
       "      <td>0</td>\n",
       "      <td>0</td>\n",
       "      <td>1</td>\n",
       "      <td>0</td>\n",
       "      <td>0</td>\n",
       "      <td>0</td>\n",
       "      <td>0</td>\n",
       "      <td>0</td>\n",
       "      <td>1</td>\n",
       "      <td>0</td>\n",
       "    </tr>\n",
       "    <tr>\n",
       "      <th>4</th>\n",
       "      <td>0</td>\n",
       "      <td>1</td>\n",
       "      <td>2.0</td>\n",
       "      <td>1428</td>\n",
       "      <td>1.0</td>\n",
       "      <td>0</td>\n",
       "      <td>1</td>\n",
       "      <td>0</td>\n",
       "      <td>0</td>\n",
       "      <td>1</td>\n",
       "      <td>0</td>\n",
       "      <td>0</td>\n",
       "      <td>0</td>\n",
       "      <td>0</td>\n",
       "      <td>0</td>\n",
       "      <td>0</td>\n",
       "      <td>0</td>\n",
       "      <td>0</td>\n",
       "      <td>0</td>\n",
       "      <td>0</td>\n",
       "      <td>1</td>\n",
       "      <td>0</td>\n",
       "      <td>0</td>\n",
       "      <td>0</td>\n",
       "      <td>0</td>\n",
       "      <td>1</td>\n",
       "      <td>0</td>\n",
       "    </tr>\n",
       "  </tbody>\n",
       "</table>\n",
       "</div>"
      ],
      "text/plain": [
       "   Do Not Email  Converted  TotalVisits  Total Time Spent on Website  \\\n",
       "0             0          0          0.0                            0   \n",
       "1             0          0          5.0                          674   \n",
       "2             0          1          2.0                         1532   \n",
       "3             0          0          1.0                          305   \n",
       "4             0          1          2.0                         1428   \n",
       "\n",
       "   Page Views Per Visit  A free copy of Mastering The Interview  \\\n",
       "0                   0.0                                       0   \n",
       "1                   2.5                                       0   \n",
       "2                   2.0                                       1   \n",
       "3                   1.0                                       0   \n",
       "4                   1.0                                       0   \n",
       "\n",
       "   Lead Origin_Landing Page Submission  Lead Origin_Lead Add Form  \\\n",
       "0                                    0                          0   \n",
       "1                                    0                          0   \n",
       "2                                    1                          0   \n",
       "3                                    1                          0   \n",
       "4                                    1                          0   \n",
       "\n",
       "   Lead Origin_Others  Lead Source_Google  Lead Source_Olark Chat  \\\n",
       "0                   0                   0                       1   \n",
       "1                   0                   0                       0   \n",
       "2                   0                   0                       0   \n",
       "3                   0                   0                       0   \n",
       "4                   0                   1                       0   \n",
       "\n",
       "   Lead Source_Organic Search  Lead Source_Others  Lead Source_Reference  \\\n",
       "0                           0                   0                      0   \n",
       "1                           1                   0                      0   \n",
       "2                           0                   0                      0   \n",
       "3                           0                   0                      0   \n",
       "4                           0                   0                      0   \n",
       "\n",
       "   Lead Source_Referral Sites  Lead Source_Welingak Website  \\\n",
       "0                           0                             0   \n",
       "1                           0                             0   \n",
       "2                           0                             0   \n",
       "3                           0                             0   \n",
       "4                           0                             0   \n",
       "\n",
       "   Specialization_Business Specializations  Specialization_E-COMMERCE  \\\n",
       "0                                        0                          0   \n",
       "1                                        0                          0   \n",
       "2                                        1                          0   \n",
       "3                                        0                          0   \n",
       "4                                        0                          0   \n",
       "\n",
       "   Specialization_Management Specializations  \\\n",
       "0                                          0   \n",
       "1                                          0   \n",
       "2                                          0   \n",
       "3                                          0   \n",
       "4                                          0   \n",
       "\n",
       "   Specialization_Media and Advertising  Specialization_Not Specified  \\\n",
       "0                                     0                             1   \n",
       "1                                     0                             1   \n",
       "2                                     0                             0   \n",
       "3                                     1                             0   \n",
       "4                                     0                             1   \n",
       "\n",
       "   Specialization_Services Excellence  Specialization_Travel and Tourism  \\\n",
       "0                                   0                                  0   \n",
       "1                                   0                                  0   \n",
       "2                                   0                                  0   \n",
       "3                                   0                                  0   \n",
       "4                                   0                                  0   \n",
       "\n",
       "   What is your current occupation_Other  \\\n",
       "0                                      0   \n",
       "1                                      0   \n",
       "2                                      0   \n",
       "3                                      0   \n",
       "4                                      0   \n",
       "\n",
       "   What is your current occupation_Student  \\\n",
       "0                                        0   \n",
       "1                                        0   \n",
       "2                                        1   \n",
       "3                                        0   \n",
       "4                                        0   \n",
       "\n",
       "   What is your current occupation_Unemployed  \\\n",
       "0                                           1   \n",
       "1                                           1   \n",
       "2                                           0   \n",
       "3                                           1   \n",
       "4                                           1   \n",
       "\n",
       "   What is your current occupation_Working Professional  \n",
       "0                                                     0  \n",
       "1                                                     0  \n",
       "2                                                     0  \n",
       "3                                                     0  \n",
       "4                                                     0  "
      ]
     },
     "execution_count": 119,
     "metadata": {},
     "output_type": "execute_result"
    }
   ],
   "source": [
    "leads_df.head()"
   ]
  },
  {
   "cell_type": "code",
   "execution_count": 120,
   "id": "a62ccad4",
   "metadata": {},
   "outputs": [
    {
     "data": {
      "text/plain": [
       "(9090, 27)"
      ]
     },
     "execution_count": 120,
     "metadata": {},
     "output_type": "execute_result"
    }
   ],
   "source": [
    "leads_df.shape"
   ]
  },
  {
   "cell_type": "markdown",
   "id": "25944798",
   "metadata": {},
   "source": [
    "#### Now we have perfect data frame to start modeling . Lets proceed with data split"
   ]
  },
  {
   "cell_type": "markdown",
   "id": "702d92b8",
   "metadata": {},
   "source": [
    "## 5.4. Train-Test data split for modeling"
   ]
  },
  {
   "cell_type": "code",
   "execution_count": 121,
   "id": "1986617f",
   "metadata": {},
   "outputs": [],
   "source": [
    "y=leads_df['Converted']\n",
    "X=leads_df.drop('Converted',axis=1)"
   ]
  },
  {
   "cell_type": "code",
   "execution_count": 122,
   "id": "b41d7945",
   "metadata": {},
   "outputs": [],
   "source": [
    "## Splitting data set to train and test\n",
    "\n",
    "X_train,X_test,y_train,y_test=train_test_split(X,y,train_size=0.70,random_state=100)"
   ]
  },
  {
   "cell_type": "code",
   "execution_count": 123,
   "id": "43597687",
   "metadata": {},
   "outputs": [
    {
     "data": {
      "text/plain": [
       "(6363, 26)"
      ]
     },
     "execution_count": 123,
     "metadata": {},
     "output_type": "execute_result"
    }
   ],
   "source": [
    "X_train.shape"
   ]
  },
  {
   "cell_type": "code",
   "execution_count": 124,
   "id": "6418a7c0",
   "metadata": {},
   "outputs": [
    {
     "data": {
      "text/plain": [
       "(2727, 26)"
      ]
     },
     "execution_count": 124,
     "metadata": {},
     "output_type": "execute_result"
    }
   ],
   "source": [
    "X_test.shape"
   ]
  },
  {
   "cell_type": "markdown",
   "id": "7dc6a591",
   "metadata": {},
   "source": [
    "- before proceeding for model building , we need to scale numerical columns"
   ]
  },
  {
   "cell_type": "markdown",
   "id": "fe35d85a",
   "metadata": {},
   "source": [
    "## 5.5. Feature Scaling for train dataset"
   ]
  },
  {
   "cell_type": "code",
   "execution_count": 125,
   "id": "d7c42528",
   "metadata": {},
   "outputs": [],
   "source": [
    "# We will perfrom scaling on numerical columns \n",
    "\n",
    "# Creating object for StandardScaler\n",
    "scaler=StandardScaler()\n",
    "\n",
    "# Using this object for fitting and transforming train numerical columns\n",
    "\n",
    "X_train[['TotalVisits','Total Time Spent on Website','Page Views Per Visit']]=scaler.fit_transform(X_train[['TotalVisits','Total Time Spent on Website','Page Views Per Visit']])"
   ]
  },
  {
   "cell_type": "code",
   "execution_count": 126,
   "id": "488b2a99",
   "metadata": {},
   "outputs": [
    {
     "data": {
      "text/html": [
       "<div>\n",
       "<style scoped>\n",
       "    .dataframe tbody tr th:only-of-type {\n",
       "        vertical-align: middle;\n",
       "    }\n",
       "\n",
       "    .dataframe tbody tr th {\n",
       "        vertical-align: top;\n",
       "    }\n",
       "\n",
       "    .dataframe thead th {\n",
       "        text-align: right;\n",
       "    }\n",
       "</style>\n",
       "<table border=\"1\" class=\"dataframe\">\n",
       "  <thead>\n",
       "    <tr style=\"text-align: right;\">\n",
       "      <th></th>\n",
       "      <th>Do Not Email</th>\n",
       "      <th>TotalVisits</th>\n",
       "      <th>Total Time Spent on Website</th>\n",
       "      <th>Page Views Per Visit</th>\n",
       "      <th>A free copy of Mastering The Interview</th>\n",
       "      <th>Lead Origin_Landing Page Submission</th>\n",
       "      <th>Lead Origin_Lead Add Form</th>\n",
       "      <th>Lead Origin_Others</th>\n",
       "      <th>Lead Source_Google</th>\n",
       "      <th>Lead Source_Olark Chat</th>\n",
       "      <th>Lead Source_Organic Search</th>\n",
       "      <th>Lead Source_Others</th>\n",
       "      <th>Lead Source_Reference</th>\n",
       "      <th>Lead Source_Referral Sites</th>\n",
       "      <th>Lead Source_Welingak Website</th>\n",
       "      <th>Specialization_Business Specializations</th>\n",
       "      <th>Specialization_E-COMMERCE</th>\n",
       "      <th>Specialization_Management Specializations</th>\n",
       "      <th>Specialization_Media and Advertising</th>\n",
       "      <th>Specialization_Not Specified</th>\n",
       "      <th>Specialization_Services Excellence</th>\n",
       "      <th>Specialization_Travel and Tourism</th>\n",
       "      <th>What is your current occupation_Other</th>\n",
       "      <th>What is your current occupation_Student</th>\n",
       "      <th>What is your current occupation_Unemployed</th>\n",
       "      <th>What is your current occupation_Working Professional</th>\n",
       "    </tr>\n",
       "  </thead>\n",
       "  <tbody>\n",
       "    <tr>\n",
       "      <th>302</th>\n",
       "      <td>0</td>\n",
       "      <td>1.336782</td>\n",
       "      <td>-0.428736</td>\n",
       "      <td>0.044021</td>\n",
       "      <td>0</td>\n",
       "      <td>0</td>\n",
       "      <td>0</td>\n",
       "      <td>0</td>\n",
       "      <td>0</td>\n",
       "      <td>0</td>\n",
       "      <td>0</td>\n",
       "      <td>0</td>\n",
       "      <td>0</td>\n",
       "      <td>1</td>\n",
       "      <td>0</td>\n",
       "      <td>0</td>\n",
       "      <td>0</td>\n",
       "      <td>0</td>\n",
       "      <td>0</td>\n",
       "      <td>1</td>\n",
       "      <td>0</td>\n",
       "      <td>0</td>\n",
       "      <td>0</td>\n",
       "      <td>0</td>\n",
       "      <td>0</td>\n",
       "      <td>0</td>\n",
       "    </tr>\n",
       "    <tr>\n",
       "      <th>6087</th>\n",
       "      <td>1</td>\n",
       "      <td>-1.094877</td>\n",
       "      <td>-0.887355</td>\n",
       "      <td>-1.206716</td>\n",
       "      <td>0</td>\n",
       "      <td>0</td>\n",
       "      <td>0</td>\n",
       "      <td>0</td>\n",
       "      <td>0</td>\n",
       "      <td>1</td>\n",
       "      <td>0</td>\n",
       "      <td>0</td>\n",
       "      <td>0</td>\n",
       "      <td>0</td>\n",
       "      <td>0</td>\n",
       "      <td>0</td>\n",
       "      <td>0</td>\n",
       "      <td>0</td>\n",
       "      <td>0</td>\n",
       "      <td>1</td>\n",
       "      <td>0</td>\n",
       "      <td>0</td>\n",
       "      <td>0</td>\n",
       "      <td>0</td>\n",
       "      <td>0</td>\n",
       "      <td>0</td>\n",
       "    </tr>\n",
       "    <tr>\n",
       "      <th>1033</th>\n",
       "      <td>0</td>\n",
       "      <td>0.642022</td>\n",
       "      <td>-0.025151</td>\n",
       "      <td>1.477269</td>\n",
       "      <td>0</td>\n",
       "      <td>0</td>\n",
       "      <td>0</td>\n",
       "      <td>0</td>\n",
       "      <td>1</td>\n",
       "      <td>0</td>\n",
       "      <td>0</td>\n",
       "      <td>0</td>\n",
       "      <td>0</td>\n",
       "      <td>0</td>\n",
       "      <td>0</td>\n",
       "      <td>0</td>\n",
       "      <td>0</td>\n",
       "      <td>0</td>\n",
       "      <td>0</td>\n",
       "      <td>1</td>\n",
       "      <td>0</td>\n",
       "      <td>0</td>\n",
       "      <td>0</td>\n",
       "      <td>0</td>\n",
       "      <td>1</td>\n",
       "      <td>0</td>\n",
       "    </tr>\n",
       "    <tr>\n",
       "      <th>7656</th>\n",
       "      <td>1</td>\n",
       "      <td>0.989402</td>\n",
       "      <td>-0.241619</td>\n",
       "      <td>2.014065</td>\n",
       "      <td>1</td>\n",
       "      <td>1</td>\n",
       "      <td>0</td>\n",
       "      <td>0</td>\n",
       "      <td>0</td>\n",
       "      <td>0</td>\n",
       "      <td>0</td>\n",
       "      <td>0</td>\n",
       "      <td>0</td>\n",
       "      <td>0</td>\n",
       "      <td>0</td>\n",
       "      <td>0</td>\n",
       "      <td>0</td>\n",
       "      <td>1</td>\n",
       "      <td>0</td>\n",
       "      <td>0</td>\n",
       "      <td>0</td>\n",
       "      <td>0</td>\n",
       "      <td>0</td>\n",
       "      <td>0</td>\n",
       "      <td>1</td>\n",
       "      <td>0</td>\n",
       "    </tr>\n",
       "    <tr>\n",
       "      <th>3241</th>\n",
       "      <td>0</td>\n",
       "      <td>0.294642</td>\n",
       "      <td>0.897591</td>\n",
       "      <td>-0.492776</td>\n",
       "      <td>1</td>\n",
       "      <td>1</td>\n",
       "      <td>0</td>\n",
       "      <td>0</td>\n",
       "      <td>0</td>\n",
       "      <td>0</td>\n",
       "      <td>0</td>\n",
       "      <td>0</td>\n",
       "      <td>0</td>\n",
       "      <td>0</td>\n",
       "      <td>0</td>\n",
       "      <td>1</td>\n",
       "      <td>0</td>\n",
       "      <td>0</td>\n",
       "      <td>0</td>\n",
       "      <td>0</td>\n",
       "      <td>0</td>\n",
       "      <td>0</td>\n",
       "      <td>0</td>\n",
       "      <td>0</td>\n",
       "      <td>1</td>\n",
       "      <td>0</td>\n",
       "    </tr>\n",
       "  </tbody>\n",
       "</table>\n",
       "</div>"
      ],
      "text/plain": [
       "      Do Not Email  TotalVisits  Total Time Spent on Website  \\\n",
       "302              0     1.336782                    -0.428736   \n",
       "6087             1    -1.094877                    -0.887355   \n",
       "1033             0     0.642022                    -0.025151   \n",
       "7656             1     0.989402                    -0.241619   \n",
       "3241             0     0.294642                     0.897591   \n",
       "\n",
       "      Page Views Per Visit  A free copy of Mastering The Interview  \\\n",
       "302               0.044021                                       0   \n",
       "6087             -1.206716                                       0   \n",
       "1033              1.477269                                       0   \n",
       "7656              2.014065                                       1   \n",
       "3241             -0.492776                                       1   \n",
       "\n",
       "      Lead Origin_Landing Page Submission  Lead Origin_Lead Add Form  \\\n",
       "302                                     0                          0   \n",
       "6087                                    0                          0   \n",
       "1033                                    0                          0   \n",
       "7656                                    1                          0   \n",
       "3241                                    1                          0   \n",
       "\n",
       "      Lead Origin_Others  Lead Source_Google  Lead Source_Olark Chat  \\\n",
       "302                    0                   0                       0   \n",
       "6087                   0                   0                       1   \n",
       "1033                   0                   1                       0   \n",
       "7656                   0                   0                       0   \n",
       "3241                   0                   0                       0   \n",
       "\n",
       "      Lead Source_Organic Search  Lead Source_Others  Lead Source_Reference  \\\n",
       "302                            0                   0                      0   \n",
       "6087                           0                   0                      0   \n",
       "1033                           0                   0                      0   \n",
       "7656                           0                   0                      0   \n",
       "3241                           0                   0                      0   \n",
       "\n",
       "      Lead Source_Referral Sites  Lead Source_Welingak Website  \\\n",
       "302                            1                             0   \n",
       "6087                           0                             0   \n",
       "1033                           0                             0   \n",
       "7656                           0                             0   \n",
       "3241                           0                             0   \n",
       "\n",
       "      Specialization_Business Specializations  Specialization_E-COMMERCE  \\\n",
       "302                                         0                          0   \n",
       "6087                                        0                          0   \n",
       "1033                                        0                          0   \n",
       "7656                                        0                          0   \n",
       "3241                                        1                          0   \n",
       "\n",
       "      Specialization_Management Specializations  \\\n",
       "302                                           0   \n",
       "6087                                          0   \n",
       "1033                                          0   \n",
       "7656                                          1   \n",
       "3241                                          0   \n",
       "\n",
       "      Specialization_Media and Advertising  Specialization_Not Specified  \\\n",
       "302                                      0                             1   \n",
       "6087                                     0                             1   \n",
       "1033                                     0                             1   \n",
       "7656                                     0                             0   \n",
       "3241                                     0                             0   \n",
       "\n",
       "      Specialization_Services Excellence  Specialization_Travel and Tourism  \\\n",
       "302                                    0                                  0   \n",
       "6087                                   0                                  0   \n",
       "1033                                   0                                  0   \n",
       "7656                                   0                                  0   \n",
       "3241                                   0                                  0   \n",
       "\n",
       "      What is your current occupation_Other  \\\n",
       "302                                       0   \n",
       "6087                                      0   \n",
       "1033                                      0   \n",
       "7656                                      0   \n",
       "3241                                      0   \n",
       "\n",
       "      What is your current occupation_Student  \\\n",
       "302                                         0   \n",
       "6087                                        0   \n",
       "1033                                        0   \n",
       "7656                                        0   \n",
       "3241                                        0   \n",
       "\n",
       "      What is your current occupation_Unemployed  \\\n",
       "302                                            0   \n",
       "6087                                           0   \n",
       "1033                                           1   \n",
       "7656                                           1   \n",
       "3241                                           1   \n",
       "\n",
       "      What is your current occupation_Working Professional  \n",
       "302                                                      0  \n",
       "6087                                                     0  \n",
       "1033                                                     0  \n",
       "7656                                                     0  \n",
       "3241                                                     0  "
      ]
     },
     "execution_count": 126,
     "metadata": {},
     "output_type": "execute_result"
    }
   ],
   "source": [
    "X_train.head()"
   ]
  },
  {
   "cell_type": "markdown",
   "id": "6b95cc41",
   "metadata": {},
   "source": [
    "# 6. Model Building"
   ]
  },
  {
   "cell_type": "markdown",
   "id": "7cce8937",
   "metadata": {},
   "source": [
    "- Model 1"
   ]
  },
  {
   "cell_type": "markdown",
   "id": "498eb4e3",
   "metadata": {},
   "source": [
    "### 6.1. Model building using Statsmodel"
   ]
  },
  {
   "cell_type": "code",
   "execution_count": 127,
   "id": "86a63939",
   "metadata": {},
   "outputs": [],
   "source": [
    "# We will start with statsmodel\n",
    "\n",
    "log_m1=sm.GLM(y_train,(sm.add_constant(X_train)),family=sm.families.Binomial())"
   ]
  },
  {
   "cell_type": "code",
   "execution_count": 128,
   "id": "bd05e28a",
   "metadata": {},
   "outputs": [],
   "source": [
    "log_m1=log_m1.fit()"
   ]
  },
  {
   "cell_type": "code",
   "execution_count": 129,
   "id": "a086e718",
   "metadata": {},
   "outputs": [
    {
     "data": {
      "text/html": [
       "<table class=\"simpletable\">\n",
       "<caption>Generalized Linear Model Regression Results</caption>\n",
       "<tr>\n",
       "  <th>Dep. Variable:</th>       <td>Converted</td>    <th>  No. Observations:  </th>  <td>  6363</td> \n",
       "</tr>\n",
       "<tr>\n",
       "  <th>Model:</th>                  <td>GLM</td>       <th>  Df Residuals:      </th>  <td>  6336</td> \n",
       "</tr>\n",
       "<tr>\n",
       "  <th>Model Family:</th>        <td>Binomial</td>     <th>  Df Model:          </th>  <td>    26</td> \n",
       "</tr>\n",
       "<tr>\n",
       "  <th>Link Function:</th>         <td>logit</td>      <th>  Scale:             </th> <td>  1.0000</td>\n",
       "</tr>\n",
       "<tr>\n",
       "  <th>Method:</th>                <td>IRLS</td>       <th>  Log-Likelihood:    </th> <td> -2801.7</td>\n",
       "</tr>\n",
       "<tr>\n",
       "  <th>Date:</th>            <td>Wed, 09 Feb 2022</td> <th>  Deviance:          </th> <td>  5603.3</td>\n",
       "</tr>\n",
       "<tr>\n",
       "  <th>Time:</th>                <td>17:46:24</td>     <th>  Pearson chi2:      </th> <td>7.30e+03</td>\n",
       "</tr>\n",
       "<tr>\n",
       "  <th>No. Iterations:</th>          <td>7</td>        <th>                     </th>     <td> </td>   \n",
       "</tr>\n",
       "<tr>\n",
       "  <th>Covariance Type:</th>     <td>nonrobust</td>    <th>                     </th>     <td> </td>   \n",
       "</tr>\n",
       "</table>\n",
       "<table class=\"simpletable\">\n",
       "<tr>\n",
       "                            <td></td>                              <th>coef</th>     <th>std err</th>      <th>z</th>      <th>P>|z|</th>  <th>[0.025</th>    <th>0.975]</th>  \n",
       "</tr>\n",
       "<tr>\n",
       "  <th>const</th>                                                <td>   -1.3998</td> <td>    0.240</td> <td>   -5.828</td> <td> 0.000</td> <td>   -1.871</td> <td>   -0.929</td>\n",
       "</tr>\n",
       "<tr>\n",
       "  <th>Do Not Email</th>                                         <td>   -1.2262</td> <td>    0.164</td> <td>   -7.476</td> <td> 0.000</td> <td>   -1.548</td> <td>   -0.905</td>\n",
       "</tr>\n",
       "<tr>\n",
       "  <th>TotalVisits</th>                                          <td>    0.1754</td> <td>    0.047</td> <td>    3.757</td> <td> 0.000</td> <td>    0.084</td> <td>    0.267</td>\n",
       "</tr>\n",
       "<tr>\n",
       "  <th>Total Time Spent on Website</th>                          <td>    1.0606</td> <td>    0.039</td> <td>   27.254</td> <td> 0.000</td> <td>    0.984</td> <td>    1.137</td>\n",
       "</tr>\n",
       "<tr>\n",
       "  <th>Page Views Per Visit</th>                                 <td>   -0.0690</td> <td>    0.054</td> <td>   -1.285</td> <td> 0.199</td> <td>   -0.174</td> <td>    0.036</td>\n",
       "</tr>\n",
       "<tr>\n",
       "  <th>A free copy of Mastering The Interview</th>               <td>   -0.1497</td> <td>    0.105</td> <td>   -1.430</td> <td> 0.153</td> <td>   -0.355</td> <td>    0.056</td>\n",
       "</tr>\n",
       "<tr>\n",
       "  <th>Lead Origin_Landing Page Submission</th>                  <td>   -0.4926</td> <td>    0.132</td> <td>   -3.739</td> <td> 0.000</td> <td>   -0.751</td> <td>   -0.234</td>\n",
       "</tr>\n",
       "<tr>\n",
       "  <th>Lead Origin_Lead Add Form</th>                            <td>    4.1423</td> <td>    0.650</td> <td>    6.371</td> <td> 0.000</td> <td>    2.868</td> <td>    5.417</td>\n",
       "</tr>\n",
       "<tr>\n",
       "  <th>Lead Origin_Others</th>                                   <td>   -1.0159</td> <td>    0.822</td> <td>   -1.235</td> <td> 0.217</td> <td>   -2.628</td> <td>    0.596</td>\n",
       "</tr>\n",
       "<tr>\n",
       "  <th>Lead Source_Google</th>                                   <td>    0.2865</td> <td>    0.110</td> <td>    2.602</td> <td> 0.009</td> <td>    0.071</td> <td>    0.502</td>\n",
       "</tr>\n",
       "<tr>\n",
       "  <th>Lead Source_Olark Chat</th>                               <td>    1.2552</td> <td>    0.156</td> <td>    8.043</td> <td> 0.000</td> <td>    0.949</td> <td>    1.561</td>\n",
       "</tr>\n",
       "<tr>\n",
       "  <th>Lead Source_Organic Search</th>                           <td>    0.1250</td> <td>    0.126</td> <td>    0.995</td> <td> 0.320</td> <td>   -0.121</td> <td>    0.371</td>\n",
       "</tr>\n",
       "<tr>\n",
       "  <th>Lead Source_Others</th>                                   <td>    0.6995</td> <td>    0.667</td> <td>    1.048</td> <td> 0.295</td> <td>   -0.608</td> <td>    2.008</td>\n",
       "</tr>\n",
       "<tr>\n",
       "  <th>Lead Source_Reference</th>                                <td>   -0.7273</td> <td>    0.680</td> <td>   -1.070</td> <td> 0.285</td> <td>   -2.060</td> <td>    0.606</td>\n",
       "</tr>\n",
       "<tr>\n",
       "  <th>Lead Source_Referral Sites</th>                           <td>    0.0219</td> <td>    0.336</td> <td>    0.065</td> <td> 0.948</td> <td>   -0.637</td> <td>    0.681</td>\n",
       "</tr>\n",
       "<tr>\n",
       "  <th>Lead Source_Welingak Website</th>                         <td>    2.6242</td> <td>    1.197</td> <td>    2.192</td> <td> 0.028</td> <td>    0.278</td> <td>    4.971</td>\n",
       "</tr>\n",
       "<tr>\n",
       "  <th>Specialization_Business Specializations</th>              <td>   -0.3016</td> <td>    0.204</td> <td>   -1.479</td> <td> 0.139</td> <td>   -0.701</td> <td>    0.098</td>\n",
       "</tr>\n",
       "<tr>\n",
       "  <th>Specialization_E-COMMERCE</th>                            <td>    0.1708</td> <td>    0.343</td> <td>    0.497</td> <td> 0.619</td> <td>   -0.502</td> <td>    0.844</td>\n",
       "</tr>\n",
       "<tr>\n",
       "  <th>Specialization_Management Specializations</th>            <td>   -0.2251</td> <td>    0.174</td> <td>   -1.292</td> <td> 0.196</td> <td>   -0.567</td> <td>    0.116</td>\n",
       "</tr>\n",
       "<tr>\n",
       "  <th>Specialization_Media and Advertising</th>                 <td>   -0.2175</td> <td>    0.276</td> <td>   -0.789</td> <td> 0.430</td> <td>   -0.758</td> <td>    0.323</td>\n",
       "</tr>\n",
       "<tr>\n",
       "  <th>Specialization_Not Specified</th>                         <td>   -1.0125</td> <td>    0.203</td> <td>   -4.985</td> <td> 0.000</td> <td>   -1.411</td> <td>   -0.614</td>\n",
       "</tr>\n",
       "<tr>\n",
       "  <th>Specialization_Services Excellence</th>                   <td>   -0.4502</td> <td>    0.590</td> <td>   -0.763</td> <td> 0.445</td> <td>   -1.606</td> <td>    0.706</td>\n",
       "</tr>\n",
       "<tr>\n",
       "  <th>Specialization_Travel and Tourism</th>                    <td>   -0.4819</td> <td>    0.283</td> <td>   -1.703</td> <td> 0.089</td> <td>   -1.037</td> <td>    0.073</td>\n",
       "</tr>\n",
       "<tr>\n",
       "  <th>What is your current occupation_Other</th>                <td>    2.2063</td> <td>    0.541</td> <td>    4.075</td> <td> 0.000</td> <td>    1.145</td> <td>    3.267</td>\n",
       "</tr>\n",
       "<tr>\n",
       "  <th>What is your current occupation_Student</th>              <td>    1.0302</td> <td>    0.224</td> <td>    4.601</td> <td> 0.000</td> <td>    0.591</td> <td>    1.469</td>\n",
       "</tr>\n",
       "<tr>\n",
       "  <th>What is your current occupation_Unemployed</th>           <td>    1.2971</td> <td>    0.085</td> <td>   15.199</td> <td> 0.000</td> <td>    1.130</td> <td>    1.464</td>\n",
       "</tr>\n",
       "<tr>\n",
       "  <th>What is your current occupation_Working Professional</th> <td>    3.6791</td> <td>    0.196</td> <td>   18.805</td> <td> 0.000</td> <td>    3.296</td> <td>    4.063</td>\n",
       "</tr>\n",
       "</table>"
      ],
      "text/plain": [
       "<class 'statsmodels.iolib.summary.Summary'>\n",
       "\"\"\"\n",
       "                 Generalized Linear Model Regression Results                  \n",
       "==============================================================================\n",
       "Dep. Variable:              Converted   No. Observations:                 6363\n",
       "Model:                            GLM   Df Residuals:                     6336\n",
       "Model Family:                Binomial   Df Model:                           26\n",
       "Link Function:                  logit   Scale:                          1.0000\n",
       "Method:                          IRLS   Log-Likelihood:                -2801.7\n",
       "Date:                Wed, 09 Feb 2022   Deviance:                       5603.3\n",
       "Time:                        17:46:24   Pearson chi2:                 7.30e+03\n",
       "No. Iterations:                     7                                         \n",
       "Covariance Type:            nonrobust                                         \n",
       "========================================================================================================================\n",
       "                                                           coef    std err          z      P>|z|      [0.025      0.975]\n",
       "------------------------------------------------------------------------------------------------------------------------\n",
       "const                                                   -1.3998      0.240     -5.828      0.000      -1.871      -0.929\n",
       "Do Not Email                                            -1.2262      0.164     -7.476      0.000      -1.548      -0.905\n",
       "TotalVisits                                              0.1754      0.047      3.757      0.000       0.084       0.267\n",
       "Total Time Spent on Website                              1.0606      0.039     27.254      0.000       0.984       1.137\n",
       "Page Views Per Visit                                    -0.0690      0.054     -1.285      0.199      -0.174       0.036\n",
       "A free copy of Mastering The Interview                  -0.1497      0.105     -1.430      0.153      -0.355       0.056\n",
       "Lead Origin_Landing Page Submission                     -0.4926      0.132     -3.739      0.000      -0.751      -0.234\n",
       "Lead Origin_Lead Add Form                                4.1423      0.650      6.371      0.000       2.868       5.417\n",
       "Lead Origin_Others                                      -1.0159      0.822     -1.235      0.217      -2.628       0.596\n",
       "Lead Source_Google                                       0.2865      0.110      2.602      0.009       0.071       0.502\n",
       "Lead Source_Olark Chat                                   1.2552      0.156      8.043      0.000       0.949       1.561\n",
       "Lead Source_Organic Search                               0.1250      0.126      0.995      0.320      -0.121       0.371\n",
       "Lead Source_Others                                       0.6995      0.667      1.048      0.295      -0.608       2.008\n",
       "Lead Source_Reference                                   -0.7273      0.680     -1.070      0.285      -2.060       0.606\n",
       "Lead Source_Referral Sites                               0.0219      0.336      0.065      0.948      -0.637       0.681\n",
       "Lead Source_Welingak Website                             2.6242      1.197      2.192      0.028       0.278       4.971\n",
       "Specialization_Business Specializations                 -0.3016      0.204     -1.479      0.139      -0.701       0.098\n",
       "Specialization_E-COMMERCE                                0.1708      0.343      0.497      0.619      -0.502       0.844\n",
       "Specialization_Management Specializations               -0.2251      0.174     -1.292      0.196      -0.567       0.116\n",
       "Specialization_Media and Advertising                    -0.2175      0.276     -0.789      0.430      -0.758       0.323\n",
       "Specialization_Not Specified                            -1.0125      0.203     -4.985      0.000      -1.411      -0.614\n",
       "Specialization_Services Excellence                      -0.4502      0.590     -0.763      0.445      -1.606       0.706\n",
       "Specialization_Travel and Tourism                       -0.4819      0.283     -1.703      0.089      -1.037       0.073\n",
       "What is your current occupation_Other                    2.2063      0.541      4.075      0.000       1.145       3.267\n",
       "What is your current occupation_Student                  1.0302      0.224      4.601      0.000       0.591       1.469\n",
       "What is your current occupation_Unemployed               1.2971      0.085     15.199      0.000       1.130       1.464\n",
       "What is your current occupation_Working Professional     3.6791      0.196     18.805      0.000       3.296       4.063\n",
       "========================================================================================================================\n",
       "\"\"\""
      ]
     },
     "execution_count": 129,
     "metadata": {},
     "output_type": "execute_result"
    }
   ],
   "source": [
    "log_m1.summary()"
   ]
  },
  {
   "cell_type": "markdown",
   "id": "067c9944",
   "metadata": {},
   "source": [
    "**Insights:**\n",
    "- Here we can see lots of columns with no significance as P value is super high.\n",
    "- Now first we will use \"RFE\" (Recursive Feature Elimination) from scikit-learn for getting all significant columnss which we can use as part of model building .Then we can proceed with statsmodel for making model more effcient."
   ]
  },
  {
   "cell_type": "markdown",
   "id": "38b23507",
   "metadata": {},
   "source": [
    "### 6.2 Model feature selection using RFE"
   ]
  },
  {
   "cell_type": "code",
   "execution_count": 130,
   "id": "8f5a3958",
   "metadata": {},
   "outputs": [],
   "source": [
    "# We will create object for logistic regression\n",
    "\n",
    "log_reg=LogisticRegression()"
   ]
  },
  {
   "cell_type": "code",
   "execution_count": 131,
   "id": "00d00548",
   "metadata": {},
   "outputs": [],
   "source": [
    "# will check for Top 15 significant features using RFE\n",
    "\n",
    "rfe=RFE(log_reg ,15)"
   ]
  },
  {
   "cell_type": "code",
   "execution_count": 132,
   "id": "36dd30a9",
   "metadata": {},
   "outputs": [],
   "source": [
    "rfe=rfe.fit(X_train,y_train)"
   ]
  },
  {
   "cell_type": "code",
   "execution_count": 133,
   "id": "9d8f9450",
   "metadata": {},
   "outputs": [
    {
     "data": {
      "text/plain": [
       "[('Do Not Email', True, 1),\n",
       " ('TotalVisits', False, 6),\n",
       " ('Total Time Spent on Website', True, 1),\n",
       " ('Page Views Per Visit', False, 11),\n",
       " ('A free copy of Mastering The Interview', False, 5),\n",
       " ('Lead Origin_Landing Page Submission', True, 1),\n",
       " ('Lead Origin_Lead Add Form', True, 1),\n",
       " ('Lead Origin_Others', True, 1),\n",
       " ('Lead Source_Google', True, 1),\n",
       " ('Lead Source_Olark Chat', True, 1),\n",
       " ('Lead Source_Organic Search', False, 10),\n",
       " ('Lead Source_Others', True, 1),\n",
       " ('Lead Source_Reference', False, 4),\n",
       " ('Lead Source_Referral Sites', False, 12),\n",
       " ('Lead Source_Welingak Website', True, 1),\n",
       " ('Specialization_Business Specializations', False, 7),\n",
       " ('Specialization_E-COMMERCE', True, 1),\n",
       " ('Specialization_Management Specializations', False, 8),\n",
       " ('Specialization_Media and Advertising', False, 9),\n",
       " ('Specialization_Not Specified', True, 1),\n",
       " ('Specialization_Services Excellence', False, 3),\n",
       " ('Specialization_Travel and Tourism', False, 2),\n",
       " ('What is your current occupation_Other', True, 1),\n",
       " ('What is your current occupation_Student', True, 1),\n",
       " ('What is your current occupation_Unemployed', True, 1),\n",
       " ('What is your current occupation_Working Professional', True, 1)]"
      ]
     },
     "execution_count": 133,
     "metadata": {},
     "output_type": "execute_result"
    }
   ],
   "source": [
    "## Lets check the list\n",
    "\n",
    "list(zip(X_train.columns,rfe.support_,rfe.ranking_))"
   ]
  },
  {
   "cell_type": "code",
   "execution_count": 134,
   "id": "4059bef4",
   "metadata": {},
   "outputs": [
    {
     "data": {
      "text/plain": [
       "Index(['Do Not Email', 'Total Time Spent on Website',\n",
       "       'Lead Origin_Landing Page Submission', 'Lead Origin_Lead Add Form',\n",
       "       'Lead Origin_Others', 'Lead Source_Google', 'Lead Source_Olark Chat',\n",
       "       'Lead Source_Others', 'Lead Source_Welingak Website',\n",
       "       'Specialization_E-COMMERCE', 'Specialization_Not Specified',\n",
       "       'What is your current occupation_Other',\n",
       "       'What is your current occupation_Student',\n",
       "       'What is your current occupation_Unemployed',\n",
       "       'What is your current occupation_Working Professional'],\n",
       "      dtype='object')"
      ]
     },
     "execution_count": 134,
     "metadata": {},
     "output_type": "execute_result"
    }
   ],
   "source": [
    "#Features selected by RFE\n",
    "\n",
    "X_train.columns[rfe.support_]"
   ]
  },
  {
   "cell_type": "code",
   "execution_count": 135,
   "id": "7a1d0662",
   "metadata": {},
   "outputs": [
    {
     "data": {
      "text/plain": [
       "Index(['TotalVisits', 'Page Views Per Visit',\n",
       "       'A free copy of Mastering The Interview', 'Lead Source_Organic Search',\n",
       "       'Lead Source_Reference', 'Lead Source_Referral Sites',\n",
       "       'Specialization_Business Specializations',\n",
       "       'Specialization_Management Specializations',\n",
       "       'Specialization_Media and Advertising',\n",
       "       'Specialization_Services Excellence',\n",
       "       'Specialization_Travel and Tourism'],\n",
       "      dtype='object')"
      ]
     },
     "execution_count": 135,
     "metadata": {},
     "output_type": "execute_result"
    }
   ],
   "source": [
    "#Features not selected by RFE\n",
    "\n",
    "X_train.columns[~rfe.support_]"
   ]
  },
  {
   "cell_type": "markdown",
   "id": "60cf064c",
   "metadata": {},
   "source": [
    "- Now as we have all Top 15 features , we can again proceed with statsmodel for new model building"
   ]
  },
  {
   "cell_type": "markdown",
   "id": "5f4876f4",
   "metadata": {},
   "source": [
    "- Model 2"
   ]
  },
  {
   "cell_type": "code",
   "execution_count": 136,
   "id": "43dd384c",
   "metadata": {},
   "outputs": [],
   "source": [
    "# getting list of all columns\n",
    "\n",
    "col=X_train.columns[rfe.support_]"
   ]
  },
  {
   "cell_type": "code",
   "execution_count": 137,
   "id": "d64fd0ff",
   "metadata": {},
   "outputs": [],
   "source": [
    "# Taking only data considering above columns\n",
    "\n",
    "X_train_sm=sm.add_constant(X_train[col])"
   ]
  },
  {
   "cell_type": "code",
   "execution_count": 138,
   "id": "9ea586ca",
   "metadata": {},
   "outputs": [],
   "source": [
    "# Lets build model again\n",
    "\n",
    "log_m2=sm.GLM(y_train,X_train_sm,family=sm.families.Binomial())"
   ]
  },
  {
   "cell_type": "code",
   "execution_count": 139,
   "id": "64344aa3",
   "metadata": {},
   "outputs": [],
   "source": [
    "log_m2=log_m2.fit()"
   ]
  },
  {
   "cell_type": "code",
   "execution_count": 140,
   "id": "eda071b5",
   "metadata": {},
   "outputs": [
    {
     "data": {
      "text/html": [
       "<table class=\"simpletable\">\n",
       "<caption>Generalized Linear Model Regression Results</caption>\n",
       "<tr>\n",
       "  <th>Dep. Variable:</th>       <td>Converted</td>    <th>  No. Observations:  </th>  <td>  6363</td> \n",
       "</tr>\n",
       "<tr>\n",
       "  <th>Model:</th>                  <td>GLM</td>       <th>  Df Residuals:      </th>  <td>  6347</td> \n",
       "</tr>\n",
       "<tr>\n",
       "  <th>Model Family:</th>        <td>Binomial</td>     <th>  Df Model:          </th>  <td>    15</td> \n",
       "</tr>\n",
       "<tr>\n",
       "  <th>Link Function:</th>         <td>logit</td>      <th>  Scale:             </th> <td>  1.0000</td>\n",
       "</tr>\n",
       "<tr>\n",
       "  <th>Method:</th>                <td>IRLS</td>       <th>  Log-Likelihood:    </th> <td> -2813.5</td>\n",
       "</tr>\n",
       "<tr>\n",
       "  <th>Date:</th>            <td>Wed, 09 Feb 2022</td> <th>  Deviance:          </th> <td>  5627.1</td>\n",
       "</tr>\n",
       "<tr>\n",
       "  <th>Time:</th>                <td>17:46:25</td>     <th>  Pearson chi2:      </th> <td>7.28e+03</td>\n",
       "</tr>\n",
       "<tr>\n",
       "  <th>No. Iterations:</th>          <td>7</td>        <th>                     </th>     <td> </td>   \n",
       "</tr>\n",
       "<tr>\n",
       "  <th>Covariance Type:</th>     <td>nonrobust</td>    <th>                     </th>     <td> </td>   \n",
       "</tr>\n",
       "</table>\n",
       "<table class=\"simpletable\">\n",
       "<tr>\n",
       "                            <td></td>                              <th>coef</th>     <th>std err</th>      <th>z</th>      <th>P>|z|</th>  <th>[0.025</th>    <th>0.975]</th>  \n",
       "</tr>\n",
       "<tr>\n",
       "  <th>const</th>                                                <td>   -1.5969</td> <td>    0.152</td> <td>  -10.478</td> <td> 0.000</td> <td>   -1.896</td> <td>   -1.298</td>\n",
       "</tr>\n",
       "<tr>\n",
       "  <th>Do Not Email</th>                                         <td>   -1.2303</td> <td>    0.160</td> <td>   -7.666</td> <td> 0.000</td> <td>   -1.545</td> <td>   -0.916</td>\n",
       "</tr>\n",
       "<tr>\n",
       "  <th>Total Time Spent on Website</th>                          <td>    1.0672</td> <td>    0.039</td> <td>   27.506</td> <td> 0.000</td> <td>    0.991</td> <td>    1.143</td>\n",
       "</tr>\n",
       "<tr>\n",
       "  <th>Lead Origin_Landing Page Submission</th>                  <td>   -0.5630</td> <td>    0.126</td> <td>   -4.475</td> <td> 0.000</td> <td>   -0.810</td> <td>   -0.316</td>\n",
       "</tr>\n",
       "<tr>\n",
       "  <th>Lead Origin_Lead Add Form</th>                            <td>    3.3703</td> <td>    0.211</td> <td>   15.980</td> <td> 0.000</td> <td>    2.957</td> <td>    3.784</td>\n",
       "</tr>\n",
       "<tr>\n",
       "  <th>Lead Origin_Others</th>                                   <td>   -1.1420</td> <td>    0.806</td> <td>   -1.416</td> <td> 0.157</td> <td>   -2.722</td> <td>    0.438</td>\n",
       "</tr>\n",
       "<tr>\n",
       "  <th>Lead Source_Google</th>                                   <td>    0.3280</td> <td>    0.078</td> <td>    4.214</td> <td> 0.000</td> <td>    0.175</td> <td>    0.481</td>\n",
       "</tr>\n",
       "<tr>\n",
       "  <th>Lead Source_Olark Chat</th>                               <td>    1.1374</td> <td>    0.127</td> <td>    8.969</td> <td> 0.000</td> <td>    0.889</td> <td>    1.386</td>\n",
       "</tr>\n",
       "<tr>\n",
       "  <th>Lead Source_Others</th>                                   <td>    0.7432</td> <td>    0.644</td> <td>    1.153</td> <td> 0.249</td> <td>   -0.520</td> <td>    2.006</td>\n",
       "</tr>\n",
       "<tr>\n",
       "  <th>Lead Source_Welingak Website</th>                         <td>    3.2727</td> <td>    1.026</td> <td>    3.191</td> <td> 0.001</td> <td>    1.263</td> <td>    5.283</td>\n",
       "</tr>\n",
       "<tr>\n",
       "  <th>Specialization_E-COMMERCE</th>                            <td>    0.3850</td> <td>    0.300</td> <td>    1.281</td> <td> 0.200</td> <td>   -0.204</td> <td>    0.974</td>\n",
       "</tr>\n",
       "<tr>\n",
       "  <th>Specialization_Not Specified</th>                         <td>   -0.7888</td> <td>    0.118</td> <td>   -6.692</td> <td> 0.000</td> <td>   -1.020</td> <td>   -0.558</td>\n",
       "</tr>\n",
       "<tr>\n",
       "  <th>What is your current occupation_Other</th>                <td>    2.2454</td> <td>    0.544</td> <td>    4.125</td> <td> 0.000</td> <td>    1.179</td> <td>    3.312</td>\n",
       "</tr>\n",
       "<tr>\n",
       "  <th>What is your current occupation_Student</th>              <td>    1.0153</td> <td>    0.222</td> <td>    4.565</td> <td> 0.000</td> <td>    0.579</td> <td>    1.451</td>\n",
       "</tr>\n",
       "<tr>\n",
       "  <th>What is your current occupation_Unemployed</th>           <td>    1.2945</td> <td>    0.085</td> <td>   15.226</td> <td> 0.000</td> <td>    1.128</td> <td>    1.461</td>\n",
       "</tr>\n",
       "<tr>\n",
       "  <th>What is your current occupation_Working Professional</th> <td>    3.6663</td> <td>    0.195</td> <td>   18.808</td> <td> 0.000</td> <td>    3.284</td> <td>    4.048</td>\n",
       "</tr>\n",
       "</table>"
      ],
      "text/plain": [
       "<class 'statsmodels.iolib.summary.Summary'>\n",
       "\"\"\"\n",
       "                 Generalized Linear Model Regression Results                  \n",
       "==============================================================================\n",
       "Dep. Variable:              Converted   No. Observations:                 6363\n",
       "Model:                            GLM   Df Residuals:                     6347\n",
       "Model Family:                Binomial   Df Model:                           15\n",
       "Link Function:                  logit   Scale:                          1.0000\n",
       "Method:                          IRLS   Log-Likelihood:                -2813.5\n",
       "Date:                Wed, 09 Feb 2022   Deviance:                       5627.1\n",
       "Time:                        17:46:25   Pearson chi2:                 7.28e+03\n",
       "No. Iterations:                     7                                         \n",
       "Covariance Type:            nonrobust                                         \n",
       "========================================================================================================================\n",
       "                                                           coef    std err          z      P>|z|      [0.025      0.975]\n",
       "------------------------------------------------------------------------------------------------------------------------\n",
       "const                                                   -1.5969      0.152    -10.478      0.000      -1.896      -1.298\n",
       "Do Not Email                                            -1.2303      0.160     -7.666      0.000      -1.545      -0.916\n",
       "Total Time Spent on Website                              1.0672      0.039     27.506      0.000       0.991       1.143\n",
       "Lead Origin_Landing Page Submission                     -0.5630      0.126     -4.475      0.000      -0.810      -0.316\n",
       "Lead Origin_Lead Add Form                                3.3703      0.211     15.980      0.000       2.957       3.784\n",
       "Lead Origin_Others                                      -1.1420      0.806     -1.416      0.157      -2.722       0.438\n",
       "Lead Source_Google                                       0.3280      0.078      4.214      0.000       0.175       0.481\n",
       "Lead Source_Olark Chat                                   1.1374      0.127      8.969      0.000       0.889       1.386\n",
       "Lead Source_Others                                       0.7432      0.644      1.153      0.249      -0.520       2.006\n",
       "Lead Source_Welingak Website                             3.2727      1.026      3.191      0.001       1.263       5.283\n",
       "Specialization_E-COMMERCE                                0.3850      0.300      1.281      0.200      -0.204       0.974\n",
       "Specialization_Not Specified                            -0.7888      0.118     -6.692      0.000      -1.020      -0.558\n",
       "What is your current occupation_Other                    2.2454      0.544      4.125      0.000       1.179       3.312\n",
       "What is your current occupation_Student                  1.0153      0.222      4.565      0.000       0.579       1.451\n",
       "What is your current occupation_Unemployed               1.2945      0.085     15.226      0.000       1.128       1.461\n",
       "What is your current occupation_Working Professional     3.6663      0.195     18.808      0.000       3.284       4.048\n",
       "========================================================================================================================\n",
       "\"\"\""
      ]
     },
     "execution_count": 140,
     "metadata": {},
     "output_type": "execute_result"
    }
   ],
   "source": [
    "log_m2.summary()"
   ]
  },
  {
   "cell_type": "markdown",
   "id": "90a58fa5",
   "metadata": {},
   "source": [
    "- These below features are still insignificant :\n",
    "    - Lead Source_Others\n",
    "    - Specialization_E-COMMERCE\n",
    "    - Lead Origin_Others\n",
    "    \n",
    "- Lets drop them and rebuild model."
   ]
  },
  {
   "cell_type": "code",
   "execution_count": 141,
   "id": "ba8d1342",
   "metadata": {},
   "outputs": [
    {
     "data": {
      "text/plain": [
       "Index(['Do Not Email', 'Total Time Spent on Website',\n",
       "       'Lead Origin_Landing Page Submission', 'Lead Origin_Lead Add Form',\n",
       "       'Lead Source_Google', 'Lead Source_Olark Chat',\n",
       "       'Lead Source_Welingak Website', 'Specialization_Not Specified',\n",
       "       'What is your current occupation_Other',\n",
       "       'What is your current occupation_Student',\n",
       "       'What is your current occupation_Unemployed',\n",
       "       'What is your current occupation_Working Professional'],\n",
       "      dtype='object')"
      ]
     },
     "execution_count": 141,
     "metadata": {},
     "output_type": "execute_result"
    }
   ],
   "source": [
    "# Dropping the variables with p-values greater than 0.05\n",
    "col = col.drop(['Lead Source_Others', 'Specialization_E-COMMERCE','Lead Origin_Others'])\n",
    "col"
   ]
  },
  {
   "cell_type": "markdown",
   "id": "2273cb6a",
   "metadata": {},
   "source": [
    "- Model 3"
   ]
  },
  {
   "cell_type": "code",
   "execution_count": 142,
   "id": "e2bfbece",
   "metadata": {},
   "outputs": [
    {
     "data": {
      "text/html": [
       "<table class=\"simpletable\">\n",
       "<caption>Generalized Linear Model Regression Results</caption>\n",
       "<tr>\n",
       "  <th>Dep. Variable:</th>       <td>Converted</td>    <th>  No. Observations:  </th>  <td>  6363</td> \n",
       "</tr>\n",
       "<tr>\n",
       "  <th>Model:</th>                  <td>GLM</td>       <th>  Df Residuals:      </th>  <td>  6350</td> \n",
       "</tr>\n",
       "<tr>\n",
       "  <th>Model Family:</th>        <td>Binomial</td>     <th>  Df Model:          </th>  <td>    12</td> \n",
       "</tr>\n",
       "<tr>\n",
       "  <th>Link Function:</th>         <td>logit</td>      <th>  Scale:             </th> <td>  1.0000</td>\n",
       "</tr>\n",
       "<tr>\n",
       "  <th>Method:</th>                <td>IRLS</td>       <th>  Log-Likelihood:    </th> <td> -2815.2</td>\n",
       "</tr>\n",
       "<tr>\n",
       "  <th>Date:</th>            <td>Wed, 09 Feb 2022</td> <th>  Deviance:          </th> <td>  5630.5</td>\n",
       "</tr>\n",
       "<tr>\n",
       "  <th>Time:</th>                <td>17:46:25</td>     <th>  Pearson chi2:      </th> <td>7.29e+03</td>\n",
       "</tr>\n",
       "<tr>\n",
       "  <th>No. Iterations:</th>          <td>7</td>        <th>                     </th>     <td> </td>   \n",
       "</tr>\n",
       "<tr>\n",
       "  <th>Covariance Type:</th>     <td>nonrobust</td>    <th>                     </th>     <td> </td>   \n",
       "</tr>\n",
       "</table>\n",
       "<table class=\"simpletable\">\n",
       "<tr>\n",
       "                            <td></td>                              <th>coef</th>     <th>std err</th>      <th>z</th>      <th>P>|z|</th>  <th>[0.025</th>    <th>0.975]</th>  \n",
       "</tr>\n",
       "<tr>\n",
       "  <th>const</th>                                                <td>   -1.5982</td> <td>    0.151</td> <td>  -10.574</td> <td> 0.000</td> <td>   -1.894</td> <td>   -1.302</td>\n",
       "</tr>\n",
       "<tr>\n",
       "  <th>Do Not Email</th>                                         <td>   -1.2319</td> <td>    0.161</td> <td>   -7.661</td> <td> 0.000</td> <td>   -1.547</td> <td>   -0.917</td>\n",
       "</tr>\n",
       "<tr>\n",
       "  <th>Total Time Spent on Website</th>                          <td>    1.0653</td> <td>    0.039</td> <td>   27.526</td> <td> 0.000</td> <td>    0.989</td> <td>    1.141</td>\n",
       "</tr>\n",
       "<tr>\n",
       "  <th>Lead Origin_Landing Page Submission</th>                  <td>   -0.5490</td> <td>    0.125</td> <td>   -4.399</td> <td> 0.000</td> <td>   -0.794</td> <td>   -0.304</td>\n",
       "</tr>\n",
       "<tr>\n",
       "  <th>Lead Origin_Lead Add Form</th>                            <td>    3.3805</td> <td>    0.210</td> <td>   16.095</td> <td> 0.000</td> <td>    2.969</td> <td>    3.792</td>\n",
       "</tr>\n",
       "<tr>\n",
       "  <th>Lead Source_Google</th>                                   <td>    0.3262</td> <td>    0.077</td> <td>    4.221</td> <td> 0.000</td> <td>    0.175</td> <td>    0.478</td>\n",
       "</tr>\n",
       "<tr>\n",
       "  <th>Lead Source_Olark Chat</th>                               <td>    1.1403</td> <td>    0.125</td> <td>    9.094</td> <td> 0.000</td> <td>    0.895</td> <td>    1.386</td>\n",
       "</tr>\n",
       "<tr>\n",
       "  <th>Lead Source_Welingak Website</th>                         <td>    3.2657</td> <td>    1.026</td> <td>    3.185</td> <td> 0.001</td> <td>    1.256</td> <td>    5.276</td>\n",
       "</tr>\n",
       "<tr>\n",
       "  <th>Specialization_Not Specified</th>                         <td>   -0.7903</td> <td>    0.118</td> <td>   -6.717</td> <td> 0.000</td> <td>   -1.021</td> <td>   -0.560</td>\n",
       "</tr>\n",
       "<tr>\n",
       "  <th>What is your current occupation_Other</th>                <td>    2.2445</td> <td>    0.543</td> <td>    4.131</td> <td> 0.000</td> <td>    1.180</td> <td>    3.309</td>\n",
       "</tr>\n",
       "<tr>\n",
       "  <th>What is your current occupation_Student</th>              <td>    1.0134</td> <td>    0.223</td> <td>    4.553</td> <td> 0.000</td> <td>    0.577</td> <td>    1.450</td>\n",
       "</tr>\n",
       "<tr>\n",
       "  <th>What is your current occupation_Unemployed</th>           <td>    1.2928</td> <td>    0.085</td> <td>   15.207</td> <td> 0.000</td> <td>    1.126</td> <td>    1.459</td>\n",
       "</tr>\n",
       "<tr>\n",
       "  <th>What is your current occupation_Working Professional</th> <td>    3.6614</td> <td>    0.195</td> <td>   18.790</td> <td> 0.000</td> <td>    3.279</td> <td>    4.043</td>\n",
       "</tr>\n",
       "</table>"
      ],
      "text/plain": [
       "<class 'statsmodels.iolib.summary.Summary'>\n",
       "\"\"\"\n",
       "                 Generalized Linear Model Regression Results                  \n",
       "==============================================================================\n",
       "Dep. Variable:              Converted   No. Observations:                 6363\n",
       "Model:                            GLM   Df Residuals:                     6350\n",
       "Model Family:                Binomial   Df Model:                           12\n",
       "Link Function:                  logit   Scale:                          1.0000\n",
       "Method:                          IRLS   Log-Likelihood:                -2815.2\n",
       "Date:                Wed, 09 Feb 2022   Deviance:                       5630.5\n",
       "Time:                        17:46:25   Pearson chi2:                 7.29e+03\n",
       "No. Iterations:                     7                                         \n",
       "Covariance Type:            nonrobust                                         \n",
       "========================================================================================================================\n",
       "                                                           coef    std err          z      P>|z|      [0.025      0.975]\n",
       "------------------------------------------------------------------------------------------------------------------------\n",
       "const                                                   -1.5982      0.151    -10.574      0.000      -1.894      -1.302\n",
       "Do Not Email                                            -1.2319      0.161     -7.661      0.000      -1.547      -0.917\n",
       "Total Time Spent on Website                              1.0653      0.039     27.526      0.000       0.989       1.141\n",
       "Lead Origin_Landing Page Submission                     -0.5490      0.125     -4.399      0.000      -0.794      -0.304\n",
       "Lead Origin_Lead Add Form                                3.3805      0.210     16.095      0.000       2.969       3.792\n",
       "Lead Source_Google                                       0.3262      0.077      4.221      0.000       0.175       0.478\n",
       "Lead Source_Olark Chat                                   1.1403      0.125      9.094      0.000       0.895       1.386\n",
       "Lead Source_Welingak Website                             3.2657      1.026      3.185      0.001       1.256       5.276\n",
       "Specialization_Not Specified                            -0.7903      0.118     -6.717      0.000      -1.021      -0.560\n",
       "What is your current occupation_Other                    2.2445      0.543      4.131      0.000       1.180       3.309\n",
       "What is your current occupation_Student                  1.0134      0.223      4.553      0.000       0.577       1.450\n",
       "What is your current occupation_Unemployed               1.2928      0.085     15.207      0.000       1.126       1.459\n",
       "What is your current occupation_Working Professional     3.6614      0.195     18.790      0.000       3.279       4.043\n",
       "========================================================================================================================\n",
       "\"\"\""
      ]
     },
     "execution_count": 142,
     "metadata": {},
     "output_type": "execute_result"
    }
   ],
   "source": [
    "# Taking final list of columns for X_train\n",
    "X_train_sm=sm.add_constant(X_train[col])\n",
    "log_m3=sm.GLM(y_train,X_train_sm,family= sm.families.Binomial())\n",
    "log_m3=log_m3.fit()\n",
    "log_m3.summary()"
   ]
  },
  {
   "cell_type": "markdown",
   "id": "e1f88ce9",
   "metadata": {},
   "source": [
    "- Now all columns seem significant. Lets check VIF also."
   ]
  },
  {
   "cell_type": "code",
   "execution_count": 143,
   "id": "02c530f0",
   "metadata": {},
   "outputs": [
    {
     "data": {
      "text/html": [
       "<div>\n",
       "<style scoped>\n",
       "    .dataframe tbody tr th:only-of-type {\n",
       "        vertical-align: middle;\n",
       "    }\n",
       "\n",
       "    .dataframe tbody tr th {\n",
       "        vertical-align: top;\n",
       "    }\n",
       "\n",
       "    .dataframe thead th {\n",
       "        text-align: right;\n",
       "    }\n",
       "</style>\n",
       "<table border=\"1\" class=\"dataframe\">\n",
       "  <thead>\n",
       "    <tr style=\"text-align: right;\">\n",
       "      <th></th>\n",
       "      <th>Features</th>\n",
       "      <th>VIF</th>\n",
       "    </tr>\n",
       "  </thead>\n",
       "  <tbody>\n",
       "    <tr>\n",
       "      <th>10</th>\n",
       "      <td>What is your current occupation_Unemployed</td>\n",
       "      <td>2.66</td>\n",
       "    </tr>\n",
       "    <tr>\n",
       "      <th>7</th>\n",
       "      <td>Specialization_Not Specified</td>\n",
       "      <td>2.41</td>\n",
       "    </tr>\n",
       "    <tr>\n",
       "      <th>2</th>\n",
       "      <td>Lead Origin_Landing Page Submission</td>\n",
       "      <td>2.38</td>\n",
       "    </tr>\n",
       "    <tr>\n",
       "      <th>5</th>\n",
       "      <td>Lead Source_Olark Chat</td>\n",
       "      <td>2.02</td>\n",
       "    </tr>\n",
       "    <tr>\n",
       "      <th>3</th>\n",
       "      <td>Lead Origin_Lead Add Form</td>\n",
       "      <td>1.70</td>\n",
       "    </tr>\n",
       "    <tr>\n",
       "      <th>4</th>\n",
       "      <td>Lead Source_Google</td>\n",
       "      <td>1.63</td>\n",
       "    </tr>\n",
       "    <tr>\n",
       "      <th>11</th>\n",
       "      <td>What is your current occupation_Working Professional</td>\n",
       "      <td>1.33</td>\n",
       "    </tr>\n",
       "    <tr>\n",
       "      <th>6</th>\n",
       "      <td>Lead Source_Welingak Website</td>\n",
       "      <td>1.32</td>\n",
       "    </tr>\n",
       "    <tr>\n",
       "      <th>1</th>\n",
       "      <td>Total Time Spent on Website</td>\n",
       "      <td>1.26</td>\n",
       "    </tr>\n",
       "    <tr>\n",
       "      <th>0</th>\n",
       "      <td>Do Not Email</td>\n",
       "      <td>1.11</td>\n",
       "    </tr>\n",
       "    <tr>\n",
       "      <th>9</th>\n",
       "      <td>What is your current occupation_Student</td>\n",
       "      <td>1.06</td>\n",
       "    </tr>\n",
       "    <tr>\n",
       "      <th>8</th>\n",
       "      <td>What is your current occupation_Other</td>\n",
       "      <td>1.01</td>\n",
       "    </tr>\n",
       "  </tbody>\n",
       "</table>\n",
       "</div>"
      ],
      "text/plain": [
       "                                                Features   VIF\n",
       "10            What is your current occupation_Unemployed  2.66\n",
       "7                           Specialization_Not Specified  2.41\n",
       "2                    Lead Origin_Landing Page Submission  2.38\n",
       "5                                 Lead Source_Olark Chat  2.02\n",
       "3                              Lead Origin_Lead Add Form  1.70\n",
       "4                                     Lead Source_Google  1.63\n",
       "11  What is your current occupation_Working Professional  1.33\n",
       "6                           Lead Source_Welingak Website  1.32\n",
       "1                            Total Time Spent on Website  1.26\n",
       "0                                           Do Not Email  1.11\n",
       "9                What is your current occupation_Student  1.06\n",
       "8                  What is your current occupation_Other  1.01"
      ]
     },
     "execution_count": 143,
     "metadata": {},
     "output_type": "execute_result"
    }
   ],
   "source": [
    "# Calculate the VIFs for the new model\n",
    "\n",
    "vif = pd.DataFrame()\n",
    "X = X_train[col]\n",
    "vif['Features'] = X.columns\n",
    "vif['VIF'] = [variance_inflation_factor(X.values, i) for i in range(X.shape[1])]\n",
    "vif['VIF'] = round(vif['VIF'], 2)\n",
    "vif = vif.sort_values(by = \"VIF\", ascending = False)\n",
    "vif"
   ]
  },
  {
   "cell_type": "markdown",
   "id": "3b584a9e",
   "metadata": {},
   "source": [
    "- We need a VIF that is less than 5. Here all columns seem fine."
   ]
  },
  {
   "cell_type": "code",
   "execution_count": 144,
   "id": "8bc85eb3",
   "metadata": {},
   "outputs": [],
   "source": [
    "# predicting values on the train dataset\n",
    "\n",
    "y_train_pred=log_m3.predict(X_train_sm)"
   ]
  },
  {
   "cell_type": "code",
   "execution_count": 145,
   "id": "948fdf04",
   "metadata": {},
   "outputs": [],
   "source": [
    "y_train_pred=y_train_pred.values.reshape(-1)"
   ]
  },
  {
   "cell_type": "markdown",
   "id": "ec92c7f4",
   "metadata": {},
   "source": [
    "- Lets create one dataframe with actual converted value and predicted probability"
   ]
  },
  {
   "cell_type": "code",
   "execution_count": 146,
   "id": "8396d058",
   "metadata": {},
   "outputs": [],
   "source": [
    "y_train_final_pred=pd.DataFrame({'Converted':y_train.values,'Converted_Probability':y_train_pred})"
   ]
  },
  {
   "cell_type": "code",
   "execution_count": 147,
   "id": "61947122",
   "metadata": {},
   "outputs": [
    {
     "data": {
      "text/html": [
       "<div>\n",
       "<style scoped>\n",
       "    .dataframe tbody tr th:only-of-type {\n",
       "        vertical-align: middle;\n",
       "    }\n",
       "\n",
       "    .dataframe tbody tr th {\n",
       "        vertical-align: top;\n",
       "    }\n",
       "\n",
       "    .dataframe thead th {\n",
       "        text-align: right;\n",
       "    }\n",
       "</style>\n",
       "<table border=\"1\" class=\"dataframe\">\n",
       "  <thead>\n",
       "    <tr style=\"text-align: right;\">\n",
       "      <th></th>\n",
       "      <th>Converted</th>\n",
       "      <th>Converted_Probability</th>\n",
       "    </tr>\n",
       "  </thead>\n",
       "  <tbody>\n",
       "    <tr>\n",
       "      <th>0</th>\n",
       "      <td>0</td>\n",
       "      <td>0.054930</td>\n",
       "    </tr>\n",
       "    <tr>\n",
       "      <th>1</th>\n",
       "      <td>0</td>\n",
       "      <td>0.031511</td>\n",
       "    </tr>\n",
       "    <tr>\n",
       "      <th>2</th>\n",
       "      <td>0</td>\n",
       "      <td>0.310820</td>\n",
       "    </tr>\n",
       "    <tr>\n",
       "      <th>3</th>\n",
       "      <td>0</td>\n",
       "      <td>0.087567</td>\n",
       "    </tr>\n",
       "    <tr>\n",
       "      <th>4</th>\n",
       "      <td>1</td>\n",
       "      <td>0.525422</td>\n",
       "    </tr>\n",
       "  </tbody>\n",
       "</table>\n",
       "</div>"
      ],
      "text/plain": [
       "   Converted  Converted_Probability\n",
       "0          0               0.054930\n",
       "1          0               0.031511\n",
       "2          0               0.310820\n",
       "3          0               0.087567\n",
       "4          1               0.525422"
      ]
     },
     "execution_count": 147,
     "metadata": {},
     "output_type": "execute_result"
    }
   ],
   "source": [
    "y_train_final_pred.head()"
   ]
  },
  {
   "cell_type": "code",
   "execution_count": 148,
   "id": "bd468506",
   "metadata": {},
   "outputs": [],
   "source": [
    "# adding index to data frame\n",
    "\n",
    "y_train_final_pred['Prospect ID']=y_train.index"
   ]
  },
  {
   "cell_type": "code",
   "execution_count": 149,
   "id": "63859dcf",
   "metadata": {},
   "outputs": [
    {
     "data": {
      "text/html": [
       "<div>\n",
       "<style scoped>\n",
       "    .dataframe tbody tr th:only-of-type {\n",
       "        vertical-align: middle;\n",
       "    }\n",
       "\n",
       "    .dataframe tbody tr th {\n",
       "        vertical-align: top;\n",
       "    }\n",
       "\n",
       "    .dataframe thead th {\n",
       "        text-align: right;\n",
       "    }\n",
       "</style>\n",
       "<table border=\"1\" class=\"dataframe\">\n",
       "  <thead>\n",
       "    <tr style=\"text-align: right;\">\n",
       "      <th></th>\n",
       "      <th>Converted</th>\n",
       "      <th>Converted_Probability</th>\n",
       "      <th>Prospect ID</th>\n",
       "    </tr>\n",
       "  </thead>\n",
       "  <tbody>\n",
       "    <tr>\n",
       "      <th>0</th>\n",
       "      <td>0</td>\n",
       "      <td>0.054930</td>\n",
       "      <td>302</td>\n",
       "    </tr>\n",
       "    <tr>\n",
       "      <th>1</th>\n",
       "      <td>0</td>\n",
       "      <td>0.031511</td>\n",
       "      <td>6087</td>\n",
       "    </tr>\n",
       "    <tr>\n",
       "      <th>2</th>\n",
       "      <td>0</td>\n",
       "      <td>0.310820</td>\n",
       "      <td>1033</td>\n",
       "    </tr>\n",
       "    <tr>\n",
       "      <th>3</th>\n",
       "      <td>0</td>\n",
       "      <td>0.087567</td>\n",
       "      <td>7656</td>\n",
       "    </tr>\n",
       "    <tr>\n",
       "      <th>4</th>\n",
       "      <td>1</td>\n",
       "      <td>0.525422</td>\n",
       "      <td>3241</td>\n",
       "    </tr>\n",
       "  </tbody>\n",
       "</table>\n",
       "</div>"
      ],
      "text/plain": [
       "   Converted  Converted_Probability  Prospect ID\n",
       "0          0               0.054930          302\n",
       "1          0               0.031511         6087\n",
       "2          0               0.310820         1033\n",
       "3          0               0.087567         7656\n",
       "4          1               0.525422         3241"
      ]
     },
     "execution_count": 149,
     "metadata": {},
     "output_type": "execute_result"
    }
   ],
   "source": [
    "y_train_final_pred.head()"
   ]
  },
  {
   "cell_type": "markdown",
   "id": "c4427f42",
   "metadata": {},
   "source": [
    "- Now we can create new column 'Predicted' with 1 and 0 for more 0.5 and less than 0.5"
   ]
  },
  {
   "cell_type": "code",
   "execution_count": 150,
   "id": "fd9385c3",
   "metadata": {},
   "outputs": [],
   "source": [
    "y_train_final_pred['Predicted']=y_train_final_pred['Converted_Probability'].map(lambda x: 1 if x > 0.5 else 0)"
   ]
  },
  {
   "cell_type": "code",
   "execution_count": 151,
   "id": "0926d2ac",
   "metadata": {},
   "outputs": [
    {
     "data": {
      "text/html": [
       "<div>\n",
       "<style scoped>\n",
       "    .dataframe tbody tr th:only-of-type {\n",
       "        vertical-align: middle;\n",
       "    }\n",
       "\n",
       "    .dataframe tbody tr th {\n",
       "        vertical-align: top;\n",
       "    }\n",
       "\n",
       "    .dataframe thead th {\n",
       "        text-align: right;\n",
       "    }\n",
       "</style>\n",
       "<table border=\"1\" class=\"dataframe\">\n",
       "  <thead>\n",
       "    <tr style=\"text-align: right;\">\n",
       "      <th></th>\n",
       "      <th>Converted</th>\n",
       "      <th>Converted_Probability</th>\n",
       "      <th>Prospect ID</th>\n",
       "      <th>Predicted</th>\n",
       "    </tr>\n",
       "  </thead>\n",
       "  <tbody>\n",
       "    <tr>\n",
       "      <th>0</th>\n",
       "      <td>0</td>\n",
       "      <td>0.054930</td>\n",
       "      <td>302</td>\n",
       "      <td>0</td>\n",
       "    </tr>\n",
       "    <tr>\n",
       "      <th>1</th>\n",
       "      <td>0</td>\n",
       "      <td>0.031511</td>\n",
       "      <td>6087</td>\n",
       "      <td>0</td>\n",
       "    </tr>\n",
       "    <tr>\n",
       "      <th>2</th>\n",
       "      <td>0</td>\n",
       "      <td>0.310820</td>\n",
       "      <td>1033</td>\n",
       "      <td>0</td>\n",
       "    </tr>\n",
       "    <tr>\n",
       "      <th>3</th>\n",
       "      <td>0</td>\n",
       "      <td>0.087567</td>\n",
       "      <td>7656</td>\n",
       "      <td>0</td>\n",
       "    </tr>\n",
       "    <tr>\n",
       "      <th>4</th>\n",
       "      <td>1</td>\n",
       "      <td>0.525422</td>\n",
       "      <td>3241</td>\n",
       "      <td>1</td>\n",
       "    </tr>\n",
       "  </tbody>\n",
       "</table>\n",
       "</div>"
      ],
      "text/plain": [
       "   Converted  Converted_Probability  Prospect ID  Predicted\n",
       "0          0               0.054930          302          0\n",
       "1          0               0.031511         6087          0\n",
       "2          0               0.310820         1033          0\n",
       "3          0               0.087567         7656          0\n",
       "4          1               0.525422         3241          1"
      ]
     },
     "execution_count": 151,
     "metadata": {},
     "output_type": "execute_result"
    }
   ],
   "source": [
    "y_train_final_pred.head()"
   ]
  },
  {
   "cell_type": "markdown",
   "id": "d66507fd",
   "metadata": {},
   "source": [
    "- Lets proceed with visualizing confusion matrix"
   ]
  },
  {
   "cell_type": "code",
   "execution_count": 152,
   "id": "20a91d48",
   "metadata": {},
   "outputs": [],
   "source": [
    "from sklearn import metrics\n",
    "res=metrics.confusion_matrix(y_train_final_pred['Converted'],y_train_final_pred['Predicted'])"
   ]
  },
  {
   "cell_type": "code",
   "execution_count": 153,
   "id": "2459f632",
   "metadata": {},
   "outputs": [
    {
     "data": {
      "text/plain": [
       "array([[3517,  418],\n",
       "       [ 841, 1587]], dtype=int64)"
      ]
     },
     "execution_count": 153,
     "metadata": {},
     "output_type": "execute_result"
    }
   ],
   "source": [
    "res"
   ]
  },
  {
   "cell_type": "code",
   "execution_count": 154,
   "id": "5eb9d73f",
   "metadata": {},
   "outputs": [
    {
     "data": {
      "text/plain": [
       "0.8021373565928022"
      ]
     },
     "execution_count": 154,
     "metadata": {},
     "output_type": "execute_result"
    }
   ],
   "source": [
    "# Lets check accuracy score of model\n",
    "\n",
    "metrics.accuracy_score(y_train_final_pred['Converted'],y_train_final_pred['Predicted'])"
   ]
  },
  {
   "cell_type": "code",
   "execution_count": 155,
   "id": "b06e06cf",
   "metadata": {},
   "outputs": [],
   "source": [
    "# Lets check sensitivity and specificity\n",
    "\n",
    "# true positive\n",
    "tp=res[1,1]\n",
    "\n",
    "#true negative\n",
    "tn=res[0,0]\n",
    "\n",
    "#false positive\n",
    "fp=res[0,1]\n",
    "\n",
    "#false negative\n",
    "fn=res[1,0]"
   ]
  },
  {
   "cell_type": "markdown",
   "id": "bf3bd9ce",
   "metadata": {},
   "source": [
    "- Sensitivity"
   ]
  },
  {
   "cell_type": "code",
   "execution_count": 156,
   "id": "fb99ca08",
   "metadata": {},
   "outputs": [
    {
     "data": {
      "text/plain": [
       "0.6536243822075782"
      ]
     },
     "execution_count": 156,
     "metadata": {},
     "output_type": "execute_result"
    }
   ],
   "source": [
    "tp/float(tp+fn)"
   ]
  },
  {
   "cell_type": "markdown",
   "id": "d69c50ab",
   "metadata": {},
   "source": [
    "- Specificy"
   ]
  },
  {
   "cell_type": "code",
   "execution_count": 157,
   "id": "1de115cc",
   "metadata": {},
   "outputs": [
    {
     "data": {
      "text/plain": [
       "0.8937738246505718"
      ]
     },
     "execution_count": 157,
     "metadata": {},
     "output_type": "execute_result"
    }
   ],
   "source": [
    "tn/float(tn+fp)"
   ]
  },
  {
   "cell_type": "markdown",
   "id": "0e687893",
   "metadata": {},
   "source": [
    "- Positive Predictive Value "
   ]
  },
  {
   "cell_type": "code",
   "execution_count": 158,
   "id": "f13a1f14",
   "metadata": {},
   "outputs": [
    {
     "data": {
      "text/plain": [
       "0.7915211970074812"
      ]
     },
     "execution_count": 158,
     "metadata": {},
     "output_type": "execute_result"
    }
   ],
   "source": [
    "tp/float(tp+fp)"
   ]
  },
  {
   "cell_type": "markdown",
   "id": "8f178a1c",
   "metadata": {},
   "source": [
    "- Negative Predictive Value "
   ]
  },
  {
   "cell_type": "code",
   "execution_count": 159,
   "id": "7dc3e3d0",
   "metadata": {},
   "outputs": [
    {
     "data": {
      "text/plain": [
       "0.8070215695273061"
      ]
     },
     "execution_count": 159,
     "metadata": {},
     "output_type": "execute_result"
    }
   ],
   "source": [
    "tn/float(tn+fn)"
   ]
  },
  {
   "cell_type": "markdown",
   "id": "6ee236b4",
   "metadata": {},
   "source": [
    "### Plotting ROC curve"
   ]
  },
  {
   "cell_type": "code",
   "execution_count": 160,
   "id": "2915e32e",
   "metadata": {},
   "outputs": [],
   "source": [
    "# for visualizung tradeoff between sensitivity and specificity\n",
    "\n",
    "def draw_roc( actual, probs ):\n",
    "    fpr, tpr, thresholds = metrics.roc_curve( actual, probs,\n",
    "                                              drop_intermediate = False )\n",
    "    auc_score = metrics.roc_auc_score( actual, probs )\n",
    "    plt.figure(figsize=(5, 5))\n",
    "    plt.plot( fpr, tpr, label='ROC curve (area = %0.2f)' % auc_score )\n",
    "    plt.plot([0, 1], [0, 1], 'k--')\n",
    "    plt.xlim([0.0, 1.0])\n",
    "    plt.ylim([0.0, 1.05])\n",
    "    plt.xlabel('False Positive Rate or [1 - True Negative Rate]')\n",
    "    plt.ylabel('True Positive Rate')\n",
    "    plt.title('Receiver operating characteristic example')\n",
    "    plt.legend(loc=\"lower right\")\n",
    "    plt.show()\n",
    "\n",
    "    return None"
   ]
  },
  {
   "cell_type": "code",
   "execution_count": 161,
   "id": "b407c773",
   "metadata": {},
   "outputs": [],
   "source": [
    "fpr,tpr,thresholds=metrics.roc_curve(y_train_final_pred.Converted, y_train_final_pred.Converted_Probability,drop_intermediate = False)"
   ]
  },
  {
   "cell_type": "code",
   "execution_count": 162,
   "id": "294014c8",
   "metadata": {},
   "outputs": [
    {
     "data": {
      "image/png": "[encoded data removed]",
      "text/plain": [
       "<Figure size 360x360 with 1 Axes>"
      ]
     },
     "metadata": {
      "needs_background": "light"
     },
     "output_type": "display_data"
    }
   ],
   "source": [
    "draw_roc(y_train_final_pred.Converted,y_train_final_pred.Converted_Probability)"
   ]
  },
  {
   "cell_type": "markdown",
   "id": "57bc7a44",
   "metadata": {},
   "source": [
    "### Finding Optimal Cutoff Point"
   ]
  },
  {
   "cell_type": "code",
   "execution_count": 163,
   "id": "f7bca9a4",
   "metadata": {},
   "outputs": [
    {
     "data": {
      "text/html": [
       "<div>\n",
       "<style scoped>\n",
       "    .dataframe tbody tr th:only-of-type {\n",
       "        vertical-align: middle;\n",
       "    }\n",
       "\n",
       "    .dataframe tbody tr th {\n",
       "        vertical-align: top;\n",
       "    }\n",
       "\n",
       "    .dataframe thead th {\n",
       "        text-align: right;\n",
       "    }\n",
       "</style>\n",
       "<table border=\"1\" class=\"dataframe\">\n",
       "  <thead>\n",
       "    <tr style=\"text-align: right;\">\n",
       "      <th></th>\n",
       "      <th>Converted</th>\n",
       "      <th>Converted_Probability</th>\n",
       "      <th>Prospect ID</th>\n",
       "      <th>Predicted</th>\n",
       "      <th>0.0</th>\n",
       "      <th>0.1</th>\n",
       "      <th>0.2</th>\n",
       "      <th>0.3</th>\n",
       "      <th>0.4</th>\n",
       "      <th>0.5</th>\n",
       "      <th>0.6</th>\n",
       "      <th>0.7</th>\n",
       "      <th>0.8</th>\n",
       "      <th>0.9</th>\n",
       "    </tr>\n",
       "  </thead>\n",
       "  <tbody>\n",
       "    <tr>\n",
       "      <th>0</th>\n",
       "      <td>0</td>\n",
       "      <td>0.054930</td>\n",
       "      <td>302</td>\n",
       "      <td>0</td>\n",
       "      <td>1</td>\n",
       "      <td>0</td>\n",
       "      <td>0</td>\n",
       "      <td>0</td>\n",
       "      <td>0</td>\n",
       "      <td>0</td>\n",
       "      <td>0</td>\n",
       "      <td>0</td>\n",
       "      <td>0</td>\n",
       "      <td>0</td>\n",
       "    </tr>\n",
       "    <tr>\n",
       "      <th>1</th>\n",
       "      <td>0</td>\n",
       "      <td>0.031511</td>\n",
       "      <td>6087</td>\n",
       "      <td>0</td>\n",
       "      <td>1</td>\n",
       "      <td>0</td>\n",
       "      <td>0</td>\n",
       "      <td>0</td>\n",
       "      <td>0</td>\n",
       "      <td>0</td>\n",
       "      <td>0</td>\n",
       "      <td>0</td>\n",
       "      <td>0</td>\n",
       "      <td>0</td>\n",
       "    </tr>\n",
       "    <tr>\n",
       "      <th>2</th>\n",
       "      <td>0</td>\n",
       "      <td>0.310820</td>\n",
       "      <td>1033</td>\n",
       "      <td>0</td>\n",
       "      <td>1</td>\n",
       "      <td>1</td>\n",
       "      <td>1</td>\n",
       "      <td>1</td>\n",
       "      <td>0</td>\n",
       "      <td>0</td>\n",
       "      <td>0</td>\n",
       "      <td>0</td>\n",
       "      <td>0</td>\n",
       "      <td>0</td>\n",
       "    </tr>\n",
       "    <tr>\n",
       "      <th>3</th>\n",
       "      <td>0</td>\n",
       "      <td>0.087567</td>\n",
       "      <td>7656</td>\n",
       "      <td>0</td>\n",
       "      <td>1</td>\n",
       "      <td>0</td>\n",
       "      <td>0</td>\n",
       "      <td>0</td>\n",
       "      <td>0</td>\n",
       "      <td>0</td>\n",
       "      <td>0</td>\n",
       "      <td>0</td>\n",
       "      <td>0</td>\n",
       "      <td>0</td>\n",
       "    </tr>\n",
       "    <tr>\n",
       "      <th>4</th>\n",
       "      <td>1</td>\n",
       "      <td>0.525422</td>\n",
       "      <td>3241</td>\n",
       "      <td>1</td>\n",
       "      <td>1</td>\n",
       "      <td>1</td>\n",
       "      <td>1</td>\n",
       "      <td>1</td>\n",
       "      <td>1</td>\n",
       "      <td>1</td>\n",
       "      <td>0</td>\n",
       "      <td>0</td>\n",
       "      <td>0</td>\n",
       "      <td>0</td>\n",
       "    </tr>\n",
       "  </tbody>\n",
       "</table>\n",
       "</div>"
      ],
      "text/plain": [
       "   Converted  Converted_Probability  Prospect ID  Predicted  0.0  0.1  0.2  \\\n",
       "0          0               0.054930          302          0    1    0    0   \n",
       "1          0               0.031511         6087          0    1    0    0   \n",
       "2          0               0.310820         1033          0    1    1    1   \n",
       "3          0               0.087567         7656          0    1    0    0   \n",
       "4          1               0.525422         3241          1    1    1    1   \n",
       "\n",
       "   0.3  0.4  0.5  0.6  0.7  0.8  0.9  \n",
       "0    0    0    0    0    0    0    0  \n",
       "1    0    0    0    0    0    0    0  \n",
       "2    1    0    0    0    0    0    0  \n",
       "3    0    0    0    0    0    0    0  \n",
       "4    1    1    1    0    0    0    0  "
      ]
     },
     "execution_count": 163,
     "metadata": {},
     "output_type": "execute_result"
    }
   ],
   "source": [
    "# Let's create columns with different probability cutoffs \n",
    "numbers = [float(x)/10 for x in range(10)]\n",
    "for i in numbers:\n",
    "    y_train_final_pred[i]= y_train_final_pred.Converted_Probability.map(lambda x: 1 if x > i else 0)\n",
    "y_train_final_pred.head()"
   ]
  },
  {
   "cell_type": "code",
   "execution_count": 164,
   "id": "f741b4f6",
   "metadata": {},
   "outputs": [
    {
     "name": "stdout",
     "output_type": "stream",
     "text": [
      "     prob  accuracy     sensi     speci\n",
      "0.0   0.0  0.381581  1.000000  0.000000\n",
      "0.1   0.1  0.519409  0.982702  0.233545\n",
      "0.2   0.2  0.699198  0.908567  0.570013\n",
      "0.3   0.3  0.790979  0.778007  0.798983\n",
      "0.4   0.4  0.808424  0.731054  0.856163\n",
      "0.5   0.5  0.802137  0.653624  0.893774\n",
      "0.6   0.6  0.787522  0.576606  0.917662\n",
      "0.7   0.7  0.763948  0.476524  0.941296\n",
      "0.8   0.8  0.732359  0.346376  0.970521\n",
      "0.9   0.9  0.699198  0.225700  0.991360\n"
     ]
    }
   ],
   "source": [
    "# Now let's calculate accuracy sensitivity and specificity for various probability cutoffs.\n",
    "\n",
    "cutoff_df = pd.DataFrame( columns = ['prob','accuracy','sensi','speci'])\n",
    "num = [0.0,0.1,0.2,0.3,0.4,0.5,0.6,0.7,0.8,0.9]\n",
    "for i in num:\n",
    "    cm = metrics.confusion_matrix(y_train_final_pred.Converted, y_train_final_pred[i] )\n",
    "    total1=sum(sum(cm))\n",
    "    accuracy = (cm[0,0]+cm[1,1])/total1\n",
    "    \n",
    "    speci = cm[0,0]/(cm[0,0]+cm[0,1])\n",
    "    sensi = cm[1,1]/(cm[1,0]+cm[1,1])\n",
    "    cutoff_df.loc[i] =[ i ,accuracy,sensi,speci]\n",
    "print(cutoff_df)"
   ]
  },
  {
   "cell_type": "code",
   "execution_count": 165,
   "id": "535bcafa",
   "metadata": {},
   "outputs": [
    {
     "data": {
      "image/png": "[encoded data removed]",
      "text/plain": [
       "<Figure size 432x288 with 1 Axes>"
      ]
     },
     "metadata": {
      "needs_background": "light"
     },
     "output_type": "display_data"
    }
   ],
   "source": [
    "# Let's plot accuracy sensitivity and specificity for various probabilities.\n",
    "cutoff_df.plot.line(x='prob', y=['accuracy','sensi','speci'])\n",
    "plt.show()"
   ]
  },
  {
   "cell_type": "markdown",
   "id": "a32db657",
   "metadata": {},
   "source": [
    "- from above curve , we can see optimal point is around ~ 0.3"
   ]
  },
  {
   "cell_type": "code",
   "execution_count": 166,
   "id": "c9915d91",
   "metadata": {},
   "outputs": [
    {
     "data": {
      "text/html": [
       "<div>\n",
       "<style scoped>\n",
       "    .dataframe tbody tr th:only-of-type {\n",
       "        vertical-align: middle;\n",
       "    }\n",
       "\n",
       "    .dataframe tbody tr th {\n",
       "        vertical-align: top;\n",
       "    }\n",
       "\n",
       "    .dataframe thead th {\n",
       "        text-align: right;\n",
       "    }\n",
       "</style>\n",
       "<table border=\"1\" class=\"dataframe\">\n",
       "  <thead>\n",
       "    <tr style=\"text-align: right;\">\n",
       "      <th></th>\n",
       "      <th>Converted</th>\n",
       "      <th>Converted_Probability</th>\n",
       "      <th>Prospect ID</th>\n",
       "      <th>Predicted</th>\n",
       "      <th>0.0</th>\n",
       "      <th>0.1</th>\n",
       "      <th>0.2</th>\n",
       "      <th>0.3</th>\n",
       "      <th>0.4</th>\n",
       "      <th>0.5</th>\n",
       "      <th>0.6</th>\n",
       "      <th>0.7</th>\n",
       "      <th>0.8</th>\n",
       "      <th>0.9</th>\n",
       "      <th>Final_Pred</th>\n",
       "    </tr>\n",
       "  </thead>\n",
       "  <tbody>\n",
       "    <tr>\n",
       "      <th>0</th>\n",
       "      <td>0</td>\n",
       "      <td>0.054930</td>\n",
       "      <td>302</td>\n",
       "      <td>0</td>\n",
       "      <td>1</td>\n",
       "      <td>0</td>\n",
       "      <td>0</td>\n",
       "      <td>0</td>\n",
       "      <td>0</td>\n",
       "      <td>0</td>\n",
       "      <td>0</td>\n",
       "      <td>0</td>\n",
       "      <td>0</td>\n",
       "      <td>0</td>\n",
       "      <td>0</td>\n",
       "    </tr>\n",
       "    <tr>\n",
       "      <th>1</th>\n",
       "      <td>0</td>\n",
       "      <td>0.031511</td>\n",
       "      <td>6087</td>\n",
       "      <td>0</td>\n",
       "      <td>1</td>\n",
       "      <td>0</td>\n",
       "      <td>0</td>\n",
       "      <td>0</td>\n",
       "      <td>0</td>\n",
       "      <td>0</td>\n",
       "      <td>0</td>\n",
       "      <td>0</td>\n",
       "      <td>0</td>\n",
       "      <td>0</td>\n",
       "      <td>0</td>\n",
       "    </tr>\n",
       "    <tr>\n",
       "      <th>2</th>\n",
       "      <td>0</td>\n",
       "      <td>0.310820</td>\n",
       "      <td>1033</td>\n",
       "      <td>0</td>\n",
       "      <td>1</td>\n",
       "      <td>1</td>\n",
       "      <td>1</td>\n",
       "      <td>1</td>\n",
       "      <td>0</td>\n",
       "      <td>0</td>\n",
       "      <td>0</td>\n",
       "      <td>0</td>\n",
       "      <td>0</td>\n",
       "      <td>0</td>\n",
       "      <td>1</td>\n",
       "    </tr>\n",
       "    <tr>\n",
       "      <th>3</th>\n",
       "      <td>0</td>\n",
       "      <td>0.087567</td>\n",
       "      <td>7656</td>\n",
       "      <td>0</td>\n",
       "      <td>1</td>\n",
       "      <td>0</td>\n",
       "      <td>0</td>\n",
       "      <td>0</td>\n",
       "      <td>0</td>\n",
       "      <td>0</td>\n",
       "      <td>0</td>\n",
       "      <td>0</td>\n",
       "      <td>0</td>\n",
       "      <td>0</td>\n",
       "      <td>0</td>\n",
       "    </tr>\n",
       "    <tr>\n",
       "      <th>4</th>\n",
       "      <td>1</td>\n",
       "      <td>0.525422</td>\n",
       "      <td>3241</td>\n",
       "      <td>1</td>\n",
       "      <td>1</td>\n",
       "      <td>1</td>\n",
       "      <td>1</td>\n",
       "      <td>1</td>\n",
       "      <td>1</td>\n",
       "      <td>1</td>\n",
       "      <td>0</td>\n",
       "      <td>0</td>\n",
       "      <td>0</td>\n",
       "      <td>0</td>\n",
       "      <td>1</td>\n",
       "    </tr>\n",
       "  </tbody>\n",
       "</table>\n",
       "</div>"
      ],
      "text/plain": [
       "   Converted  Converted_Probability  Prospect ID  Predicted  0.0  0.1  0.2  \\\n",
       "0          0               0.054930          302          0    1    0    0   \n",
       "1          0               0.031511         6087          0    1    0    0   \n",
       "2          0               0.310820         1033          0    1    1    1   \n",
       "3          0               0.087567         7656          0    1    0    0   \n",
       "4          1               0.525422         3241          1    1    1    1   \n",
       "\n",
       "   0.3  0.4  0.5  0.6  0.7  0.8  0.9  Final_Pred  \n",
       "0    0    0    0    0    0    0    0           0  \n",
       "1    0    0    0    0    0    0    0           0  \n",
       "2    1    0    0    0    0    0    0           1  \n",
       "3    0    0    0    0    0    0    0           0  \n",
       "4    1    1    1    0    0    0    0           1  "
      ]
     },
     "execution_count": 166,
     "metadata": {},
     "output_type": "execute_result"
    }
   ],
   "source": [
    "# lets use 0.3 as cut off \n",
    "\n",
    "y_train_final_pred['Final_Pred']=y_train_final_pred.Converted_Probability.map( lambda x: 1 if x > 0.3 else 0)\n",
    "\n",
    "y_train_final_pred.head()"
   ]
  },
  {
   "cell_type": "code",
   "execution_count": 167,
   "id": "1f0c3477",
   "metadata": {},
   "outputs": [
    {
     "data": {
      "text/plain": [
       "0.7909790979097909"
      ]
     },
     "execution_count": 167,
     "metadata": {},
     "output_type": "execute_result"
    }
   ],
   "source": [
    "# Lets check accuracy score of model\n",
    "\n",
    "metrics.accuracy_score(y_train_final_pred['Converted'],y_train_final_pred['Final_Pred'])"
   ]
  },
  {
   "cell_type": "code",
   "execution_count": 168,
   "id": "7082d0f4",
   "metadata": {},
   "outputs": [
    {
     "data": {
      "text/plain": [
       "array([[3144,  791],\n",
       "       [ 539, 1889]], dtype=int64)"
      ]
     },
     "execution_count": 168,
     "metadata": {},
     "output_type": "execute_result"
    }
   ],
   "source": [
    "# Lets look at the confusion matrix again\n",
    "res=metrics.confusion_matrix(y_train_final_pred['Converted'],y_train_final_pred['Final_Pred'])\n",
    "res"
   ]
  },
  {
   "cell_type": "code",
   "execution_count": 169,
   "id": "9d41b0a8",
   "metadata": {},
   "outputs": [],
   "source": [
    "# Lets check sensitivity and specificity\n",
    "\n",
    "# true positive\n",
    "tp=res[1,1]\n",
    "\n",
    "#true negative\n",
    "tn=res[0,0]\n",
    "\n",
    "#false positive\n",
    "fp=res[0,1]\n",
    "\n",
    "#false negative\n",
    "fn=res[1,0]"
   ]
  },
  {
   "cell_type": "markdown",
   "id": "cef4e5c3",
   "metadata": {},
   "source": [
    "- Sensitivity"
   ]
  },
  {
   "cell_type": "code",
   "execution_count": 170,
   "id": "6984b9f9",
   "metadata": {},
   "outputs": [
    {
     "data": {
      "text/plain": [
       "0.7780065897858319"
      ]
     },
     "execution_count": 170,
     "metadata": {},
     "output_type": "execute_result"
    }
   ],
   "source": [
    "tp/float(tp+fn)"
   ]
  },
  {
   "cell_type": "markdown",
   "id": "f6f79f75",
   "metadata": {},
   "source": [
    "- Specificity"
   ]
  },
  {
   "cell_type": "code",
   "execution_count": 171,
   "id": "60c5376a",
   "metadata": {},
   "outputs": [
    {
     "data": {
      "text/plain": [
       "0.7989834815756035"
      ]
     },
     "execution_count": 171,
     "metadata": {},
     "output_type": "execute_result"
    }
   ],
   "source": [
    "tn/float(tn+fp)"
   ]
  },
  {
   "cell_type": "markdown",
   "id": "1c2f7f3a",
   "metadata": {},
   "source": [
    "- Positive Predictive Value "
   ]
  },
  {
   "cell_type": "code",
   "execution_count": 172,
   "id": "ccf83f8c",
   "metadata": {},
   "outputs": [
    {
     "data": {
      "text/plain": [
       "0.7048507462686567"
      ]
     },
     "execution_count": 172,
     "metadata": {},
     "output_type": "execute_result"
    }
   ],
   "source": [
    "tp/float(tp+fp)"
   ]
  },
  {
   "cell_type": "markdown",
   "id": "6b0f2d6a",
   "metadata": {},
   "source": [
    "- Negative Predictive Value "
   ]
  },
  {
   "cell_type": "code",
   "execution_count": 173,
   "id": "83f540d7",
   "metadata": {},
   "outputs": [
    {
     "data": {
      "text/plain": [
       "0.8536519142003801"
      ]
     },
     "execution_count": 173,
     "metadata": {},
     "output_type": "execute_result"
    }
   ],
   "source": [
    "tn/float(tn+fn)"
   ]
  },
  {
   "cell_type": "markdown",
   "id": "73ba1a5b",
   "metadata": {},
   "source": [
    "### Checking Precision and Recall"
   ]
  },
  {
   "cell_type": "code",
   "execution_count": 174,
   "id": "2db67301",
   "metadata": {},
   "outputs": [
    {
     "data": {
      "text/plain": [
       "0.7048507462686567"
      ]
     },
     "execution_count": 174,
     "metadata": {},
     "output_type": "execute_result"
    }
   ],
   "source": [
    "##### Precision\n",
    "tp/float(tp+fp)"
   ]
  },
  {
   "cell_type": "code",
   "execution_count": 175,
   "id": "b6dd5ddd",
   "metadata": {},
   "outputs": [
    {
     "data": {
      "text/plain": [
       "0.7780065897858319"
      ]
     },
     "execution_count": 175,
     "metadata": {},
     "output_type": "execute_result"
    }
   ],
   "source": [
    "##### Recall\n",
    "tp/float(tp+fn)"
   ]
  },
  {
   "cell_type": "markdown",
   "id": "983045dd",
   "metadata": {},
   "source": [
    "#### Using sklearn utilities for the same calculation"
   ]
  },
  {
   "cell_type": "code",
   "execution_count": 176,
   "id": "0a580525",
   "metadata": {},
   "outputs": [
    {
     "data": {
      "text/plain": [
       "0.7048507462686567"
      ]
     },
     "execution_count": 176,
     "metadata": {},
     "output_type": "execute_result"
    }
   ],
   "source": [
    "precision_score(y_train_final_pred.Converted , y_train_final_pred.Final_Pred)"
   ]
  },
  {
   "cell_type": "code",
   "execution_count": 177,
   "id": "78bda603",
   "metadata": {},
   "outputs": [
    {
     "data": {
      "text/plain": [
       "0.7780065897858319"
      ]
     },
     "execution_count": 177,
     "metadata": {},
     "output_type": "execute_result"
    }
   ],
   "source": [
    "recall_score(y_train_final_pred.Converted, y_train_final_pred.Final_Pred)"
   ]
  },
  {
   "cell_type": "markdown",
   "id": "74f761bc",
   "metadata": {},
   "source": [
    "#### Precision and Recall Tradeoff"
   ]
  },
  {
   "cell_type": "code",
   "execution_count": 178,
   "id": "778f2211",
   "metadata": {},
   "outputs": [],
   "source": [
    "p, r, thresholds = precision_recall_curve(y_train_final_pred.Converted, y_train_final_pred.Converted_Probability)"
   ]
  },
  {
   "cell_type": "code",
   "execution_count": 179,
   "id": "70f30e5d",
   "metadata": {},
   "outputs": [
    {
     "data": {
      "image/png": "[encoded data removed]",
      "text/plain": [
       "<Figure size 432x288 with 1 Axes>"
      ]
     },
     "metadata": {
      "needs_background": "light"
     },
     "output_type": "display_data"
    }
   ],
   "source": [
    "plt.plot(thresholds, p[:-1], \"g-\")\n",
    "plt.plot(thresholds, r[:-1], \"r-\")\n",
    "plt.show()"
   ]
  },
  {
   "cell_type": "markdown",
   "id": "5d63c5c6",
   "metadata": {},
   "source": [
    "###  Predictions for the Test Set"
   ]
  },
  {
   "cell_type": "code",
   "execution_count": 180,
   "id": "9076adaf",
   "metadata": {},
   "outputs": [
    {
     "data": {
      "text/html": [
       "<div>\n",
       "<style scoped>\n",
       "    .dataframe tbody tr th:only-of-type {\n",
       "        vertical-align: middle;\n",
       "    }\n",
       "\n",
       "    .dataframe tbody tr th {\n",
       "        vertical-align: top;\n",
       "    }\n",
       "\n",
       "    .dataframe thead th {\n",
       "        text-align: right;\n",
       "    }\n",
       "</style>\n",
       "<table border=\"1\" class=\"dataframe\">\n",
       "  <thead>\n",
       "    <tr style=\"text-align: right;\">\n",
       "      <th></th>\n",
       "      <th>Do Not Email</th>\n",
       "      <th>TotalVisits</th>\n",
       "      <th>Total Time Spent on Website</th>\n",
       "      <th>Page Views Per Visit</th>\n",
       "      <th>A free copy of Mastering The Interview</th>\n",
       "      <th>Lead Origin_Landing Page Submission</th>\n",
       "      <th>Lead Origin_Lead Add Form</th>\n",
       "      <th>Lead Origin_Others</th>\n",
       "      <th>Lead Source_Google</th>\n",
       "      <th>Lead Source_Olark Chat</th>\n",
       "      <th>Lead Source_Organic Search</th>\n",
       "      <th>Lead Source_Others</th>\n",
       "      <th>Lead Source_Reference</th>\n",
       "      <th>Lead Source_Referral Sites</th>\n",
       "      <th>Lead Source_Welingak Website</th>\n",
       "      <th>Specialization_Business Specializations</th>\n",
       "      <th>Specialization_E-COMMERCE</th>\n",
       "      <th>Specialization_Management Specializations</th>\n",
       "      <th>Specialization_Media and Advertising</th>\n",
       "      <th>Specialization_Not Specified</th>\n",
       "      <th>Specialization_Services Excellence</th>\n",
       "      <th>Specialization_Travel and Tourism</th>\n",
       "      <th>What is your current occupation_Other</th>\n",
       "      <th>What is your current occupation_Student</th>\n",
       "      <th>What is your current occupation_Unemployed</th>\n",
       "      <th>What is your current occupation_Working Professional</th>\n",
       "    </tr>\n",
       "  </thead>\n",
       "  <tbody>\n",
       "    <tr>\n",
       "      <th>6906</th>\n",
       "      <td>0</td>\n",
       "      <td>0.294642</td>\n",
       "      <td>1.919395</td>\n",
       "      <td>-0.133122</td>\n",
       "      <td>0</td>\n",
       "      <td>1</td>\n",
       "      <td>0</td>\n",
       "      <td>0</td>\n",
       "      <td>0</td>\n",
       "      <td>0</td>\n",
       "      <td>0</td>\n",
       "      <td>0</td>\n",
       "      <td>0</td>\n",
       "      <td>0</td>\n",
       "      <td>0</td>\n",
       "      <td>0</td>\n",
       "      <td>0</td>\n",
       "      <td>1</td>\n",
       "      <td>0</td>\n",
       "      <td>0</td>\n",
       "      <td>0</td>\n",
       "      <td>0</td>\n",
       "      <td>0</td>\n",
       "      <td>0</td>\n",
       "      <td>1</td>\n",
       "      <td>0</td>\n",
       "    </tr>\n",
       "    <tr>\n",
       "      <th>1873</th>\n",
       "      <td>0</td>\n",
       "      <td>-0.400118</td>\n",
       "      <td>-0.546142</td>\n",
       "      <td>-0.133122</td>\n",
       "      <td>0</td>\n",
       "      <td>1</td>\n",
       "      <td>0</td>\n",
       "      <td>0</td>\n",
       "      <td>1</td>\n",
       "      <td>0</td>\n",
       "      <td>0</td>\n",
       "      <td>0</td>\n",
       "      <td>0</td>\n",
       "      <td>0</td>\n",
       "      <td>0</td>\n",
       "      <td>0</td>\n",
       "      <td>0</td>\n",
       "      <td>0</td>\n",
       "      <td>0</td>\n",
       "      <td>1</td>\n",
       "      <td>0</td>\n",
       "      <td>0</td>\n",
       "      <td>0</td>\n",
       "      <td>0</td>\n",
       "      <td>1</td>\n",
       "      <td>0</td>\n",
       "    </tr>\n",
       "    <tr>\n",
       "      <th>771</th>\n",
       "      <td>0</td>\n",
       "      <td>1.336782</td>\n",
       "      <td>-0.797465</td>\n",
       "      <td>2.550862</td>\n",
       "      <td>0</td>\n",
       "      <td>0</td>\n",
       "      <td>0</td>\n",
       "      <td>0</td>\n",
       "      <td>1</td>\n",
       "      <td>0</td>\n",
       "      <td>0</td>\n",
       "      <td>0</td>\n",
       "      <td>0</td>\n",
       "      <td>0</td>\n",
       "      <td>0</td>\n",
       "      <td>0</td>\n",
       "      <td>0</td>\n",
       "      <td>0</td>\n",
       "      <td>0</td>\n",
       "      <td>1</td>\n",
       "      <td>0</td>\n",
       "      <td>0</td>\n",
       "      <td>0</td>\n",
       "      <td>0</td>\n",
       "      <td>1</td>\n",
       "      <td>0</td>\n",
       "    </tr>\n",
       "    <tr>\n",
       "      <th>4495</th>\n",
       "      <td>0</td>\n",
       "      <td>0.294642</td>\n",
       "      <td>-0.623190</td>\n",
       "      <td>0.940472</td>\n",
       "      <td>1</td>\n",
       "      <td>1</td>\n",
       "      <td>0</td>\n",
       "      <td>0</td>\n",
       "      <td>1</td>\n",
       "      <td>0</td>\n",
       "      <td>0</td>\n",
       "      <td>0</td>\n",
       "      <td>0</td>\n",
       "      <td>0</td>\n",
       "      <td>0</td>\n",
       "      <td>0</td>\n",
       "      <td>0</td>\n",
       "      <td>1</td>\n",
       "      <td>0</td>\n",
       "      <td>0</td>\n",
       "      <td>0</td>\n",
       "      <td>0</td>\n",
       "      <td>0</td>\n",
       "      <td>0</td>\n",
       "      <td>1</td>\n",
       "      <td>0</td>\n",
       "    </tr>\n",
       "    <tr>\n",
       "      <th>9061</th>\n",
       "      <td>0</td>\n",
       "      <td>-0.400118</td>\n",
       "      <td>2.392690</td>\n",
       "      <td>-0.133122</td>\n",
       "      <td>1</td>\n",
       "      <td>1</td>\n",
       "      <td>0</td>\n",
       "      <td>0</td>\n",
       "      <td>0</td>\n",
       "      <td>0</td>\n",
       "      <td>0</td>\n",
       "      <td>0</td>\n",
       "      <td>0</td>\n",
       "      <td>0</td>\n",
       "      <td>0</td>\n",
       "      <td>0</td>\n",
       "      <td>0</td>\n",
       "      <td>1</td>\n",
       "      <td>0</td>\n",
       "      <td>0</td>\n",
       "      <td>0</td>\n",
       "      <td>0</td>\n",
       "      <td>0</td>\n",
       "      <td>0</td>\n",
       "      <td>0</td>\n",
       "      <td>0</td>\n",
       "    </tr>\n",
       "  </tbody>\n",
       "</table>\n",
       "</div>"
      ],
      "text/plain": [
       "      Do Not Email  TotalVisits  Total Time Spent on Website  \\\n",
       "6906             0     0.294642                     1.919395   \n",
       "1873             0    -0.400118                    -0.546142   \n",
       "771              0     1.336782                    -0.797465   \n",
       "4495             0     0.294642                    -0.623190   \n",
       "9061             0    -0.400118                     2.392690   \n",
       "\n",
       "      Page Views Per Visit  A free copy of Mastering The Interview  \\\n",
       "6906             -0.133122                                       0   \n",
       "1873             -0.133122                                       0   \n",
       "771               2.550862                                       0   \n",
       "4495              0.940472                                       1   \n",
       "9061             -0.133122                                       1   \n",
       "\n",
       "      Lead Origin_Landing Page Submission  Lead Origin_Lead Add Form  \\\n",
       "6906                                    1                          0   \n",
       "1873                                    1                          0   \n",
       "771                                     0                          0   \n",
       "4495                                    1                          0   \n",
       "9061                                    1                          0   \n",
       "\n",
       "      Lead Origin_Others  Lead Source_Google  Lead Source_Olark Chat  \\\n",
       "6906                   0                   0                       0   \n",
       "1873                   0                   1                       0   \n",
       "771                    0                   1                       0   \n",
       "4495                   0                   1                       0   \n",
       "9061                   0                   0                       0   \n",
       "\n",
       "      Lead Source_Organic Search  Lead Source_Others  Lead Source_Reference  \\\n",
       "6906                           0                   0                      0   \n",
       "1873                           0                   0                      0   \n",
       "771                            0                   0                      0   \n",
       "4495                           0                   0                      0   \n",
       "9061                           0                   0                      0   \n",
       "\n",
       "      Lead Source_Referral Sites  Lead Source_Welingak Website  \\\n",
       "6906                           0                             0   \n",
       "1873                           0                             0   \n",
       "771                            0                             0   \n",
       "4495                           0                             0   \n",
       "9061                           0                             0   \n",
       "\n",
       "      Specialization_Business Specializations  Specialization_E-COMMERCE  \\\n",
       "6906                                        0                          0   \n",
       "1873                                        0                          0   \n",
       "771                                         0                          0   \n",
       "4495                                        0                          0   \n",
       "9061                                        0                          0   \n",
       "\n",
       "      Specialization_Management Specializations  \\\n",
       "6906                                          1   \n",
       "1873                                          0   \n",
       "771                                           0   \n",
       "4495                                          1   \n",
       "9061                                          1   \n",
       "\n",
       "      Specialization_Media and Advertising  Specialization_Not Specified  \\\n",
       "6906                                     0                             0   \n",
       "1873                                     0                             1   \n",
       "771                                      0                             1   \n",
       "4495                                     0                             0   \n",
       "9061                                     0                             0   \n",
       "\n",
       "      Specialization_Services Excellence  Specialization_Travel and Tourism  \\\n",
       "6906                                   0                                  0   \n",
       "1873                                   0                                  0   \n",
       "771                                    0                                  0   \n",
       "4495                                   0                                  0   \n",
       "9061                                   0                                  0   \n",
       "\n",
       "      What is your current occupation_Other  \\\n",
       "6906                                      0   \n",
       "1873                                      0   \n",
       "771                                       0   \n",
       "4495                                      0   \n",
       "9061                                      0   \n",
       "\n",
       "      What is your current occupation_Student  \\\n",
       "6906                                        0   \n",
       "1873                                        0   \n",
       "771                                         0   \n",
       "4495                                        0   \n",
       "9061                                        0   \n",
       "\n",
       "      What is your current occupation_Unemployed  \\\n",
       "6906                                           1   \n",
       "1873                                           1   \n",
       "771                                            1   \n",
       "4495                                           1   \n",
       "9061                                           0   \n",
       "\n",
       "      What is your current occupation_Working Professional  \n",
       "6906                                                     0  \n",
       "1873                                                     0  \n",
       "771                                                      0  \n",
       "4495                                                     0  \n",
       "9061                                                     0  "
      ]
     },
     "execution_count": 180,
     "metadata": {},
     "output_type": "execute_result"
    }
   ],
   "source": [
    "X_test[['TotalVisits','Total Time Spent on Website','Page Views Per Visit']] = scaler.transform(X_test[['TotalVisits','Total Time Spent on Website','Page Views Per Visit']])\n",
    "\n",
    "X_test.head()"
   ]
  },
  {
   "cell_type": "code",
   "execution_count": 181,
   "id": "10d8eb9b",
   "metadata": {},
   "outputs": [
    {
     "data": {
      "text/html": [
       "<div>\n",
       "<style scoped>\n",
       "    .dataframe tbody tr th:only-of-type {\n",
       "        vertical-align: middle;\n",
       "    }\n",
       "\n",
       "    .dataframe tbody tr th {\n",
       "        vertical-align: top;\n",
       "    }\n",
       "\n",
       "    .dataframe thead th {\n",
       "        text-align: right;\n",
       "    }\n",
       "</style>\n",
       "<table border=\"1\" class=\"dataframe\">\n",
       "  <thead>\n",
       "    <tr style=\"text-align: right;\">\n",
       "      <th></th>\n",
       "      <th>Do Not Email</th>\n",
       "      <th>Total Time Spent on Website</th>\n",
       "      <th>Lead Origin_Landing Page Submission</th>\n",
       "      <th>Lead Origin_Lead Add Form</th>\n",
       "      <th>Lead Source_Google</th>\n",
       "      <th>Lead Source_Olark Chat</th>\n",
       "      <th>Lead Source_Welingak Website</th>\n",
       "      <th>Specialization_Not Specified</th>\n",
       "      <th>What is your current occupation_Other</th>\n",
       "      <th>What is your current occupation_Student</th>\n",
       "      <th>What is your current occupation_Unemployed</th>\n",
       "      <th>What is your current occupation_Working Professional</th>\n",
       "    </tr>\n",
       "  </thead>\n",
       "  <tbody>\n",
       "    <tr>\n",
       "      <th>6906</th>\n",
       "      <td>0</td>\n",
       "      <td>1.919395</td>\n",
       "      <td>1</td>\n",
       "      <td>0</td>\n",
       "      <td>0</td>\n",
       "      <td>0</td>\n",
       "      <td>0</td>\n",
       "      <td>0</td>\n",
       "      <td>0</td>\n",
       "      <td>0</td>\n",
       "      <td>1</td>\n",
       "      <td>0</td>\n",
       "    </tr>\n",
       "    <tr>\n",
       "      <th>1873</th>\n",
       "      <td>0</td>\n",
       "      <td>-0.546142</td>\n",
       "      <td>1</td>\n",
       "      <td>0</td>\n",
       "      <td>1</td>\n",
       "      <td>0</td>\n",
       "      <td>0</td>\n",
       "      <td>1</td>\n",
       "      <td>0</td>\n",
       "      <td>0</td>\n",
       "      <td>1</td>\n",
       "      <td>0</td>\n",
       "    </tr>\n",
       "    <tr>\n",
       "      <th>771</th>\n",
       "      <td>0</td>\n",
       "      <td>-0.797465</td>\n",
       "      <td>0</td>\n",
       "      <td>0</td>\n",
       "      <td>1</td>\n",
       "      <td>0</td>\n",
       "      <td>0</td>\n",
       "      <td>1</td>\n",
       "      <td>0</td>\n",
       "      <td>0</td>\n",
       "      <td>1</td>\n",
       "      <td>0</td>\n",
       "    </tr>\n",
       "    <tr>\n",
       "      <th>4495</th>\n",
       "      <td>0</td>\n",
       "      <td>-0.623190</td>\n",
       "      <td>1</td>\n",
       "      <td>0</td>\n",
       "      <td>1</td>\n",
       "      <td>0</td>\n",
       "      <td>0</td>\n",
       "      <td>0</td>\n",
       "      <td>0</td>\n",
       "      <td>0</td>\n",
       "      <td>1</td>\n",
       "      <td>0</td>\n",
       "    </tr>\n",
       "    <tr>\n",
       "      <th>9061</th>\n",
       "      <td>0</td>\n",
       "      <td>2.392690</td>\n",
       "      <td>1</td>\n",
       "      <td>0</td>\n",
       "      <td>0</td>\n",
       "      <td>0</td>\n",
       "      <td>0</td>\n",
       "      <td>0</td>\n",
       "      <td>0</td>\n",
       "      <td>0</td>\n",
       "      <td>0</td>\n",
       "      <td>0</td>\n",
       "    </tr>\n",
       "  </tbody>\n",
       "</table>\n",
       "</div>"
      ],
      "text/plain": [
       "      Do Not Email  Total Time Spent on Website  \\\n",
       "6906             0                     1.919395   \n",
       "1873             0                    -0.546142   \n",
       "771              0                    -0.797465   \n",
       "4495             0                    -0.623190   \n",
       "9061             0                     2.392690   \n",
       "\n",
       "      Lead Origin_Landing Page Submission  Lead Origin_Lead Add Form  \\\n",
       "6906                                    1                          0   \n",
       "1873                                    1                          0   \n",
       "771                                     0                          0   \n",
       "4495                                    1                          0   \n",
       "9061                                    1                          0   \n",
       "\n",
       "      Lead Source_Google  Lead Source_Olark Chat  \\\n",
       "6906                   0                       0   \n",
       "1873                   1                       0   \n",
       "771                    1                       0   \n",
       "4495                   1                       0   \n",
       "9061                   0                       0   \n",
       "\n",
       "      Lead Source_Welingak Website  Specialization_Not Specified  \\\n",
       "6906                             0                             0   \n",
       "1873                             0                             1   \n",
       "771                              0                             1   \n",
       "4495                             0                             0   \n",
       "9061                             0                             0   \n",
       "\n",
       "      What is your current occupation_Other  \\\n",
       "6906                                      0   \n",
       "1873                                      0   \n",
       "771                                       0   \n",
       "4495                                      0   \n",
       "9061                                      0   \n",
       "\n",
       "      What is your current occupation_Student  \\\n",
       "6906                                        0   \n",
       "1873                                        0   \n",
       "771                                         0   \n",
       "4495                                        0   \n",
       "9061                                        0   \n",
       "\n",
       "      What is your current occupation_Unemployed  \\\n",
       "6906                                           1   \n",
       "1873                                           1   \n",
       "771                                            1   \n",
       "4495                                           1   \n",
       "9061                                           0   \n",
       "\n",
       "      What is your current occupation_Working Professional  \n",
       "6906                                                     0  \n",
       "1873                                                     0  \n",
       "771                                                      0  \n",
       "4495                                                     0  \n",
       "9061                                                     0  "
      ]
     },
     "execution_count": 181,
     "metadata": {},
     "output_type": "execute_result"
    }
   ],
   "source": [
    "#Selecting final list of columns only \n",
    "\n",
    "X_test = X_test[col]\n",
    "X_test.head()"
   ]
  },
  {
   "cell_type": "code",
   "execution_count": 182,
   "id": "2eaa7e8b",
   "metadata": {},
   "outputs": [],
   "source": [
    "# predicting values on the test dataset\n",
    "X_test_sm=sm.add_constant(X_test)\n",
    "y_test_pred=log_m3.predict(X_test_sm)"
   ]
  },
  {
   "cell_type": "code",
   "execution_count": 183,
   "id": "1a1a7a44",
   "metadata": {},
   "outputs": [
    {
     "data": {
      "text/plain": [
       "6906    0.766787\n",
       "1873    0.130077\n",
       "771     0.165343\n",
       "4495    0.232898\n",
       "9061    0.599086\n",
       "dtype: float64"
      ]
     },
     "execution_count": 183,
     "metadata": {},
     "output_type": "execute_result"
    }
   ],
   "source": [
    "y_test_pred.head()"
   ]
  },
  {
   "cell_type": "code",
   "execution_count": 184,
   "id": "f3cbd322",
   "metadata": {},
   "outputs": [
    {
     "data": {
      "text/html": [
       "<div>\n",
       "<style scoped>\n",
       "    .dataframe tbody tr th:only-of-type {\n",
       "        vertical-align: middle;\n",
       "    }\n",
       "\n",
       "    .dataframe tbody tr th {\n",
       "        vertical-align: top;\n",
       "    }\n",
       "\n",
       "    .dataframe thead th {\n",
       "        text-align: right;\n",
       "    }\n",
       "</style>\n",
       "<table border=\"1\" class=\"dataframe\">\n",
       "  <thead>\n",
       "    <tr style=\"text-align: right;\">\n",
       "      <th></th>\n",
       "      <th>0</th>\n",
       "    </tr>\n",
       "  </thead>\n",
       "  <tbody>\n",
       "    <tr>\n",
       "      <th>6906</th>\n",
       "      <td>0.766787</td>\n",
       "    </tr>\n",
       "    <tr>\n",
       "      <th>1873</th>\n",
       "      <td>0.130077</td>\n",
       "    </tr>\n",
       "    <tr>\n",
       "      <th>771</th>\n",
       "      <td>0.165343</td>\n",
       "    </tr>\n",
       "    <tr>\n",
       "      <th>4495</th>\n",
       "      <td>0.232898</td>\n",
       "    </tr>\n",
       "    <tr>\n",
       "      <th>9061</th>\n",
       "      <td>0.599086</td>\n",
       "    </tr>\n",
       "  </tbody>\n",
       "</table>\n",
       "</div>"
      ],
      "text/plain": [
       "             0\n",
       "6906  0.766787\n",
       "1873  0.130077\n",
       "771   0.165343\n",
       "4495  0.232898\n",
       "9061  0.599086"
      ]
     },
     "execution_count": 184,
     "metadata": {},
     "output_type": "execute_result"
    }
   ],
   "source": [
    "# Creating data frame using y_test_pred\n",
    "\n",
    "test_pred=pd.DataFrame(y_test_pred)\n",
    "test_pred.head()"
   ]
  },
  {
   "cell_type": "code",
   "execution_count": 185,
   "id": "aa2973f8",
   "metadata": {},
   "outputs": [
    {
     "data": {
      "text/html": [
       "<div>\n",
       "<style scoped>\n",
       "    .dataframe tbody tr th:only-of-type {\n",
       "        vertical-align: middle;\n",
       "    }\n",
       "\n",
       "    .dataframe tbody tr th {\n",
       "        vertical-align: top;\n",
       "    }\n",
       "\n",
       "    .dataframe thead th {\n",
       "        text-align: right;\n",
       "    }\n",
       "</style>\n",
       "<table border=\"1\" class=\"dataframe\">\n",
       "  <thead>\n",
       "    <tr style=\"text-align: right;\">\n",
       "      <th></th>\n",
       "      <th>Converted</th>\n",
       "    </tr>\n",
       "  </thead>\n",
       "  <tbody>\n",
       "    <tr>\n",
       "      <th>6906</th>\n",
       "      <td>1</td>\n",
       "    </tr>\n",
       "    <tr>\n",
       "      <th>1873</th>\n",
       "      <td>0</td>\n",
       "    </tr>\n",
       "    <tr>\n",
       "      <th>771</th>\n",
       "      <td>0</td>\n",
       "    </tr>\n",
       "    <tr>\n",
       "      <th>4495</th>\n",
       "      <td>0</td>\n",
       "    </tr>\n",
       "    <tr>\n",
       "      <th>9061</th>\n",
       "      <td>1</td>\n",
       "    </tr>\n",
       "  </tbody>\n",
       "</table>\n",
       "</div>"
      ],
      "text/plain": [
       "      Converted\n",
       "6906          1\n",
       "1873          0\n",
       "771           0\n",
       "4495          0\n",
       "9061          1"
      ]
     },
     "execution_count": 185,
     "metadata": {},
     "output_type": "execute_result"
    }
   ],
   "source": [
    "# Creating data frame using y_test\n",
    "\n",
    "test = pd.DataFrame(y_test)\n",
    "test.head()"
   ]
  },
  {
   "cell_type": "code",
   "execution_count": 186,
   "id": "8f7f7160",
   "metadata": {},
   "outputs": [],
   "source": [
    "# Adding index\n",
    "test['Prospect ID'] = test.index"
   ]
  },
  {
   "cell_type": "code",
   "execution_count": 187,
   "id": "a83d6e4a",
   "metadata": {},
   "outputs": [],
   "source": [
    "## Removing index for both dataframes to append them side by side \n",
    "\n",
    "test_pred.reset_index(drop=True, inplace=True)\n",
    "test.reset_index(drop=True, inplace=True)"
   ]
  },
  {
   "cell_type": "code",
   "execution_count": 188,
   "id": "253b609a",
   "metadata": {},
   "outputs": [
    {
     "data": {
      "text/html": [
       "<div>\n",
       "<style scoped>\n",
       "    .dataframe tbody tr th:only-of-type {\n",
       "        vertical-align: middle;\n",
       "    }\n",
       "\n",
       "    .dataframe tbody tr th {\n",
       "        vertical-align: top;\n",
       "    }\n",
       "\n",
       "    .dataframe thead th {\n",
       "        text-align: right;\n",
       "    }\n",
       "</style>\n",
       "<table border=\"1\" class=\"dataframe\">\n",
       "  <thead>\n",
       "    <tr style=\"text-align: right;\">\n",
       "      <th></th>\n",
       "      <th>Converted</th>\n",
       "      <th>Prospect ID</th>\n",
       "      <th>0</th>\n",
       "    </tr>\n",
       "  </thead>\n",
       "  <tbody>\n",
       "    <tr>\n",
       "      <th>0</th>\n",
       "      <td>1</td>\n",
       "      <td>6906</td>\n",
       "      <td>0.766787</td>\n",
       "    </tr>\n",
       "    <tr>\n",
       "      <th>1</th>\n",
       "      <td>0</td>\n",
       "      <td>1873</td>\n",
       "      <td>0.130077</td>\n",
       "    </tr>\n",
       "    <tr>\n",
       "      <th>2</th>\n",
       "      <td>0</td>\n",
       "      <td>771</td>\n",
       "      <td>0.165343</td>\n",
       "    </tr>\n",
       "    <tr>\n",
       "      <th>3</th>\n",
       "      <td>0</td>\n",
       "      <td>4495</td>\n",
       "      <td>0.232898</td>\n",
       "    </tr>\n",
       "    <tr>\n",
       "      <th>4</th>\n",
       "      <td>1</td>\n",
       "      <td>9061</td>\n",
       "      <td>0.599086</td>\n",
       "    </tr>\n",
       "  </tbody>\n",
       "</table>\n",
       "</div>"
      ],
      "text/plain": [
       "   Converted  Prospect ID         0\n",
       "0          1         6906  0.766787\n",
       "1          0         1873  0.130077\n",
       "2          0          771  0.165343\n",
       "3          0         4495  0.232898\n",
       "4          1         9061  0.599086"
      ]
     },
     "execution_count": 188,
     "metadata": {},
     "output_type": "execute_result"
    }
   ],
   "source": [
    "# Appending test_pred and test\n",
    "y_pred_final = pd.concat([test, test_pred],axis=1)\n",
    "y_pred_final.head()"
   ]
  },
  {
   "cell_type": "code",
   "execution_count": 189,
   "id": "cd05f5b0",
   "metadata": {},
   "outputs": [],
   "source": [
    "# Renaming the column \n",
    "y_pred_final= y_pred_final.rename(columns={ 0 : 'Converted_Probability'})"
   ]
  },
  {
   "cell_type": "code",
   "execution_count": 190,
   "id": "3f262bf8",
   "metadata": {},
   "outputs": [
    {
     "data": {
      "text/html": [
       "<div>\n",
       "<style scoped>\n",
       "    .dataframe tbody tr th:only-of-type {\n",
       "        vertical-align: middle;\n",
       "    }\n",
       "\n",
       "    .dataframe tbody tr th {\n",
       "        vertical-align: top;\n",
       "    }\n",
       "\n",
       "    .dataframe thead th {\n",
       "        text-align: right;\n",
       "    }\n",
       "</style>\n",
       "<table border=\"1\" class=\"dataframe\">\n",
       "  <thead>\n",
       "    <tr style=\"text-align: right;\">\n",
       "      <th></th>\n",
       "      <th>Converted</th>\n",
       "      <th>Prospect ID</th>\n",
       "      <th>Converted_Probability</th>\n",
       "    </tr>\n",
       "  </thead>\n",
       "  <tbody>\n",
       "    <tr>\n",
       "      <th>0</th>\n",
       "      <td>1</td>\n",
       "      <td>6906</td>\n",
       "      <td>0.766787</td>\n",
       "    </tr>\n",
       "    <tr>\n",
       "      <th>1</th>\n",
       "      <td>0</td>\n",
       "      <td>1873</td>\n",
       "      <td>0.130077</td>\n",
       "    </tr>\n",
       "    <tr>\n",
       "      <th>2</th>\n",
       "      <td>0</td>\n",
       "      <td>771</td>\n",
       "      <td>0.165343</td>\n",
       "    </tr>\n",
       "    <tr>\n",
       "      <th>3</th>\n",
       "      <td>0</td>\n",
       "      <td>4495</td>\n",
       "      <td>0.232898</td>\n",
       "    </tr>\n",
       "    <tr>\n",
       "      <th>4</th>\n",
       "      <td>1</td>\n",
       "      <td>9061</td>\n",
       "      <td>0.599086</td>\n",
       "    </tr>\n",
       "  </tbody>\n",
       "</table>\n",
       "</div>"
      ],
      "text/plain": [
       "   Converted  Prospect ID  Converted_Probability\n",
       "0          1         6906               0.766787\n",
       "1          0         1873               0.130077\n",
       "2          0          771               0.165343\n",
       "3          0         4495               0.232898\n",
       "4          1         9061               0.599086"
      ]
     },
     "execution_count": 190,
     "metadata": {},
     "output_type": "execute_result"
    }
   ],
   "source": [
    "y_pred_final.head()"
   ]
  },
  {
   "cell_type": "code",
   "execution_count": 191,
   "id": "4ccc6cb6",
   "metadata": {},
   "outputs": [
    {
     "data": {
      "text/html": [
       "<div>\n",
       "<style scoped>\n",
       "    .dataframe tbody tr th:only-of-type {\n",
       "        vertical-align: middle;\n",
       "    }\n",
       "\n",
       "    .dataframe tbody tr th {\n",
       "        vertical-align: top;\n",
       "    }\n",
       "\n",
       "    .dataframe thead th {\n",
       "        text-align: right;\n",
       "    }\n",
       "</style>\n",
       "<table border=\"1\" class=\"dataframe\">\n",
       "  <thead>\n",
       "    <tr style=\"text-align: right;\">\n",
       "      <th></th>\n",
       "      <th>Converted</th>\n",
       "      <th>Prospect ID</th>\n",
       "      <th>Converted_Probability</th>\n",
       "      <th>Final_Pred</th>\n",
       "    </tr>\n",
       "  </thead>\n",
       "  <tbody>\n",
       "    <tr>\n",
       "      <th>0</th>\n",
       "      <td>1</td>\n",
       "      <td>6906</td>\n",
       "      <td>0.766787</td>\n",
       "      <td>1</td>\n",
       "    </tr>\n",
       "    <tr>\n",
       "      <th>1</th>\n",
       "      <td>0</td>\n",
       "      <td>1873</td>\n",
       "      <td>0.130077</td>\n",
       "      <td>0</td>\n",
       "    </tr>\n",
       "    <tr>\n",
       "      <th>2</th>\n",
       "      <td>0</td>\n",
       "      <td>771</td>\n",
       "      <td>0.165343</td>\n",
       "      <td>0</td>\n",
       "    </tr>\n",
       "    <tr>\n",
       "      <th>3</th>\n",
       "      <td>0</td>\n",
       "      <td>4495</td>\n",
       "      <td>0.232898</td>\n",
       "      <td>0</td>\n",
       "    </tr>\n",
       "    <tr>\n",
       "      <th>4</th>\n",
       "      <td>1</td>\n",
       "      <td>9061</td>\n",
       "      <td>0.599086</td>\n",
       "      <td>1</td>\n",
       "    </tr>\n",
       "  </tbody>\n",
       "</table>\n",
       "</div>"
      ],
      "text/plain": [
       "   Converted  Prospect ID  Converted_Probability  Final_Pred\n",
       "0          1         6906               0.766787           1\n",
       "1          0         1873               0.130077           0\n",
       "2          0          771               0.165343           0\n",
       "3          0         4495               0.232898           0\n",
       "4          1         9061               0.599086           1"
      ]
     },
     "execution_count": 191,
     "metadata": {},
     "output_type": "execute_result"
    }
   ],
   "source": [
    "# applying cut off\n",
    "y_pred_final['Final_Pred']=y_pred_final.Converted_Probability.map(lambda x: 1 if x > 0.3 else 0)\n",
    "y_pred_final.head()"
   ]
  },
  {
   "cell_type": "code",
   "execution_count": 192,
   "id": "7c7dc1b4",
   "metadata": {},
   "outputs": [
    {
     "data": {
      "text/plain": [
       "0.7858452511917858"
      ]
     },
     "execution_count": 192,
     "metadata": {},
     "output_type": "execute_result"
    }
   ],
   "source": [
    "# Lets check accuracy score\n",
    "\n",
    "metrics.accuracy_score(y_pred_final['Converted'],y_pred_final['Final_Pred'])"
   ]
  },
  {
   "cell_type": "code",
   "execution_count": 193,
   "id": "f7bac7d8",
   "metadata": {},
   "outputs": [
    {
     "data": {
      "text/plain": [
       "array([[1327,  333],\n",
       "       [ 251,  816]], dtype=int64)"
      ]
     },
     "execution_count": 193,
     "metadata": {},
     "output_type": "execute_result"
    }
   ],
   "source": [
    "# Lets look at the confusion matrix \n",
    "res=metrics.confusion_matrix(y_pred_final['Converted'],y_pred_final['Final_Pred'])\n",
    "res"
   ]
  },
  {
   "cell_type": "code",
   "execution_count": 194,
   "id": "2980d781",
   "metadata": {},
   "outputs": [],
   "source": [
    "# Lets check sensitivity and specificity\n",
    "\n",
    "# true positive\n",
    "tp=res[1,1]\n",
    "\n",
    "#true negative\n",
    "tn=res[0,0]\n",
    "\n",
    "#false positive\n",
    "fp=res[0,1]\n",
    "\n",
    "#false negative\n",
    "fn=res[1,0]"
   ]
  },
  {
   "cell_type": "markdown",
   "id": "732eca5a",
   "metadata": {},
   "source": [
    "- Sensitivity"
   ]
  },
  {
   "cell_type": "code",
   "execution_count": 195,
   "id": "da89e73b",
   "metadata": {},
   "outputs": [
    {
     "data": {
      "text/plain": [
       "0.7647610121836926"
      ]
     },
     "execution_count": 195,
     "metadata": {},
     "output_type": "execute_result"
    }
   ],
   "source": [
    "tp/float(tp+fn)"
   ]
  },
  {
   "cell_type": "markdown",
   "id": "62b38096",
   "metadata": {},
   "source": [
    "- Specificity"
   ]
  },
  {
   "cell_type": "code",
   "execution_count": 196,
   "id": "2c51062a",
   "metadata": {},
   "outputs": [
    {
     "data": {
      "text/plain": [
       "0.7993975903614458"
      ]
     },
     "execution_count": 196,
     "metadata": {},
     "output_type": "execute_result"
    }
   ],
   "source": [
    "tn/float(tn+fp)"
   ]
  },
  {
   "cell_type": "markdown",
   "id": "dba7bb3e",
   "metadata": {},
   "source": [
    "- Positive Predictive Value"
   ]
  },
  {
   "cell_type": "code",
   "execution_count": 197,
   "id": "977ab49c",
   "metadata": {},
   "outputs": [
    {
     "data": {
      "text/plain": [
       "0.7101827676240209"
      ]
     },
     "execution_count": 197,
     "metadata": {},
     "output_type": "execute_result"
    }
   ],
   "source": [
    "tp/float(tp+fp)"
   ]
  },
  {
   "cell_type": "markdown",
   "id": "4cc1dc75",
   "metadata": {},
   "source": [
    "- Negative Predictive Value"
   ]
  },
  {
   "cell_type": "code",
   "execution_count": 198,
   "id": "27bfbf41",
   "metadata": {},
   "outputs": [
    {
     "data": {
      "text/plain": [
       "0.8409378960709759"
      ]
     },
     "execution_count": 198,
     "metadata": {},
     "output_type": "execute_result"
    }
   ],
   "source": [
    "tn/float(tn+fn)"
   ]
  },
  {
   "cell_type": "markdown",
   "id": "fcce4f34",
   "metadata": {},
   "source": [
    "### Conclusions:"
   ]
  },
  {
   "cell_type": "markdown",
   "id": "cbdf0321",
   "metadata": {},
   "source": [
    "- Top 3 variables which are contributing the most to the model\n",
    " - What is your current occupation_Working Professional\n",
    "    - This indicates that working professionals are more prone to be converting leads.\n",
    " - Lead Origin_Lead Add Form\n",
    "    - This indicates that Leads originated form add form , are more likely to get converted.\n",
    " - Lead Source_Welingak Website\n",
    "    - This indicated that from Welingak website are getting good number of convertable leads."
   ]
  },
  {
   "cell_type": "markdown",
   "id": "b6dcdb42",
   "metadata": {},
   "source": [
    "### Assigning lead score "
   ]
  },
  {
   "cell_type": "code",
   "execution_count": 199,
   "id": "611780ec",
   "metadata": {},
   "outputs": [
    {
     "data": {
      "text/plain": [
       "(9090, 4)"
      ]
     },
     "execution_count": 199,
     "metadata": {},
     "output_type": "execute_result"
    }
   ],
   "source": [
    "# Merging train and test prediction\n",
    "\n",
    "all_pred = pd.concat([y_train_final_pred[[\"Prospect ID\",\"Converted_Probability\",\"Converted\",\"Final_Pred\"]],y_pred_final[[\"Prospect ID\",\"Converted_Probability\",\"Converted\",\"Final_Pred\"]]])\n",
    "all_pred.shape"
   ]
  },
  {
   "cell_type": "code",
   "execution_count": 200,
   "id": "c46961dc",
   "metadata": {},
   "outputs": [
    {
     "data": {
      "text/plain": [
       "(9090, 4)"
      ]
     },
     "execution_count": 200,
     "metadata": {},
     "output_type": "execute_result"
    }
   ],
   "source": [
    "all_pred.shape"
   ]
  },
  {
   "cell_type": "code",
   "execution_count": 201,
   "id": "8dbd234a",
   "metadata": {},
   "outputs": [
    {
     "data": {
      "text/html": [
       "<div>\n",
       "<style scoped>\n",
       "    .dataframe tbody tr th:only-of-type {\n",
       "        vertical-align: middle;\n",
       "    }\n",
       "\n",
       "    .dataframe tbody tr th {\n",
       "        vertical-align: top;\n",
       "    }\n",
       "\n",
       "    .dataframe thead th {\n",
       "        text-align: right;\n",
       "    }\n",
       "</style>\n",
       "<table border=\"1\" class=\"dataframe\">\n",
       "  <thead>\n",
       "    <tr style=\"text-align: right;\">\n",
       "      <th></th>\n",
       "      <th>Prospect ID</th>\n",
       "      <th>Converted_Probability</th>\n",
       "      <th>Converted</th>\n",
       "      <th>Final_Pred</th>\n",
       "    </tr>\n",
       "  </thead>\n",
       "  <tbody>\n",
       "    <tr>\n",
       "      <th>0</th>\n",
       "      <td>302</td>\n",
       "      <td>0.054930</td>\n",
       "      <td>0</td>\n",
       "      <td>0</td>\n",
       "    </tr>\n",
       "    <tr>\n",
       "      <th>1</th>\n",
       "      <td>6087</td>\n",
       "      <td>0.031511</td>\n",
       "      <td>0</td>\n",
       "      <td>0</td>\n",
       "    </tr>\n",
       "    <tr>\n",
       "      <th>2</th>\n",
       "      <td>1033</td>\n",
       "      <td>0.310820</td>\n",
       "      <td>0</td>\n",
       "      <td>1</td>\n",
       "    </tr>\n",
       "    <tr>\n",
       "      <th>3</th>\n",
       "      <td>7656</td>\n",
       "      <td>0.087567</td>\n",
       "      <td>0</td>\n",
       "      <td>0</td>\n",
       "    </tr>\n",
       "    <tr>\n",
       "      <th>4</th>\n",
       "      <td>3241</td>\n",
       "      <td>0.525422</td>\n",
       "      <td>1</td>\n",
       "      <td>1</td>\n",
       "    </tr>\n",
       "  </tbody>\n",
       "</table>\n",
       "</div>"
      ],
      "text/plain": [
       "   Prospect ID  Converted_Probability  Converted  Final_Pred\n",
       "0          302               0.054930          0           0\n",
       "1         6087               0.031511          0           0\n",
       "2         1033               0.310820          0           1\n",
       "3         7656               0.087567          0           0\n",
       "4         3241               0.525422          1           1"
      ]
     },
     "execution_count": 201,
     "metadata": {},
     "output_type": "execute_result"
    }
   ],
   "source": [
    "all_pred.head()"
   ]
  },
  {
   "cell_type": "code",
   "execution_count": 202,
   "id": "a53acfbe",
   "metadata": {},
   "outputs": [],
   "source": [
    "all_pred['Lead Score']=all_pred['Converted_Probability'].apply(lambda x:round(x*100))"
   ]
  },
  {
   "cell_type": "code",
   "execution_count": 203,
   "id": "4723a355",
   "metadata": {},
   "outputs": [
    {
     "data": {
      "text/html": [
       "<div>\n",
       "<style scoped>\n",
       "    .dataframe tbody tr th:only-of-type {\n",
       "        vertical-align: middle;\n",
       "    }\n",
       "\n",
       "    .dataframe tbody tr th {\n",
       "        vertical-align: top;\n",
       "    }\n",
       "\n",
       "    .dataframe thead th {\n",
       "        text-align: right;\n",
       "    }\n",
       "</style>\n",
       "<table border=\"1\" class=\"dataframe\">\n",
       "  <thead>\n",
       "    <tr style=\"text-align: right;\">\n",
       "      <th></th>\n",
       "      <th>Prospect ID</th>\n",
       "      <th>Converted_Probability</th>\n",
       "      <th>Converted</th>\n",
       "      <th>Final_Pred</th>\n",
       "      <th>Lead Score</th>\n",
       "    </tr>\n",
       "  </thead>\n",
       "  <tbody>\n",
       "    <tr>\n",
       "      <th>2722</th>\n",
       "      <td>1939</td>\n",
       "      <td>0.317795</td>\n",
       "      <td>0</td>\n",
       "      <td>1</td>\n",
       "      <td>32</td>\n",
       "    </tr>\n",
       "    <tr>\n",
       "      <th>2723</th>\n",
       "      <td>1540</td>\n",
       "      <td>0.504925</td>\n",
       "      <td>1</td>\n",
       "      <td>1</td>\n",
       "      <td>50</td>\n",
       "    </tr>\n",
       "    <tr>\n",
       "      <th>2724</th>\n",
       "      <td>5198</td>\n",
       "      <td>0.094328</td>\n",
       "      <td>1</td>\n",
       "      <td>0</td>\n",
       "      <td>9</td>\n",
       "    </tr>\n",
       "    <tr>\n",
       "      <th>2725</th>\n",
       "      <td>8660</td>\n",
       "      <td>0.100340</td>\n",
       "      <td>0</td>\n",
       "      <td>0</td>\n",
       "      <td>10</td>\n",
       "    </tr>\n",
       "    <tr>\n",
       "      <th>2726</th>\n",
       "      <td>6219</td>\n",
       "      <td>0.210999</td>\n",
       "      <td>0</td>\n",
       "      <td>0</td>\n",
       "      <td>21</td>\n",
       "    </tr>\n",
       "  </tbody>\n",
       "</table>\n",
       "</div>"
      ],
      "text/plain": [
       "      Prospect ID  Converted_Probability  Converted  Final_Pred  Lead Score\n",
       "2722         1939               0.317795          0           1          32\n",
       "2723         1540               0.504925          1           1          50\n",
       "2724         5198               0.094328          1           0           9\n",
       "2725         8660               0.100340          0           0          10\n",
       "2726         6219               0.210999          0           0          21"
      ]
     },
     "execution_count": 203,
     "metadata": {},
     "output_type": "execute_result"
    }
   ],
   "source": [
    "all_pred.tail()"
   ]
  },
  {
   "cell_type": "markdown",
   "id": "e89d3f04",
   "metadata": {},
   "source": [
    "- Based on Lead Score , team can approach relevent leads"
   ]
  }
 ],
 "metadata": {
  "kernelspec": {
   "display_name": "Python 3",
   "language": "python",
   "name": "python3"
  },
  "language_info": {
   "codemirror_mode": {
    "name": "ipython",
    "version": 3
   },
   "file_extension": ".py",
   "mimetype": "text/x-python",
   "name": "python",
   "nbconvert_exporter": "python",
   "pygments_lexer": "ipython3",
   "version": "3.8.8"
  }
 },
 "nbformat": 4,
 "nbformat_minor": 5
}
